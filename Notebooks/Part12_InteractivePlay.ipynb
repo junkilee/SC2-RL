{
 "cells": [
  {
   "cell_type": "markdown",
   "metadata": {},
   "source": [
    "# Interactive Play\n",
    "\n",
    "Idea: define and play high-level moves and show the results before and after with some kind of rendering"
   ]
  },
  {
   "cell_type": "code",
   "execution_count": 1,
   "metadata": {},
   "outputs": [
    {
     "name": "stdout",
     "output_type": "stream",
     "text": [
      "pygame 1.9.6\n",
      "Hello from the pygame community. https://www.pygame.org/contribute.html\n"
     ]
    }
   ],
   "source": [
    "import sys\n",
    "sys.path.insert(0, \"../\")\n",
    "import copy\n",
    "import matplotlib.pyplot as plt\n",
    "import numpy as np\n",
    "from SC_Utils.game_utils import init_game, ObsProcesser\n",
    "from SC_Utils.render import *\n",
    "from Utils import test_SCEnv_motion as actions"
   ]
  },
  {
   "cell_type": "code",
   "execution_count": 2,
   "metadata": {},
   "outputs": [],
   "source": [
    "class InteractivePlay():\n",
    "    def __init__(self, map_name, screen_res, minimap_res, **kwargs):\n",
    "        self.screen_res = screen_res\n",
    "        self.minimap_res = minimap_res\n",
    "        self.current_state = None\n",
    "        self.last_state = None\n",
    "        game_params = dict(feature_screen=screen_res, feature_minimap=minimap_res, action_space=\"FEATURES\") \n",
    "        self.env = init_game(game_params, map_name=map_name, max_steps=256, random_seed=1)\n",
    "        self.obs_proc = ObsProcesser(**kwargs)\n",
    "        \n",
    "    def reset(self):\n",
    "        obs = self.env.reset()\n",
    "        state, names = self.obs_proc.get_state(obs)\n",
    "        self.current_state = state\n",
    "        self.render(names)\n",
    "        return\n",
    "    \n",
    "    def step(self, action):\n",
    "        self.last_state = copy.deepcopy(self.current_state)\n",
    "        obs = self.env.step(actions=action)\n",
    "        state, names = self.obs_proc.get_state(obs)\n",
    "        self.current_state = state\n",
    "        return names\n",
    "    \n",
    "    def render(self, names, screen_only=True):\n",
    "        self.render_screen(names)\n",
    "        if not screen_only:\n",
    "            self.render_minimap()\n",
    "        plt.show()\n",
    "        return\n",
    "    \n",
    "    def render_screen(self, names):\n",
    "        plot_screen(self.current_state, names, self.last_state)\n",
    "        return\n",
    "    \n",
    "    def render_minimap(self):\n",
    "        raise Exception('Not implemented')\n",
    "    \n",
    "    def interactive_step(self, action):\n",
    "        names = self.step(action)\n",
    "        self.render(names)\n",
    "        return"
   ]
  },
  {
   "cell_type": "code",
   "execution_count": 3,
   "metadata": {},
   "outputs": [],
   "source": [
    "map_name = 'MoveToBeacon'\n",
    "screen_res, minimap_res = 64, 32\n",
    "screen_names = ['visibility_map', 'player_relative', 'unit_density']\n",
    "preproc_args = dict(screen_names=screen_names)"
   ]
  },
  {
   "cell_type": "code",
   "execution_count": 4,
   "metadata": {},
   "outputs": [],
   "source": [
    "choices = ['upper-right',\n",
    "           'upper-center',\n",
    "           'upper-left',\n",
    "           'middle-right',\n",
    "           'middle-center',\n",
    "           'middle-left',\n",
    "           'lower-right',\n",
    "           'lower-center',\n",
    "           'lower-left']\n",
    "\n",
    "RESOLUTION = screen_res\n",
    "yx_points_dict = { 'upper-right':[0, RESOLUTION-1],\n",
    "                   'upper-center':[0, RESOLUTION//2],\n",
    "                   'upper-left':[0,0],\n",
    "                   'middle-right':[RESOLUTION//2, RESOLUTION-1],\n",
    "                   'middle-center':[RESOLUTION//2, RESOLUTION//2],\n",
    "                   'middle-left':[RESOLUTION//2, 0],\n",
    "                   'lower-right':[RESOLUTION-1,RESOLUTION-1],\n",
    "                   'lower-center':[RESOLUTION-1,RESOLUTION//2],\n",
    "                   'lower-left':[RESOLUTION-1, 0] \n",
    "                 }"
   ]
  },
  {
   "cell_type": "code",
   "execution_count": 5,
   "metadata": {},
   "outputs": [],
   "source": [
    "iplay = InteractivePlay(map_name, screen_res, minimap_res, **preproc_args)"
   ]
  },
  {
   "cell_type": "code",
   "execution_count": 6,
   "metadata": {},
   "outputs": [
    {
     "data": {
      "image/png": "[encoded data removed]",
      "text/plain": [
       "<Figure size 432x288 with 1 Axes>"
      ]
     },
     "metadata": {},
     "output_type": "display_data"
    }
   ],
   "source": [
    "iplay.reset()"
   ]
  },
  {
   "cell_type": "code",
   "execution_count": 7,
   "metadata": {},
   "outputs": [
    {
     "data": {
      "image/png": "[encoded data removed]",
      "text/plain": [
       "<Figure size 432x288 with 1 Axes>"
      ]
     },
     "metadata": {},
     "output_type": "display_data"
    }
   ],
   "source": [
    "a = actions.select()\n",
    "iplay.interactive_step(a)"
   ]
  },
  {
   "cell_type": "code",
   "execution_count": 28,
   "metadata": {},
   "outputs": [
    {
     "data": {
      "image/png": "[encoded data removed]",
      "text/plain": [
       "<Figure size 432x288 with 1 Axes>"
      ]
     },
     "metadata": {},
     "output_type": "display_data"
    }
   ],
   "source": [
    "p = yx_points_dict['lower-right']\n",
    "a = actions.move([p[1],p[0]]) # xfirst\n",
    "iplay.interactive_step(a)"
   ]
  },
  {
   "cell_type": "code",
   "execution_count": null,
   "metadata": {},
   "outputs": [],
   "source": []
  }
 ],
 "metadata": {
  "kernelspec": {
   "display_name": "Python 3",
   "language": "python",
   "name": "python3"
  },
  "language_info": {
   "codemirror_mode": {
    "name": "ipython",
    "version": 3
   },
   "file_extension": ".py",
   "mimetype": "text/x-python",
   "name": "python",
   "nbconvert_exporter": "python",
   "pygments_lexer": "ipython3",
   "version": "3.7.6"
  }
 },
 "nbformat": 4,
 "nbformat_minor": 2
}
