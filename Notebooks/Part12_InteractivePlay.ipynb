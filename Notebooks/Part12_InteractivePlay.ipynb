{
 "cells": [
  {
   "cell_type": "markdown",
   "metadata": {},
   "source": [
    "# Interactive Play\n",
    "\n",
    "Idea: define and play high-level moves and show the results before and after with some kind of rendering"
   ]
  },
  {
   "cell_type": "code",
   "execution_count": 2,
   "metadata": {},
   "outputs": [
    {
     "name": "stdout",
     "output_type": "stream",
     "text": [
      "pygame 1.9.6\n",
      "Hello from the pygame community. https://www.pygame.org/contribute.html\n"
     ]
    }
   ],
   "source": [
    "import sys\n",
    "sys.path.insert(0, \"../\")\n",
    "import copy\n",
    "import matplotlib.pyplot as plt\n",
    "import numpy as np\n",
    "from SC_Utils.game_utils import init_game, ObsProcesser\n",
    "from SC_Utils.render import *\n",
    "from Utils import test_SCEnv_motion as actions\n",
    "from pysc2.lib import actions as sc_actions"
   ]
  },
  {
   "cell_type": "code",
   "execution_count": 36,
   "metadata": {},
   "outputs": [],
   "source": [
    "class InteractivePlay():\n",
    "    def __init__(self, map_name, screen_res, minimap_res, **kwargs):\n",
    "        self.screen_res = screen_res\n",
    "        self.minimap_res = minimap_res\n",
    "        self.current_state = None\n",
    "        self.last_state = None\n",
    "        game_params = dict(feature_screen=screen_res, feature_minimap=minimap_res, action_space=\"FEATURES\") \n",
    "        self.env = init_game(game_params, map_name=map_name, max_steps=256, random_seed=1)\n",
    "        self.obs_proc = ObsProcesser(**kwargs)\n",
    "        \n",
    "    def reset(self, show_available=True):\n",
    "        obs = self.env.reset()\n",
    "        if show_available:\n",
    "            print(\"Available actions: \\n\")\n",
    "            for a in obs[0].observation.available_actions:\n",
    "                print(sc_actions.FUNCTIONS[a])\n",
    "        state, names = self.obs_proc.get_state(obs)\n",
    "        self.current_state = state\n",
    "        self.print_unit_positions(names)\n",
    "        self.render(names)\n",
    "        return\n",
    "    \n",
    "    def step(self, action, show_available=False):\n",
    "        self.last_state = copy.deepcopy(self.current_state)\n",
    "        print(\"Action taken: \", action[0])\n",
    "        obs = self.env.step(actions=action)\n",
    "        reward = obs[0].reward\n",
    "        print(\"Reward: \", reward)\n",
    "        if show_available:\n",
    "            print(\"Control groups: \", obs[0].observation.control_groups)\n",
    "            print(\"Available actions: \\n\")\n",
    "            for a in obs[0].observation.available_actions:\n",
    "                print(sc_actions.FUNCTIONS[a])\n",
    "        state, names = self.obs_proc.get_state(obs)\n",
    "        self.current_state = state\n",
    "        return names\n",
    "    \n",
    "    def render(self, names, screen_only=True):\n",
    "        self.render_screen(names)\n",
    "        if not screen_only:\n",
    "            self.render_minimap()\n",
    "        plt.show()\n",
    "        return\n",
    "    \n",
    "    def render_screen(self, names):\n",
    "        plot_screen(self.current_state, names, self.last_state)\n",
    "        return\n",
    "    \n",
    "    def render_minimap(self):\n",
    "        raise Exception('Not implemented')\n",
    "    \n",
    "    def interactive_step(self, action, show_available=False):\n",
    "        names = self.step(action, show_available)\n",
    "        self.print_unit_positions(names)\n",
    "        self.render(names)\n",
    "        return\n",
    "    \n",
    "    def print_unit_positions(self, names):\n",
    "        s = self.current_state['screen_layers']\n",
    "        screen_names = names['screen_names']\n",
    "        \n",
    "        plot = True\n",
    "        if 'player_relative_1' in screen_names:\n",
    "            friendly_idx = np.where(screen_names == 'player_relative_1')[0]\n",
    "            neutral_idx = np.where(screen_names == 'player_relative_3')[0]\n",
    "            enemy_idx = np.where(screen_names == 'player_relative_4')[0]\n",
    "        else:\n",
    "            print(\"No player relative layer available\")\n",
    "            plot = False\n",
    "            \n",
    "        if plot:\n",
    "            player_ys, player_xs = s[friendly_idx].reshape(s.shape[-2:]).nonzero()\n",
    "            print(\"Friendly units positions: \")\n",
    "            for x, y in zip(player_xs, player_ys):\n",
    "                print('x,y: ', x,y)\n",
    "                \n",
    "            player_ys, player_xs = s[neutral_idx].reshape(s.shape[-2:]).nonzero()\n",
    "            print(\"Neutral units positions: \", player_xs, player_ys)\n",
    "                \n",
    "            player_ys, player_xs = s[enemy_idx].reshape(s.shape[-2:]).nonzero()\n",
    "            print(\"Enemy units positions: \")\n",
    "            for x, y in zip(player_xs, player_ys):\n",
    "                print('x,y: ', x,y)\n",
    "        return\n",
    "    \n",
    "    def close(self):\n",
    "        self.env.close()"
   ]
  },
  {
   "cell_type": "code",
   "execution_count": 37,
   "metadata": {},
   "outputs": [],
   "source": [
    "map_name = 'CollectMineralShards'#'MoveToBeacon'\n",
    "screen_res, minimap_res = 32, 32\n",
    "screen_names = ['visibility_map', 'player_relative', 'unit_density','selected']\n",
    "preproc_args = dict(screen_names=screen_names)"
   ]
  },
  {
   "cell_type": "code",
   "execution_count": 38,
   "metadata": {},
   "outputs": [],
   "source": [
    "choices = ['upper-right',\n",
    "           'upper-center',\n",
    "           'upper-left',\n",
    "           'middle-right',\n",
    "           'middle-center',\n",
    "           'middle-left',\n",
    "           'lower-right',\n",
    "           'lower-center',\n",
    "           'lower-left']\n",
    "\n",
    "RESOLUTION = screen_res\n",
    "yx_points_dict = { 'upper-right':[0, RESOLUTION-1],\n",
    "                   'upper-center':[0, RESOLUTION//2],\n",
    "                   'upper-left':[0,0],\n",
    "                   'middle-right':[RESOLUTION//2, RESOLUTION-1],\n",
    "                   'middle-center':[RESOLUTION//2, RESOLUTION//2],\n",
    "                   'middle-left':[RESOLUTION//2, 0],\n",
    "                   'lower-right':[RESOLUTION-1,RESOLUTION-1],\n",
    "                   'lower-center':[RESOLUTION-1,RESOLUTION//2],\n",
    "                   'lower-left':[RESOLUTION-1, 0] \n",
    "                 }"
   ]
  },
  {
   "cell_type": "markdown",
   "metadata": {},
   "source": [
    "Note: after some experiments it appears that clicking on top of a mineral shard somehow is prohibited (in the sense that the resulting action is null)."
   ]
  },
  {
   "cell_type": "markdown",
   "metadata": {},
   "source": [
    "## Example 1 - Control group actions\n",
    "Action: 4/select_control_group (4/control_group_act [5]; 5/control_group_id [10])\n",
    "\n",
    "control_group_act meanings:\n",
    "- recall, set, append, set_and_steal, append_and_steal\n",
    "\n",
    "So probably to create a control group you first select maunally the units and then you play select_control_group([[ set ], [ 0 ]]) to assign the selected unit to control group 0. **Verified in the example above.**\n",
    "\n",
    "Question: how is it possible to recognize which unit is inside which control group? "
   ]
  },
  {
   "cell_type": "code",
   "execution_count": 39,
   "metadata": {},
   "outputs": [],
   "source": [
    "iplay = InteractivePlay(map_name, screen_res, minimap_res, **preproc_args)"
   ]
  },
  {
   "cell_type": "code",
   "execution_count": 40,
   "metadata": {
    "scrolled": false
   },
   "outputs": [
    {
     "name": "stdout",
     "output_type": "stream",
     "text": [
      "Available actions: \n",
      "\n",
      "0/no_op ()\n",
      "1/move_camera (1/minimap [0, 0])\n",
      "2/select_point (6/select_point_act [4]; 0/screen [0, 0])\n",
      "3/select_rect (7/select_add [2]; 0/screen [0, 0]; 2/screen2 [0, 0])\n",
      "4/select_control_group (4/control_group_act [5]; 5/control_group_id [10])\n",
      "7/select_army (7/select_add [2])\n",
      "Friendly units positions: \n",
      "x,y:  14 5\n",
      "x,y:  6 11\n",
      "Neutral units positions:  [22 12 11 27 11 12 25  3 23  3  7  8 15  6 22  6 27  7 19 10] [ 5  8  9  9 10 13 13 14 14 16 16 16 16 17 17 18 18 19 19 20]\n",
      "Enemy units positions: \n"
     ]
    },
    {
     "data": {
      "image/png": "[encoded data removed]",
      "text/plain": [
       "<Figure size 432x288 with 1 Axes>"
      ]
     },
     "metadata": {},
     "output_type": "display_data"
    }
   ],
   "source": [
    "iplay.reset()"
   ]
  },
  {
   "cell_type": "code",
   "execution_count": 41,
   "metadata": {},
   "outputs": [
    {
     "name": "stdout",
     "output_type": "stream",
     "text": [
      "Action taken:  FunctionCall(function=3, arguments=[[0], [12, 4], [16, 6]])\n",
      "Reward:  0\n",
      "Control groups:  [[0 0]\n",
      " [0 0]\n",
      " [0 0]\n",
      " [0 0]\n",
      " [0 0]\n",
      " [0 0]\n",
      " [0 0]\n",
      " [0 0]\n",
      " [0 0]\n",
      " [0 0]]\n",
      "Available actions: \n",
      "\n",
      "0/no_op ()\n",
      "1/move_camera (1/minimap [0, 0])\n",
      "2/select_point (6/select_point_act [4]; 0/screen [0, 0])\n",
      "3/select_rect (7/select_add [2]; 0/screen [0, 0]; 2/screen2 [0, 0])\n",
      "4/select_control_group (4/control_group_act [5]; 5/control_group_id [10])\n",
      "453/Stop_quick (3/queued [2])\n",
      "451/Smart_screen (3/queued [2]; 0/screen [0, 0])\n",
      "7/select_army (7/select_add [2])\n",
      "452/Smart_minimap (3/queued [2]; 1/minimap [0, 0])\n",
      "331/Move_screen (3/queued [2]; 0/screen [0, 0])\n",
      "332/Move_minimap (3/queued [2]; 1/minimap [0, 0])\n",
      "333/Patrol_screen (3/queued [2]; 0/screen [0, 0])\n",
      "334/Patrol_minimap (3/queued [2]; 1/minimap [0, 0])\n",
      "12/Attack_screen (3/queued [2]; 0/screen [0, 0])\n",
      "13/Attack_minimap (3/queued [2]; 1/minimap [0, 0])\n",
      "274/HoldPosition_quick (3/queued [2])\n",
      "Friendly units positions: \n",
      "x,y:  14 5\n",
      "x,y:  6 11\n",
      "Neutral units positions:  [22 12 11 27 11 12 25  3 23  3  7  8 15  6 22  6 27  7 19 10] [ 5  8  9  9 10 13 13 14 14 16 16 16 16 17 17 18 18 19 19 20]\n",
      "Enemy units positions: \n"
     ]
    },
    {
     "data": {
      "image/png": "[encoded data removed]",
      "text/plain": [
       "<Figure size 432x288 with 1 Axes>"
      ]
     },
     "metadata": {},
     "output_type": "display_data"
    }
   ],
   "source": [
    "a_id = 3\n",
    "a_args = [[0],[12,4],[16,6]]\n",
    "a = [sc_actions.FunctionCall(a_id, a_args)]\n",
    "iplay.interactive_step(a, show_available=True)"
   ]
  },
  {
   "cell_type": "code",
   "execution_count": 42,
   "metadata": {},
   "outputs": [
    {
     "name": "stdout",
     "output_type": "stream",
     "text": [
      "Action taken:  FunctionCall(function=4, arguments=[[1], [0]])\n",
      "Reward:  0\n",
      "Friendly units positions: \n",
      "x,y:  14 5\n",
      "x,y:  6 11\n",
      "Neutral units positions:  [22 12 11 27 11 12 25  3 23  3  7  8 15  6 22  6 27  7 19 10] [ 5  8  9  9 10 13 13 14 14 16 16 16 16 17 17 18 18 19 19 20]\n",
      "Enemy units positions: \n"
     ]
    },
    {
     "data": {
      "image/png": "[encoded data removed]",
      "text/plain": [
       "<Figure size 432x288 with 1 Axes>"
      ]
     },
     "metadata": {},
     "output_type": "display_data"
    }
   ],
   "source": [
    "# select_control_group - set new control group\n",
    "a_id = 4\n",
    "a_args = [[1],[0]]\n",
    "a = [sc_actions.FunctionCall(a_id, a_args)]\n",
    "iplay.interactive_step(a)"
   ]
  },
  {
   "cell_type": "code",
   "execution_count": 43,
   "metadata": {},
   "outputs": [
    {
     "name": "stdout",
     "output_type": "stream",
     "text": [
      "Action taken:  FunctionCall(function=<_Functions.Attack_screen: 12>, arguments=[[0], [23, 5]])\n",
      "Reward:  0\n",
      "Friendly units positions: \n",
      "x,y:  16 5\n",
      "x,y:  6 11\n",
      "Neutral units positions:  [22 12 11 27 11 12 25  3 23  3  7  8 15  6 22  6 27  7 19 10] [ 5  8  9  9 10 13 13 14 14 16 16 16 16 17 17 18 18 19 19 20]\n",
      "Enemy units positions: \n"
     ]
    },
    {
     "data": {
      "image/png": "[encoded data removed]",
      "text/plain": [
       "<Figure size 432x288 with 1 Axes>"
      ]
     },
     "metadata": {},
     "output_type": "display_data"
    }
   ],
   "source": [
    "a = actions.move(point=[23,5]) # xfirst\n",
    "iplay.interactive_step(a)"
   ]
  },
  {
   "cell_type": "code",
   "execution_count": 44,
   "metadata": {},
   "outputs": [
    {
     "name": "stdout",
     "output_type": "stream",
     "text": [
      "Action taken:  FunctionCall(function=3, arguments=[[0], [5, 10], [7, 12]])\n",
      "Reward:  0\n",
      "Control groups:  [[48  1]\n",
      " [ 0  0]\n",
      " [ 0  0]\n",
      " [ 0  0]\n",
      " [ 0  0]\n",
      " [ 0  0]\n",
      " [ 0  0]\n",
      " [ 0  0]\n",
      " [ 0  0]\n",
      " [ 0  0]]\n",
      "Available actions: \n",
      "\n",
      "0/no_op ()\n",
      "1/move_camera (1/minimap [0, 0])\n",
      "2/select_point (6/select_point_act [4]; 0/screen [0, 0])\n",
      "3/select_rect (7/select_add [2]; 0/screen [0, 0]; 2/screen2 [0, 0])\n",
      "4/select_control_group (4/control_group_act [5]; 5/control_group_id [10])\n",
      "453/Stop_quick (3/queued [2])\n",
      "451/Smart_screen (3/queued [2]; 0/screen [0, 0])\n",
      "7/select_army (7/select_add [2])\n",
      "452/Smart_minimap (3/queued [2]; 1/minimap [0, 0])\n",
      "331/Move_screen (3/queued [2]; 0/screen [0, 0])\n",
      "332/Move_minimap (3/queued [2]; 1/minimap [0, 0])\n",
      "333/Patrol_screen (3/queued [2]; 0/screen [0, 0])\n",
      "334/Patrol_minimap (3/queued [2]; 1/minimap [0, 0])\n",
      "12/Attack_screen (3/queued [2]; 0/screen [0, 0])\n",
      "13/Attack_minimap (3/queued [2]; 1/minimap [0, 0])\n",
      "274/HoldPosition_quick (3/queued [2])\n",
      "Friendly units positions: \n",
      "x,y:  17 5\n",
      "x,y:  6 11\n",
      "Neutral units positions:  [22 12 11 27 11 12 25  3 23  3  7  8 15  6 22  6 27  7 19 10] [ 5  8  9  9 10 13 13 14 14 16 16 16 16 17 17 18 18 19 19 20]\n",
      "Enemy units positions: \n"
     ]
    },
    {
     "data": {
      "image/png": "[encoded data removed]",
      "text/plain": [
       "<Figure size 432x288 with 1 Axes>"
      ]
     },
     "metadata": {},
     "output_type": "display_data"
    }
   ],
   "source": [
    "# use select rectangle to select the other unit\n",
    "a_id = 3\n",
    "a_args = [[0],[5,10],[7,12]]\n",
    "a = [sc_actions.FunctionCall(a_id, a_args)]\n",
    "iplay.interactive_step(a, show_available=True)"
   ]
  },
  {
   "cell_type": "code",
   "execution_count": 45,
   "metadata": {},
   "outputs": [
    {
     "name": "stdout",
     "output_type": "stream",
     "text": [
      "Action taken:  FunctionCall(function=4, arguments=[[1], [1]])\n",
      "Reward:  0\n",
      "Friendly units positions: \n",
      "x,y:  19 5\n",
      "x,y:  6 11\n",
      "Neutral units positions:  [22 12 11 27 11 12 25  3 23  3  7  8 15  6 22  6 27  7 19 10] [ 5  8  9  9 10 13 13 14 14 16 16 16 16 17 17 18 18 19 19 20]\n",
      "Enemy units positions: \n"
     ]
    },
    {
     "data": {
      "image/png": "[encoded data removed]",
      "text/plain": [
       "<Figure size 432x288 with 1 Axes>"
      ]
     },
     "metadata": {},
     "output_type": "display_data"
    }
   ],
   "source": [
    "# select_control_group - set new control group\n",
    "a_id = 4\n",
    "a_args = [[1],[1]]\n",
    "a = [sc_actions.FunctionCall(a_id, a_args)]\n",
    "iplay.interactive_step(a)"
   ]
  },
  {
   "cell_type": "code",
   "execution_count": 46,
   "metadata": {},
   "outputs": [
    {
     "name": "stdout",
     "output_type": "stream",
     "text": [
      "Action taken:  FunctionCall(function=<_Functions.Attack_screen: 12>, arguments=[[0], [3, 12]])\n",
      "Reward:  0\n",
      "Friendly units positions: \n",
      "x,y:  20 5\n",
      "x,y:  5 11\n",
      "Neutral units positions:  [22 12 11 27 11 12 25  3 23  3  7  8 15  6 22  6 27  7 19 10] [ 5  8  9  9 10 13 13 14 14 16 16 16 16 17 17 18 18 19 19 20]\n",
      "Enemy units positions: \n"
     ]
    },
    {
     "data": {
      "image/png": "[encoded data removed]",
      "text/plain": [
       "<Figure size 432x288 with 1 Axes>"
      ]
     },
     "metadata": {},
     "output_type": "display_data"
    }
   ],
   "source": [
    "a = actions.move([3,12]) # xfirst\n",
    "iplay.interactive_step(a, show_available=False)"
   ]
  },
  {
   "cell_type": "code",
   "execution_count": 47,
   "metadata": {},
   "outputs": [
    {
     "name": "stdout",
     "output_type": "stream",
     "text": [
      "Action taken:  FunctionCall(function=4, arguments=[[0], [0]])\n",
      "Reward:  1\n",
      "Friendly units positions: \n",
      "x,y:  22 5\n",
      "x,y:  4 12\n",
      "Neutral units positions:  [12 11 27 11 12 25  3 23  3  7  8 15  6 22  6 27  7 19 10] [ 8  9  9 10 13 13 14 14 16 16 16 16 17 17 18 18 19 19 20]\n",
      "Enemy units positions: \n"
     ]
    },
    {
     "data": {
      "image/png": "[encoded data removed]",
      "text/plain": [
       "<Figure size 432x288 with 1 Axes>"
      ]
     },
     "metadata": {},
     "output_type": "display_data"
    }
   ],
   "source": [
    "# Now we select once again the first unit\n",
    "# select_control_group - set new control group\n",
    "a_id = 4\n",
    "a_args = [[0],[0]] #(select, group 0)\n",
    "a = [sc_actions.FunctionCall(a_id, a_args)]\n",
    "iplay.interactive_step(a)"
   ]
  },
  {
   "cell_type": "code",
   "execution_count": 48,
   "metadata": {},
   "outputs": [
    {
     "name": "stdout",
     "output_type": "stream",
     "text": [
      "Action taken:  FunctionCall(function=<_Functions.Attack_screen: 12>, arguments=[[0], [27, 10]])\n",
      "Reward:  0\n",
      "Friendly units positions: \n",
      "x,y:  23 6\n",
      "x,y:  3 12\n",
      "Neutral units positions:  [12 11 27 11 12 25  3 23  3  7  8 15  6 22  6 27  7 19 10] [ 8  9  9 10 13 13 14 14 16 16 16 16 17 17 18 18 19 19 20]\n",
      "Enemy units positions: \n"
     ]
    },
    {
     "data": {
      "image/png": "[encoded data removed]",
      "text/plain": [
       "<Figure size 432x288 with 1 Axes>"
      ]
     },
     "metadata": {},
     "output_type": "display_data"
    }
   ],
   "source": [
    "a = actions.move([27,10]) # xfirst\n",
    "iplay.interactive_step(a, show_available=False)"
   ]
  },
  {
   "cell_type": "code",
   "execution_count": 51,
   "metadata": {},
   "outputs": [
    {
     "name": "stdout",
     "output_type": "stream",
     "text": [
      "Action taken:  FunctionCall(function=<_Functions.no_op: 0>, arguments=[])\n",
      "Reward:  1\n",
      "Friendly units positions: \n",
      "x,y:  26 9\n",
      "x,y:  3 12\n",
      "Neutral units positions:  [12 11 11 12 25 23  3  7  8 15  6 22  6 27  7 19 10] [ 8  9 10 13 13 14 16 16 16 16 17 17 18 18 19 19 20]\n",
      "Enemy units positions: \n"
     ]
    },
    {
     "data": {
      "image/png": "[encoded data removed]",
      "text/plain": [
       "<Figure size 432x288 with 1 Axes>"
      ]
     },
     "metadata": {},
     "output_type": "display_data"
    }
   ],
   "source": [
    "a = actions.no_op()\n",
    "iplay.interactive_step(a)"
   ]
  },
  {
   "cell_type": "markdown",
   "metadata": {},
   "source": [
    "It seems that unlike in real game, trying to select a point or rectangle that does not contain units doesn't deselect the current unit. So basically with this action space and a single unit, you have to select your unit once and it will remain selected untill the end of the episode."
   ]
  },
  {
   "cell_type": "code",
   "execution_count": 52,
   "metadata": {},
   "outputs": [],
   "source": [
    "iplay.close()"
   ]
  },
  {
   "cell_type": "code",
   "execution_count": null,
   "metadata": {},
   "outputs": [],
   "source": [
    "# Other possible actions"
   ]
  },
  {
   "cell_type": "code",
   "execution_count": null,
   "metadata": {},
   "outputs": [],
   "source": [
    "a_id = 3\n",
    "a_args = [[0],[12,4],[16,6]]\n",
    "a = [sc_actions.FunctionCall(a_id, a_args)]\n",
    "iplay.interactive_step(a, show_available=True)"
   ]
  },
  {
   "cell_type": "code",
   "execution_count": null,
   "metadata": {},
   "outputs": [],
   "source": [
    "a = actions.select()\n",
    "iplay.interactive_step(a, show_available=False)"
   ]
  },
  {
   "cell_type": "code",
   "execution_count": null,
   "metadata": {},
   "outputs": [],
   "source": [
    "p = yx_points_dict['lower-center']\n",
    "print(p[1])\n",
    "a = actions.move([p[1],p[0]]) # xfirst\n",
    "print(a)\n",
    "iplay.interactive_step(a, show_available=False)"
   ]
  },
  {
   "cell_type": "markdown",
   "metadata": {},
   "source": [
    "Actions checked:\n",
    "- 0/no_op ()\n",
    "- 2/select_point (6/select_point_act [4]; 0/screen [0, 0])\n",
    "- 3/select_rect (7/select_add [2]; 0/screen [0, 0]; 2/screen2 [0, 0])\n",
    "- 4/select_control_group (4/control_group_act [5]; 5/control_group_id [10])\n",
    "- 7/select_army (7/select_add [2])\n",
    "- 12/Attack_screen (3/queued [2]; 0/screen [0, 0])\n",
    "\n",
    "\n",
    "Other actions to check:\n",
    "- 1/move_camera (1/minimap [0, 0]) - shows on the screen the part of the minimap in which it has clicked\n",
    "- 453/Stop_quick (3/queued [2]) - stops the unit in place\n",
    "- 451/Smart_screen (3/queued [2]; 0/screen [0, 0]) - no idea\n",
    "- 452/Smart_minimap (3/queued [2]; 1/minimap [0, 0]) - no idea\n",
    "- 331/Move_screen (3/queued [2]; 0/screen [0, 0]) - moves selected unit on that point of the screen\n",
    "- 332/Move_minimap (3/queued [2]; 1/minimap [0, 0]) - moves selected unit on that point of the minimap\n",
    "- 333/Patrol_screen (3/queued [2]; 0/screen [0, 0]) - goes back and forth from the current position and the one that has clicked on the screen\n",
    "- 334/Patrol_minimap (3/queued [2]; 1/minimap [0, 0]) - goes back and forth from the current position and the one that has clicked on the minimap\n",
    "- 13/Attack_minimap (3/queued [2]; 1/minimap [0, 0]) - moves selected unit on that point of the minimap while engaging in combat\n",
    "- 274/HoldPosition_quick (3/queued [2]) - forces unit to hold position (instead of going automatically against enemy troops?)\n",
    "\n",
    "So either we try to get the action space as big as possible or we enlarge it just enough to contain optimal strategies.\n",
    "\n",
    "**Optimal strategies**:\n",
    "- micromanagement of units (e.g. in CollectMineralShards the gathering of shards is immediate, so to have the two agents in 2 different places going after 2 different shards should be better) -> granular selection (can be done with select point and select rectangle, onestly between the 2 I would use the rectangle because it's easier)\n",
    "\n"
   ]
  },
  {
   "cell_type": "code",
   "execution_count": 9,
   "metadata": {},
   "outputs": [],
   "source": [
    "# Objective: create list of action ids that we want to use in the game\n",
    "\n",
    "# Ex1: no_op, select_army, attack_screen, Move_screen\n",
    "_NO_OP = sc_actions.FUNCTIONS['no_op'].id\n",
    "_SELECT_ARMY = sc_actions.FUNCTIONS['select_army'].id\n",
    "_ATTACK_SCREEN = sc_actions.FUNCTIONS['Attack_screen'].id\n",
    "_MOVE_SCREEN = sc_actions.FUNCTIONS['Move_screen'].id"
   ]
  },
  {
   "cell_type": "code",
   "execution_count": 11,
   "metadata": {},
   "outputs": [],
   "source": [
    "action_names = ['no_op', 'select_army', 'Attack_screen', 'Move_screen']"
   ]
  },
  {
   "cell_type": "code",
   "execution_count": 12,
   "metadata": {},
   "outputs": [
    {
     "data": {
      "text/plain": [
       "[<_Functions.no_op: 0>,\n",
       " <_Functions.select_army: 7>,\n",
       " <_Functions.Attack_screen: 12>,\n",
       " <_Functions.Move_screen: 331>]"
      ]
     },
     "execution_count": 12,
     "metadata": {},
     "output_type": "execute_result"
    }
   ],
   "source": [
    "action_ids = [sc_actions.FUNCTIONS[a_name].id for a_name in action_names]\n",
    "action_ids"
   ]
  },
  {
   "cell_type": "code",
   "execution_count": 16,
   "metadata": {},
   "outputs": [
    {
     "data": {
      "text/plain": [
       "dict"
      ]
     },
     "execution_count": 16,
     "metadata": {},
     "output_type": "execute_result"
    }
   ],
   "source": [
    "# this needs to be passed both to each worker to compute get_action_mask() func and to SpatialActorCritic\n",
    "action_dict = {i:action_ids[i] for i in range(len(action_ids))}\n",
    "type(action_dict)"
   ]
  },
  {
   "cell_type": "code",
   "execution_count": null,
   "metadata": {},
   "outputs": [],
   "source": []
  }
 ],
 "metadata": {
  "kernelspec": {
   "display_name": "Python 3",
   "language": "python",
   "name": "python3"
  },
  "language_info": {
   "codemirror_mode": {
    "name": "ipython",
    "version": 3
   },
   "file_extension": ".py",
   "mimetype": "text/x-python",
   "name": "python",
   "nbconvert_exporter": "python",
   "pygments_lexer": "ipython3",
   "version": "3.7.6"
  }
 },
 "nbformat": 4,
 "nbformat_minor": 2
}
