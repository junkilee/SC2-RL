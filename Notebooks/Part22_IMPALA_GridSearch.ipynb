{
 "cells": [
  {
   "cell_type": "markdown",
   "metadata": {},
   "source": [
    "# IMPALA Grid Search\n",
    "\n",
    "This notebook is a bit unusual, because instead of reading the normal logs of torchbeast is parsing the results from the slurm output. \n",
    "\n",
    "This is because I made a grid search with 24 combinations of learning rates, optimiziers and batch sizes on the mini-game CollectMineralShards in order to understand how the performance varies in all these cases, but unfortunately the default directory in which evrything is saved is torchbeast-YYYYMMDD-HHMMSS and since I executed everything on the CSC cluster many jobs started the same exact second, hence overriding each other's directories.\n",
    "\n",
    "This is why I'm doing this manual retrieval effort from the slurm raw output and I'm taking the hyper-parameters values out of nothing.\n"
   ]
  },
  {
   "cell_type": "code",
   "execution_count": 37,
   "metadata": {},
   "outputs": [],
   "source": [
    "import os\n",
    "import sys\n",
    "sys.path.insert(0, \"../\")\n",
    "import numpy as np\n",
    "import matplotlib.pyplot as plt\n",
    "import seaborn as sns"
   ]
  },
  {
   "cell_type": "markdown",
   "metadata": {},
   "source": [
    "## From slurm output to dictionaries saved on file"
   ]
  },
  {
   "cell_type": "code",
   "execution_count": 2,
   "metadata": {},
   "outputs": [],
   "source": [
    "# executed from ../logs/cluster_results/ dir, fix ID = f[6:13] counting backwards if needed\n",
    "def get_info_from_slurm_file(f):\n",
    "    \n",
    "    def get_Steps(f):\n",
    "        ID = f[6:13]\n",
    "        cmd = \"grep 'Steps' %s >> %s_tmp.txt\"%(f, ID)\n",
    "        clean_cmd = \"rm %s_tmp.txt\"%ID\n",
    "        os.system(clean_cmd)\n",
    "        os.system(cmd)\n",
    "        file_in = open('%s_tmp.txt'%ID, 'r') \n",
    "        lines = file_in.readlines() \n",
    "        steps = []\n",
    "        for l in lines:\n",
    "            tokens = l.split(' ')\n",
    "            steps.append(eval(tokens[5]))\n",
    "        os.system(clean_cmd)\n",
    "        return np.array(steps)\n",
    "\n",
    "    def get_variable(f, var_name):\n",
    "        possible_variables = [\"baseline_loss\", \"entropy_loss\", \"pg_loss\", \"mean_episode_return\", \"total_loss\"]\n",
    "        assert var_name in possible_variables, \\\n",
    "            (\"Expected one of \", possible_variables, \"got \"+var_name)\n",
    "\n",
    "        ID = f[6:13]\n",
    "        cmd = \"grep '%s' %s >> %s_tmp.txt\"%(var_name, f, ID)\n",
    "        clean_cmd = \"rm %s_tmp.txt\"%ID\n",
    "        os.system(clean_cmd)\n",
    "        os.system(cmd)\n",
    "        file_in = open('%s_tmp.txt'%ID, 'r') \n",
    "        lines = file_in.readlines() \n",
    "        x = []\n",
    "        for l in lines:\n",
    "            tokens = l.split(' ')\n",
    "            if len(tokens) > 5:\n",
    "                continue\n",
    "            value = tokens[-1].split(',')[0]\n",
    "            if value == 'nan':\n",
    "                x.append(np.NaN)\n",
    "            else:\n",
    "                x.append(eval(value))\n",
    "        os.system(clean_cmd)\n",
    "        return np.array(x)\n",
    "\n",
    "    results = {}\n",
    "    results['steps'] = get_Steps(f)\n",
    "    L = len(results['steps'])\n",
    "    var_names = [\"baseline_loss\", \"entropy_loss\", \"pg_loss\"]\n",
    "    for var_name in var_names:\n",
    "        results[var_name] = get_variable(f, var_name)\n",
    "        if len(results[var_name]) < L:\n",
    "            L = len(results[var_name])\n",
    "    results['score'] = get_variable(f, \"mean_episode_return\")\n",
    "    if len(results['score']) < L:\n",
    "            L = len(results['score'])\n",
    "    # make sure all results have same length\n",
    "    for k in results.keys():\n",
    "        results[k] = results[k][:L]\n",
    "    return results"
   ]
  },
  {
   "cell_type": "code",
   "execution_count": 5,
   "metadata": {},
   "outputs": [],
   "source": [
    "# slurm-<ID>.out -> results_<ID>.npy - need to execute just once\n",
    "disable = True\n",
    "if not disable:\n",
    "    # executed from ../logs/cluster_results/ dir, fix os.listdir() if needed\n",
    "    filenames = os.listdir()\n",
    "    slurm_files = [f for f in filenames if \"slurm\" in f]\n",
    "    for f in slurm_files:\n",
    "        results = get_info_from_slurm_file(f)\n",
    "        ID = f[6:13]\n",
    "        np.save(\"results_%s\"%ID, results)"
   ]
  },
  {
   "cell_type": "markdown",
   "metadata": {},
   "source": [
    "## Grid search analysis"
   ]
  },
  {
   "cell_type": "code",
   "execution_count": 27,
   "metadata": {},
   "outputs": [],
   "source": [
    "# slurm-ID: HPs + timing in minutes (manually looked at)\n",
    "HPs_dict = {\n",
    "    '3062790':{'batch_size':20, 'learning_rate':0.001, 'optim':'RMSprop','time':118.22},\n",
    "    '3062793':{'batch_size':20, 'learning_rate':0.001, 'optim':'Adam','time':121.66},\n",
    "    '3062794':{'batch_size':20, 'learning_rate':0.0007, 'optim':'RMSprop','time':119.16},\n",
    "    '3062795':{'batch_size':20, 'learning_rate':0.0007, 'optim':'Adam','time':120.55},\n",
    "    '3062796':{'batch_size':20, 'learning_rate':0.0003, 'optim':'RMSprop','time':123.82},\n",
    "    '3062797':{'batch_size':20, 'learning_rate':0.0003, 'optim':'Adam','time':121.85},\n",
    "    '3062798':{'batch_size':20, 'learning_rate':0.0001, 'optim':'RMSprop','time':123.90},\n",
    "    '3062802':{'batch_size':20, 'learning_rate':0.0001, 'optim':'Adam','time':117.83},\n",
    "    \n",
    "    '3062805':{'batch_size':40, 'learning_rate':0.001, 'optim':'RMSprop','time':138.04},\n",
    "    '3062808':{'batch_size':40, 'learning_rate':0.001, 'optim':'Adam','time':141.87},\n",
    "    # here I used batch size of 20 for error but was an interesting finiding because is twice as fast\n",
    "    '3062817':{'batch_size':20, 'learning_rate':0.0007, 'optim':'RMSprop','time':55.11}, \n",
    "    '3062821':{'batch_size':40, 'learning_rate':0.0007, 'optim':'Adam','time':137.78},\n",
    "    '3062825':{'batch_size':40, 'learning_rate':0.0003, 'optim':'RMSprop','time':142.73},\n",
    "    '3062827':{'batch_size':40, 'learning_rate':0.0003, 'optim':'Adam','time':136.60},\n",
    "    '3062829':{'batch_size':40, 'learning_rate':0.0001, 'optim':'RMSprop','time':134.90},\n",
    "    '3062831':{'batch_size':40, 'learning_rate':0.0001, 'optim':'Adam','time':135.28},\n",
    "    \n",
    "    '3062832':{'batch_size':60, 'learning_rate':0.001, 'optim':'RMSprop','time':163.74},\n",
    "    '3062834':{'batch_size':60, 'learning_rate':0.001, 'optim':'Adam','time':180.00}, # runned out of time (3h)\n",
    "    '3062837':{'batch_size':60, 'learning_rate':0.0007, 'optim':'RMSprop','time':163.10},\n",
    "    '3062838':{'batch_size':60, 'learning_rate':0.0007, 'optim':'Adam','time':162.53},\n",
    "    '3062839':{'batch_size':60, 'learning_rate':0.0003, 'optim':'RMSprop','time':167.03},\n",
    "    '3062840':{'batch_size':60, 'learning_rate':0.0003, 'optim':'Adam','time':166.37},\n",
    "    '3062841':{'batch_size':60, 'learning_rate':0.0001, 'optim':'RMSprop','time':164.44},\n",
    "    '3062843':{'batch_size':60, 'learning_rate':0.0001, 'optim':'Adam','time':172.61}\n",
    "}"
   ]
  },
  {
   "cell_type": "markdown",
   "metadata": {},
   "source": [
    "First of all we are going to compute the asymptotic performance of each HPs combination and attach it as an entry to HPs_dict."
   ]
  },
  {
   "cell_type": "code",
   "execution_count": 29,
   "metadata": {},
   "outputs": [],
   "source": [
    "load_dir = '../logs/cluster_results'\n",
    "scores = {}\n",
    "for k in HPs_dict.keys():\n",
    "    scores[k] = {}\n",
    "    results = np.load('%s/results_%s.npy'%(load_dir, k), allow_pickle=True).item()\n",
    "    # take last 100 updates, mask out NaN entries \n",
    "    # (when no terminal state was present in any trajectory used for update)\n",
    "    # and store the mean value\n",
    "    last100 = results['score'][-100:]\n",
    "    scores[k]['score'] = np.mean(last100[~np.isnan(last100)])"
   ]
  },
  {
   "cell_type": "code",
   "execution_count": 30,
   "metadata": {},
   "outputs": [],
   "source": [
    "# merging dictionaries\n",
    "HPs_dict = {k:{**HPs_dict[k], **scores[k]} for k in HPs_dict.keys()}"
   ]
  },
  {
   "cell_type": "code",
   "execution_count": 33,
   "metadata": {},
   "outputs": [],
   "source": [
    "# save to file \n",
    "np.save(\"%s/HPs_dict\"%load_dir, HPs_dict)"
   ]
  },
  {
   "cell_type": "code",
   "execution_count": 36,
   "metadata": {},
   "outputs": [],
   "source": [
    "# from dict to arrays\n",
    "batch_sizes = np.array([HPs_dict[k]['batch_size'] for k in HPs_dict.keys()])\n",
    "learning_rates = np.array([HPs_dict[k]['learning_rate'] for k in HPs_dict.keys()])\n",
    "optims = np.array([HPs_dict[k]['optim'] for k in HPs_dict.keys()])\n",
    "times = np.array([HPs_dict[k]['time'] for k in HPs_dict.keys()])\n",
    "scores = np.array([HPs_dict[k]['score'] for k in HPs_dict.keys()])"
   ]
  },
  {
   "cell_type": "code",
   "execution_count": 45,
   "metadata": {},
   "outputs": [
    {
     "data": {
      "text/plain": [
       "array([[20, 20, 20, 20, 20, 20, 20, 20],\n",
       "       [40, 40, 20, 40, 40, 40, 40, 40],\n",
       "       [60, 60, 60, 60, 60, 60, 60, 60]])"
      ]
     },
     "execution_count": 45,
     "metadata": {},
     "output_type": "execute_result"
    }
   ],
   "source": [
    "batch_sizes.reshape(3,8)"
   ]
  },
  {
   "cell_type": "code",
   "execution_count": 43,
   "metadata": {},
   "outputs": [
    {
     "data": {
      "text/plain": [
       "array([0.001 , 0.001 , 0.0007, 0.0007, 0.0003, 0.0003, 0.0001, 0.0001,\n",
       "       0.001 , 0.001 , 0.0007, 0.0007, 0.0003, 0.0003, 0.0001, 0.0001,\n",
       "       0.001 , 0.001 , 0.0007, 0.0007, 0.0003, 0.0003, 0.0001, 0.0001])"
      ]
     },
     "execution_count": 43,
     "metadata": {},
     "output_type": "execute_result"
    }
   ],
   "source": [
    "learning_rates"
   ]
  },
  {
   "cell_type": "code",
   "execution_count": 46,
   "metadata": {},
   "outputs": [
    {
     "data": {
      "text/plain": [
       "array([25.31836767, 62.19387849, 22.74277792, 64.41730917, 60.58115803,\n",
       "       55.90738914, 44.12970161, 54.30000081, 60.51260086, 21.16137181,\n",
       "       62.11675427, 23.04405293, 62.59367428, 64.71345451, 28.62407755,\n",
       "       54.06015175, 45.22983105, 30.02248594, 59.66729107, 29.61335154,\n",
       "       62.8462706 , 72.2307209 , 59.9302393 , 60.92408504])"
      ]
     },
     "execution_count": 46,
     "metadata": {},
     "output_type": "execute_result"
    }
   ],
   "source": [
    "scores"
   ]
  },
  {
   "cell_type": "code",
   "execution_count": 44,
   "metadata": {},
   "outputs": [
    {
     "data": {
      "text/plain": [
       "array([[25.31836767, 62.19387849, 22.74277792, 64.41730917, 60.58115803,\n",
       "        55.90738914, 44.12970161, 54.30000081],\n",
       "       [60.51260086, 21.16137181, 62.11675427, 23.04405293, 62.59367428,\n",
       "        64.71345451, 28.62407755, 54.06015175],\n",
       "       [45.22983105, 30.02248594, 59.66729107, 29.61335154, 62.8462706 ,\n",
       "        72.2307209 , 59.9302393 , 60.92408504]])"
      ]
     },
     "execution_count": 44,
     "metadata": {},
     "output_type": "execute_result"
    }
   ],
   "source": [
    "scores.reshape(3,8)"
   ]
  },
  {
   "cell_type": "code",
   "execution_count": 47,
   "metadata": {},
   "outputs": [
    {
     "data": {
      "text/plain": [
       "array([20, 40, 60])"
      ]
     },
     "execution_count": 47,
     "metadata": {},
     "output_type": "execute_result"
    }
   ],
   "source": [
    "unique_batch_sizes = np.unique(batch_sizes)\n",
    "unique_batch_sizes"
   ]
  },
  {
   "cell_type": "code",
   "execution_count": 49,
   "metadata": {},
   "outputs": [
    {
     "data": {
      "text/plain": [
       "array([0.001 , 0.0007, 0.0003, 0.0001])"
      ]
     },
     "execution_count": 49,
     "metadata": {},
     "output_type": "execute_result"
    }
   ],
   "source": [
    "unique_lr = np.unique(learning_rates)[::-1]\n",
    "unique_lr"
   ]
  },
  {
   "cell_type": "code",
   "execution_count": 58,
   "metadata": {},
   "outputs": [
    {
     "name": "stdout",
     "output_type": "stream",
     "text": [
      "Help on function heatmap in module seaborn.matrix:\n",
      "\n",
      "heatmap(data, vmin=None, vmax=None, cmap=None, center=None, robust=False, annot=None, fmt='.2g', annot_kws=None, linewidths=0, linecolor='white', cbar=True, cbar_kws=None, cbar_ax=None, square=False, xticklabels='auto', yticklabels='auto', mask=None, ax=None, **kwargs)\n",
      "    Plot rectangular data as a color-encoded matrix.\n",
      "    \n",
      "    This is an Axes-level function and will draw the heatmap into the\n",
      "    currently-active Axes if none is provided to the ``ax`` argument.  Part of\n",
      "    this Axes space will be taken and used to plot a colormap, unless ``cbar``\n",
      "    is False or a separate Axes is provided to ``cbar_ax``.\n",
      "    \n",
      "    Parameters\n",
      "    ----------\n",
      "    data : rectangular dataset\n",
      "        2D dataset that can be coerced into an ndarray. If a Pandas DataFrame\n",
      "        is provided, the index/column information will be used to label the\n",
      "        columns and rows.\n",
      "    vmin, vmax : floats, optional\n",
      "        Values to anchor the colormap, otherwise they are inferred from the\n",
      "        data and other keyword arguments.\n",
      "    cmap : matplotlib colormap name or object, or list of colors, optional\n",
      "        The mapping from data values to color space. If not provided, the\n",
      "        default will depend on whether ``center`` is set.\n",
      "    center : float, optional\n",
      "        The value at which to center the colormap when plotting divergant data.\n",
      "        Using this parameter will change the default ``cmap`` if none is\n",
      "        specified.\n",
      "    robust : bool, optional\n",
      "        If True and ``vmin`` or ``vmax`` are absent, the colormap range is\n",
      "        computed with robust quantiles instead of the extreme values.\n",
      "    annot : bool or rectangular dataset, optional\n",
      "        If True, write the data value in each cell. If an array-like with the\n",
      "        same shape as ``data``, then use this to annotate the heatmap instead\n",
      "        of the raw data.\n",
      "    fmt : string, optional\n",
      "        String formatting code to use when adding annotations.\n",
      "    annot_kws : dict of key, value mappings, optional\n",
      "        Keyword arguments for ``ax.text`` when ``annot`` is True.\n",
      "    linewidths : float, optional\n",
      "        Width of the lines that will divide each cell.\n",
      "    linecolor : color, optional\n",
      "        Color of the lines that will divide each cell.\n",
      "    cbar : boolean, optional\n",
      "        Whether to draw a colorbar.\n",
      "    cbar_kws : dict of key, value mappings, optional\n",
      "        Keyword arguments for `fig.colorbar`.\n",
      "    cbar_ax : matplotlib Axes, optional\n",
      "        Axes in which to draw the colorbar, otherwise take space from the\n",
      "        main Axes.\n",
      "    square : boolean, optional\n",
      "        If True, set the Axes aspect to \"equal\" so each cell will be\n",
      "        square-shaped.\n",
      "    xticklabels, yticklabels : \"auto\", bool, list-like, or int, optional\n",
      "        If True, plot the column names of the dataframe. If False, don't plot\n",
      "        the column names. If list-like, plot these alternate labels as the\n",
      "        xticklabels. If an integer, use the column names but plot only every\n",
      "        n label. If \"auto\", try to densely plot non-overlapping labels.\n",
      "    mask : boolean array or DataFrame, optional\n",
      "        If passed, data will not be shown in cells where ``mask`` is True.\n",
      "        Cells with missing values are automatically masked.\n",
      "    ax : matplotlib Axes, optional\n",
      "        Axes in which to draw the plot, otherwise use the currently-active\n",
      "        Axes.\n",
      "    kwargs : other keyword arguments\n",
      "        All other keyword arguments are passed to ``ax.pcolormesh``.\n",
      "    \n",
      "    Returns\n",
      "    -------\n",
      "    ax : matplotlib Axes\n",
      "        Axes object with the heatmap.\n",
      "    \n",
      "    See also\n",
      "    --------\n",
      "    clustermap : Plot a matrix using hierachical clustering to arrange the\n",
      "                 rows and columns.\n",
      "    \n",
      "    Examples\n",
      "    --------\n",
      "    \n",
      "    Plot a heatmap for a numpy array:\n",
      "    \n",
      "    .. plot::\n",
      "        :context: close-figs\n",
      "    \n",
      "        >>> import numpy as np; np.random.seed(0)\n",
      "        >>> import seaborn as sns; sns.set()\n",
      "        >>> uniform_data = np.random.rand(10, 12)\n",
      "        >>> ax = sns.heatmap(uniform_data)\n",
      "    \n",
      "    Change the limits of the colormap:\n",
      "    \n",
      "    .. plot::\n",
      "        :context: close-figs\n",
      "    \n",
      "        >>> ax = sns.heatmap(uniform_data, vmin=0, vmax=1)\n",
      "    \n",
      "    Plot a heatmap for data centered on 0 with a diverging colormap:\n",
      "    \n",
      "    .. plot::\n",
      "        :context: close-figs\n",
      "    \n",
      "        >>> normal_data = np.random.randn(10, 12)\n",
      "        >>> ax = sns.heatmap(normal_data, center=0)\n",
      "    \n",
      "    Plot a dataframe with meaningful row and column labels:\n",
      "    \n",
      "    .. plot::\n",
      "        :context: close-figs\n",
      "    \n",
      "        >>> flights = sns.load_dataset(\"flights\")\n",
      "        >>> flights = flights.pivot(\"month\", \"year\", \"passengers\")\n",
      "        >>> ax = sns.heatmap(flights)\n",
      "    \n",
      "    Annotate each cell with the numeric value using integer formatting:\n",
      "    \n",
      "    .. plot::\n",
      "        :context: close-figs\n",
      "    \n",
      "        >>> ax = sns.heatmap(flights, annot=True, fmt=\"d\")\n",
      "    \n",
      "    Add lines between each cell:\n",
      "    \n",
      "    .. plot::\n",
      "        :context: close-figs\n",
      "    \n",
      "        >>> ax = sns.heatmap(flights, linewidths=.5)\n",
      "    \n",
      "    Use a different colormap:\n",
      "    \n",
      "    .. plot::\n",
      "        :context: close-figs\n",
      "    \n",
      "        >>> ax = sns.heatmap(flights, cmap=\"YlGnBu\")\n",
      "    \n",
      "    Center the colormap at a specific value:\n",
      "    \n",
      "    .. plot::\n",
      "        :context: close-figs\n",
      "    \n",
      "        >>> ax = sns.heatmap(flights, center=flights.loc[\"January\", 1955])\n",
      "    \n",
      "    Plot every other column label and don't plot row labels:\n",
      "    \n",
      "    .. plot::\n",
      "        :context: close-figs\n",
      "    \n",
      "        >>> data = np.random.randn(50, 20)\n",
      "        >>> ax = sns.heatmap(data, xticklabels=2, yticklabels=False)\n",
      "    \n",
      "    Don't draw a colorbar:\n",
      "    \n",
      "    .. plot::\n",
      "        :context: close-figs\n",
      "    \n",
      "        >>> ax = sns.heatmap(flights, cbar=False)\n",
      "    \n",
      "    Use different axes for the colorbar:\n",
      "    \n",
      "    .. plot::\n",
      "        :context: close-figs\n",
      "    \n",
      "        >>> grid_kws = {\"height_ratios\": (.9, .05), \"hspace\": .3}\n",
      "        >>> f, (ax, cbar_ax) = plt.subplots(2, gridspec_kw=grid_kws)\n",
      "        >>> ax = sns.heatmap(flights, ax=ax,\n",
      "        ...                  cbar_ax=cbar_ax,\n",
      "        ...                  cbar_kws={\"orientation\": \"horizontal\"})\n",
      "    \n",
      "    Use a mask to plot only part of a matrix\n",
      "    \n",
      "    .. plot::\n",
      "        :context: close-figs\n",
      "    \n",
      "        >>> corr = np.corrcoef(np.random.randn(10, 200))\n",
      "        >>> mask = np.zeros_like(corr)\n",
      "        >>> mask[np.triu_indices_from(mask)] = True\n",
      "        >>> with sns.axes_style(\"white\"):\n",
      "        ...     ax = sns.heatmap(corr, mask=mask, vmax=.3, square=True)\n",
      "\n"
     ]
    }
   ],
   "source": [
    "help(sns.heatmap)"
   ]
  },
  {
   "cell_type": "code",
   "execution_count": 77,
   "metadata": {},
   "outputs": [
    {
     "data": {
      "image/png": "[encoded data removed]",
      "text/plain": [
       "<Figure size 1296x432 with 4 Axes>"
      ]
     },
     "metadata": {
      "needs_background": "light"
     },
     "output_type": "display_data"
    }
   ],
   "source": [
    "fig, (ax1, ax2) = plt.subplots(nrows=1, ncols=2,figsize=(18,6))\n",
    "\n",
    "# First heat map\n",
    "adam_scores = scores[optims==\"Adam\"]\n",
    "sns.heatmap(adam_scores.reshape(3,4).T, \n",
    "            vmin = scores.min(),\n",
    "            vmax = scores.max(),\n",
    "            ax = ax1,\n",
    "            annot = True, \n",
    "            cbar_kws = {'label' : 'score'})\n",
    "\n",
    "B_index = ['%d'%b for b in unique_batch_sizes]\n",
    "ax1.set_xticklabels(B_index, rotation = 45)\n",
    "ax1.set_xlabel('Batch size', fontsize = 16)\n",
    "\n",
    "lr_index = ['%.4f'%lr for lr in unique_lr]\n",
    "ax1.set_yticklabels(lr_index, rotation = 0)\n",
    "ax1.set_ylabel('Learning rate', fontsize = 16)\n",
    "ax1.figure.axes[-1].yaxis.label.set_size(18)\n",
    "\n",
    "ax1.set_title(\"Asymptotic performance for Adam\\n\", fontsize = 18)\n",
    "\n",
    "# Second heat map\n",
    "RMS_scores = scores[optims==\"RMSprop\"]\n",
    "sns.heatmap(RMS_scores.reshape(3,4).T, \n",
    "            vmin = scores.min(),\n",
    "            vmax = scores.max(),\n",
    "            ax = ax2,\n",
    "            annot = True, \n",
    "            cbar_kws = {'label' : 'score'})\n",
    "\n",
    "B_index = ['%d'%b for b in unique_batch_sizes]\n",
    "ax2.set_xticklabels(B_index, rotation = 45)\n",
    "ax2.set_xlabel('Batch size', fontsize = 16)\n",
    "\n",
    "lr_index = ['%.4f'%lr for lr in unique_lr]\n",
    "ax2.set_yticklabels(lr_index, rotation = 0)\n",
    "ax2.set_ylabel('Learning rate', fontsize = 16)\n",
    "ax2.figure.axes[-1].yaxis.label.set_size(18)\n",
    "\n",
    "ax2.set_title(\"Asymptotic performance for RMSprop\\n\", fontsize = 18)\n",
    "\n",
    "plt.show()"
   ]
  },
  {
   "cell_type": "code",
   "execution_count": 76,
   "metadata": {},
   "outputs": [
    {
     "data": {
      "image/png": "[encoded data removed]",
      "text/plain": [
       "<Figure size 1296x432 with 4 Axes>"
      ]
     },
     "metadata": {
      "needs_background": "light"
     },
     "output_type": "display_data"
    }
   ],
   "source": [
    "fig, (ax1, ax2) = plt.subplots(nrows=1, ncols=2,figsize=(18,6))\n",
    "\n",
    "# First heat map\n",
    "adam_scores = times[optims==\"Adam\"]\n",
    "sns.heatmap(adam_scores.reshape(3,4).T, \n",
    "            vmin = times.min(),\n",
    "            vmax = times.max(),\n",
    "            ax = ax1,\n",
    "            annot = True, \n",
    "            fmt = '3.0f',\n",
    "            cbar_kws = {'label' : 'score'})\n",
    "\n",
    "B_index = ['%d'%b for b in unique_batch_sizes]\n",
    "ax1.set_xticklabels(B_index, rotation = 45)\n",
    "ax1.set_xlabel('Batch size', fontsize = 16)\n",
    "\n",
    "lr_index = ['%.4f'%lr for lr in unique_lr]\n",
    "ax1.set_yticklabels(lr_index, rotation = 0)\n",
    "ax1.set_ylabel('Learning rate', fontsize = 16)\n",
    "ax1.figure.axes[-1].yaxis.label.set_size(18)\n",
    "\n",
    "ax1.set_title(\"Time to train (min) 240k env steps for Adam\\n\", fontsize = 18)\n",
    "\n",
    "# Second heat map\n",
    "RMS_scores = times[optims==\"RMSprop\"]\n",
    "sns.heatmap(RMS_scores.reshape(3,4).T, \n",
    "            vmin = times.min(),\n",
    "            vmax = times.max(),\n",
    "            ax = ax2,\n",
    "            annot = True, \n",
    "            fmt = '3.0f',\n",
    "            cbar_kws = {'label' : 'score'})\n",
    "\n",
    "B_index = ['%3d'%b for b in unique_batch_sizes]\n",
    "ax2.set_xticklabels(B_index, rotation = 45)\n",
    "ax2.set_xlabel('Batch size', fontsize = 16)\n",
    "\n",
    "lr_index = ['%.4f'%lr for lr in unique_lr]\n",
    "ax2.set_yticklabels(lr_index, rotation = 0)\n",
    "ax2.set_ylabel('Learning rate', fontsize = 16)\n",
    "ax2.figure.axes[-1].yaxis.label.set_size(18)\n",
    "\n",
    "ax2.set_title(\"Time to train (min) 240k env steps for RMSprop\\n\", fontsize = 18)\n",
    "\n",
    "plt.show()"
   ]
  },
  {
   "cell_type": "code",
   "execution_count": null,
   "metadata": {},
   "outputs": [],
   "source": []
  }
 ],
 "metadata": {
  "kernelspec": {
   "display_name": "Python 3",
   "language": "python",
   "name": "python3"
  },
  "language_info": {
   "codemirror_mode": {
    "name": "ipython",
    "version": 3
   },
   "file_extension": ".py",
   "mimetype": "text/x-python",
   "name": "python",
   "nbconvert_exporter": "python",
   "pygments_lexer": "ipython3",
   "version": "3.7.4"
  }
 },
 "nbformat": 4,
 "nbformat_minor": 4
}
