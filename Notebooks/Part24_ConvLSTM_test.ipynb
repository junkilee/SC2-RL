{
 "cells": [
  {
   "cell_type": "code",
   "execution_count": 1,
   "metadata": {},
   "outputs": [],
   "source": [
    "import sys\n",
    "sys.path.insert(0, \"../\")\n",
    "\n",
    "import numpy as np\n",
    "import torch \n",
    "import torch.nn as nn\n",
    "import torch.nn.functional as F\n",
    "from torch.distributions import Categorical\n",
    "\n",
    "from ConvLSTM_pytorch.convlstm import ConvLSTM"
   ]
  },
  {
   "cell_type": "markdown",
   "metadata": {},
   "source": [
    "# Test dataset\n",
    "\n",
    "Testing memory: <br>\n",
    "Given a sequence of x randomly generated, y is going to be the sum of all the pixels of the 2 frames before this one. \n",
    "\n",
    "x_0, x_1, x_2, x_3, ..., x_T  <br>\n",
    "y_0 = 0  <br>\n",
    "y_1 = x_0.sum()  <br>\n",
    "y_2 = x_0.sum() + x_1.sum()  <br>\n",
    "y_3 = x_1.sum() + x_2.sum() <br>\n",
    "\n",
    "and so on"
   ]
  },
  {
   "cell_type": "code",
   "execution_count": 55,
   "metadata": {},
   "outputs": [],
   "source": [
    "N = 10000 # sequences in dataset\n",
    "T = 10 # length of each sequence\n",
    "C = 1 # number of channels\n",
    "W = 10\n",
    "x = torch.rand(N, T, C, W, W)"
   ]
  },
  {
   "cell_type": "code",
   "execution_count": 56,
   "metadata": {},
   "outputs": [
    {
     "data": {
      "text/plain": [
       "torch.Size([10000, 11, 1, 10, 10])"
      ]
     },
     "execution_count": 56,
     "metadata": {},
     "output_type": "execute_result"
    }
   ],
   "source": [
    "x_padded = torch.cat([torch.zeros(N, 1, C, W, W),x], dim=1)\n",
    "x_padded.shape"
   ]
  },
  {
   "cell_type": "code",
   "execution_count": 57,
   "metadata": {},
   "outputs": [],
   "source": [
    "def compute_labels(x):\n",
    "    y = torch.zeros(x.shape[0],x.shape[1]-1)\n",
    "    for t in range(x.shape[1]-1):\n",
    "        y[:,t] = x[:,t:t+2,...].sum(axis=(1,2,3,4))\n",
    "    return y"
   ]
  },
  {
   "cell_type": "code",
   "execution_count": 58,
   "metadata": {},
   "outputs": [],
   "source": [
    "y = compute_labels(x_padded)"
   ]
  },
  {
   "cell_type": "code",
   "execution_count": 67,
   "metadata": {},
   "outputs": [],
   "source": [
    "class Net(nn.Module):\n",
    "    def __init__(self, C, W):\n",
    "        super(Net, self).__init__()\n",
    "        self.conv_lstm = ConvLSTM(\n",
    "                     input_dim=1, \n",
    "                     hidden_dim=1, \n",
    "                     kernel_size=(3,3), \n",
    "                     num_layers=1,\n",
    "                     batch_first=True,\n",
    "                     bias=True,\n",
    "                     return_all_layers=False\n",
    "                    )\n",
    "        \n",
    "        self.MLP = nn.Sequential(\n",
    "            nn.Linear(C*W**2, 256),\n",
    "            nn.ReLU(),\n",
    "            nn.Linear(256,1)\n",
    "            )\n",
    "        \n",
    "    def forward(self, x, hidden=None):\n",
    "        B = x.shape[0]\n",
    "        T = x.shape[1]\n",
    "        # x: (b,T,C,W,W)\n",
    "        x, state = self.conv_lstm(x, hidden)\n",
    "        # x: (b,T,C,W,W)\n",
    "        x = x[0].view(B,T,-1)\n",
    "        #print(len(x))\n",
    "        #print(x.shape)\n",
    "        out = self.MLP(x)\n",
    "        #print(out.shape)\n",
    "        return out"
   ]
  },
  {
   "cell_type": "code",
   "execution_count": 68,
   "metadata": {},
   "outputs": [],
   "source": [
    "net = Net(C,W)"
   ]
  },
  {
   "cell_type": "code",
   "execution_count": 69,
   "metadata": {},
   "outputs": [],
   "source": [
    "x_train = x[:8000]\n",
    "x_test = x[8000:]\n",
    "y_train = y[:8000]\n",
    "y_test = y[8000:]"
   ]
  },
  {
   "cell_type": "code",
   "execution_count": 70,
   "metadata": {},
   "outputs": [],
   "source": [
    "optim = torch.optim.Adam(net.parameters(), lr=1e-3)"
   ]
  },
  {
   "cell_type": "code",
   "execution_count": 71,
   "metadata": {},
   "outputs": [
    {
     "name": "stdout",
     "output_type": "stream",
     "text": [
      "Epoch 1 - loss 9309.8496\n",
      "Epoch 2 - loss 9306.8770\n",
      "Epoch 3 - loss 9304.0684\n",
      "Epoch 4 - loss 9301.4180\n",
      "Epoch 5 - loss 9298.9229\n",
      "Epoch 6 - loss 9296.5811\n",
      "Epoch 7 - loss 9294.3867\n",
      "Epoch 8 - loss 9292.3340\n",
      "Epoch 9 - loss 9290.4170\n",
      "Epoch 10 - loss 9288.6260\n"
     ]
    }
   ],
   "source": [
    "n_epochs = 10\n",
    "epoch_losses = []\n",
    "for e in range(n_epochs):\n",
    "    n_batch = len(x_train)//10\n",
    "    losses = []\n",
    "    for b in range(n_batch):\n",
    "        x = x_train[b*10:(b+1)*10]\n",
    "        y = y_train[b*10:(b+1)*10]\n",
    "        y_pred = net(x).squeeze()\n",
    "        loss = F.mse_loss(y,y_pred)\n",
    "        losses.append(loss.item())\n",
    "        optim.zero_grad()\n",
    "        loss.backward()\n",
    "        optim.step()\n",
    "    print(\"Epoch %d - loss %.4f\"%(e+1,np.mean(losses)))\n",
    "    epoch_losses.append(np.mean(losses))"
   ]
  },
  {
   "cell_type": "code",
   "execution_count": 64,
   "metadata": {},
   "outputs": [],
   "source": [
    "y_pred = net(x_test[:1]).squeeze()"
   ]
  },
  {
   "cell_type": "code",
   "execution_count": 65,
   "metadata": {},
   "outputs": [
    {
     "data": {
      "text/plain": [
       "tensor([ 51.5265,  99.7310,  99.5614, 103.5376,  98.9052, 101.7952,  94.5668,\n",
       "        102.7352, 101.3337,  98.5705], grad_fn=<SqueezeBackward0>)"
      ]
     },
     "execution_count": 65,
     "metadata": {},
     "output_type": "execute_result"
    }
   ],
   "source": [
    "y_pred"
   ]
  },
  {
   "cell_type": "code",
   "execution_count": 66,
   "metadata": {},
   "outputs": [
    {
     "data": {
      "text/plain": [
       "tensor([ 50.5683, 102.1472, 100.3817, 104.2558, 104.5072, 101.9911,  96.8353,\n",
       "         97.0628, 106.3598, 103.2412])"
      ]
     },
     "execution_count": 66,
     "metadata": {},
     "output_type": "execute_result"
    }
   ],
   "source": [
    "y_test[0]"
   ]
  },
  {
   "cell_type": "code",
   "execution_count": 53,
   "metadata": {},
   "outputs": [
    {
     "name": "stdout",
     "output_type": "stream",
     "text": [
      "Help on function mse_loss in module torch.nn.functional:\n",
      "\n",
      "mse_loss(input, target, size_average=None, reduce=None, reduction='mean')\n",
      "    mse_loss(input, target, size_average=None, reduce=None, reduction='mean') -> Tensor\n",
      "    \n",
      "    Measures the element-wise mean squared error.\n",
      "    \n",
      "    See :class:`~torch.nn.MSELoss` for details.\n",
      "\n"
     ]
    }
   ],
   "source": [
    "help(F.mse_loss)"
   ]
  },
  {
   "cell_type": "code",
   "execution_count": null,
   "metadata": {},
   "outputs": [],
   "source": []
  }
 ],
 "metadata": {
  "kernelspec": {
   "display_name": "torch",
   "language": "python",
   "name": "torch"
  },
  "language_info": {
   "codemirror_mode": {
    "name": "ipython",
    "version": 3
   },
   "file_extension": ".py",
   "mimetype": "text/x-python",
   "name": "python",
   "nbconvert_exporter": "python",
   "pygments_lexer": "ipython3",
   "version": "3.7.6"
  }
 },
 "nbformat": 4,
 "nbformat_minor": 4
}
