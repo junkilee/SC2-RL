{
 "cells": [
  {
   "cell_type": "markdown",
   "metadata": {},
   "source": [
    "# Things to do, ideas to try\n",
    "\n",
    "1. Try to understand if it's normal that the GPU training is taking up to 10x the model size in terms of RAM - **NO IDEA, SUSPENDED**\n",
    "2. **Choose which data to reproduce**: each run takes time, so we should already focus on what results we would like to reproduce. More specifically: the **FullyConv** agent seems okay, but in the relational paper they use a much better and bigger architecture, that probably is able to learn qualitatively different strategies. -> make anyway a **good run for all minigames** (just one that matches within 10% the results of the first paper).\n",
    "3. It makes sense to try and play every single minigame just to make sure that the architecture can run on all of them and I did not excluded some important feature or functionality. For example I still have to **introduce the nonspatial inputs (player info)**; they will be probably needed to solve the last 2 games in an optimal way. Also I need to **choose the action space for all of them** (or to select all of them automatically and see what happens in terms of performances) -> see from where NUM_ACTIONS comes from in the repo I'm following\n",
    "4. Trying small improvements to suboptimal networks might not be the best thing to do, because it can give us insights, but they might not generalize to the final network. It would be better to reproduce the control and relational architectures and see if we can improve on that from other papers too. - STOP TO SMALL CHANGES IN FULLY-CONV ARCHITECTURE, just make it work as good as it should in all the minigames.\n",
    "5. At the end we will need a good amount of runs (at least 5) for each minigame, so it is necessary to run it on a cluster to parallelize the runs as much as possible. Move to beacon is a fast test, so we could start experimenting with that. \n",
    "6. Decide how to evaluate the results [x and y axes variables] and check for consistency with other literature.\n",
    "\n",
    "So basically the main thing to decide is when to do all this things, or in which order.\n",
    "- things to do before scaling up the model\n",
    "- things to do after scaling up the model"
   ]
  },
  {
   "cell_type": "markdown",
   "metadata": {},
   "source": [
    "Make fast runs on workstation to make sure the final algorithm works for every minigame, then do the proper runs on CSC to save time."
   ]
  },
  {
   "cell_type": "code",
   "execution_count": null,
   "metadata": {},
   "outputs": [],
   "source": []
  }
 ],
 "metadata": {
  "kernelspec": {
   "display_name": "Python 3",
   "language": "python",
   "name": "python3"
  },
  "language_info": {
   "codemirror_mode": {
    "name": "ipython",
    "version": 3
   },
   "file_extension": ".py",
   "mimetype": "text/x-python",
   "name": "python",
   "nbconvert_exporter": "python",
   "pygments_lexer": "ipython3",
   "version": "3.7.6"
  }
 },
 "nbformat": 4,
 "nbformat_minor": 2
}
