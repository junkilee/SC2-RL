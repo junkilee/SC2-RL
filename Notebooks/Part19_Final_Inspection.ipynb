{
 "cells": [
  {
   "cell_type": "markdown",
   "metadata": {},
   "source": [
    "# Inspection for GeneralA2C\n",
    "\n",
    "New features to include:\n",
    "- player info\n",
    "- top 5 actions and their distributions\n",
    "\n",
    "TODO:\n",
    "- look at state trajectories, they should be a list of dictionaries {\"spatial\",\"player\"}\n",
    "- create wrapper functions for the state plotting if possible, otherwise do it from scratch\n",
    "- print in a formatted way all player info\n",
    "- in general might be interesting for some minigames to plot some player info together with either the critic value or the actor adavantages in a step-by-step way\n",
    "- change the way in which we deal with decision map plotting (?)"
   ]
  },
  {
   "cell_type": "code",
   "execution_count": null,
   "metadata": {},
   "outputs": [],
   "source": [
    "import os\n",
    "import sys\n",
    "sys.path.insert(0, \"../\")\n",
    "# Custom modules\n",
    "from AC_modules.BatchedA2C import GeneralA2C\n",
    "from SC_Utils.game_utils import FullObsProcesser\n",
    "import AC_modules.Networks as net\n",
    "# change this inspection plots\n",
    "from SC_Utils.inspection_plots_v2 import *\n",
    "from SC_Utils.A2C_inspection_v2 import *\n",
    "from SC_Utils.train_v4 import init_game, inspection_test\n",
    "\n",
    "import torch\n",
    "import numpy as np\n",
    "import matplotlib.pyplot as plt"
   ]
  },
  {
   "cell_type": "code",
   "execution_count": null,
   "metadata": {},
   "outputs": [],
   "source": [
    "# Define map_name and PID - ALWAYS\n",
    "\n",
    "game_names = {1:'MoveToBeacon',\n",
    "              2:'CollectMineralShards',\n",
    "              3:'DefeatRoaches',\n",
    "              4:'FindAndDefeatZerglings',\n",
    "              5:'DefeatZerglingsAndBanelings',\n",
    "              6:'CollectMineralsAndGas',\n",
    "              7:'BuildMarines'\n",
    "              }\n",
    "map_name = game_names[1]\n",
    "\n",
    "PID = \"KGIA\""
   ]
  },
  {
   "cell_type": "markdown",
   "metadata": {},
   "source": [
    "# Online plotting of training curve"
   ]
  },
  {
   "cell_type": "code",
   "execution_count": null,
   "metadata": {},
   "outputs": [],
   "source": [
    "filename = '../Results/'+map_name+'/Logging/'+PID+'.txt'\n",
    "logging = np.loadtxt(filename, delimiter=',', skiprows=1)\n",
    "plot_logging(logging, map_name)"
   ]
  },
  {
   "cell_type": "markdown",
   "metadata": {},
   "source": [
    "# Checkpoints at a certain step"
   ]
  },
  {
   "cell_type": "code",
   "execution_count": null,
   "metadata": {},
   "outputs": [],
   "source": [
    "jump = 60 # number of env step after which an inspection is done\n",
    "n = 3 # number of \"jumps\" to current step idx\n",
    "step_idx =jump*n\n",
    "step_idx"
   ]
  },
  {
   "cell_type": "code",
   "execution_count": null,
   "metadata": {},
   "outputs": [],
   "source": [
    "load_dir = \"../Results/\"+map_name+\"/Inspection/\"\n",
    "insp_dict = np.load(load_dir+PID+\"_\"+str(step_idx)+\".npy\", allow_pickle=True).item()"
   ]
  },
  {
   "cell_type": "markdown",
   "metadata": {},
   "source": [
    "### Trajectory update"
   ]
  },
  {
   "cell_type": "code",
   "execution_count": null,
   "metadata": {},
   "outputs": [],
   "source": [
    "plot_update_curves(insp_dict)"
   ]
  },
  {
   "cell_type": "markdown",
   "metadata": {},
   "source": [
    "## Agent-related visualizations\n",
    "\n",
    "Here we need either to init a new agent and load a checkpoint or to load directly the full-trained agent if the training cycle is ended (automatic saving of the whole class if using the run.py script to train)."
   ]
  },
  {
   "cell_type": "code",
   "execution_count": null,
   "metadata": {},
   "outputs": [],
   "source": [
    "### Environment parameters ###\n",
    "RESOLUTION = 32\n",
    "game_params = dict(feature_screen=RESOLUTION, feature_minimap=RESOLUTION, action_space=\"FEATURES\") \n",
    "env = init_game(game_params, map_name)\n",
    "\n",
    "obs_proc_params = {'select_all':True}\n",
    "op = FullObsProcesser(**obs_proc_params)\n",
    "\n",
    "screen_channels, minimap_channels, in_player = op.get_n_channels()\n",
    "in_channels = screen_channels + minimap_channels "
   ]
  },
  {
   "cell_type": "code",
   "execution_count": null,
   "metadata": {},
   "outputs": [],
   "source": [
    "load = False\n",
    "\n",
    "if load:\n",
    "    agent = torch.load(\"../Results/\"+map_name+\"/agent_\"+PID, map_location='cpu')\n",
    "    agent.device = 'cpu'\n",
    "else:\n",
    "    ### Agent architecture parameters ###\n",
    "    spatial_model = net.FullyConvPlayerAndSpatial\n",
    "    nonspatial_model = net.FullyConvNonSpatial\n",
    "    # Internal features, passed inside a dictionary\n",
    "    conv_channels = 32\n",
    "    player_features = 16\n",
    "    # Exposed features, passed outside of a dictionary\n",
    "    n_channels = 48\n",
    "    n_features = 256\n",
    "    spatial_dict = {\"in_channels\":in_channels, 'in_player':in_player, \n",
    "                    'conv_channels':conv_channels, 'player_features':player_features}\n",
    "    nonspatial_dict = {'resolution':RESOLUTION, 'kernel_size':3, 'stride':2, 'n_channels':n_channels}\n",
    "    \n",
    "    ### A2C parameters ###\n",
    "    HPs = dict(gamma=0.99, n_steps=20, H=1e-2, \n",
    "               spatial_model=spatial_model, nonspatial_model=nonspatial_model,\n",
    "               n_features=n_features, n_channels=n_channels, \n",
    "               spatial_dict=spatial_dict, nonspatial_dict=nonspatial_dict)\n",
    "\n",
    "    if torch.cuda.is_available():\n",
    "        HPs['device'] = 'cuda'\n",
    "    else:\n",
    "        HPs['device'] = 'cpu'\n",
    "\n",
    "    print(\"Using device \"+HPs['device'])\n",
    "\n",
    "    lr = 7e-4\n",
    "    \n",
    "    # Agent init \n",
    "    agent = GeneralA2C(env=env, **HPs)\n",
    "    # Load proper checkpoint here - not activated in case of load=True, but can be changed if needed\n",
    "    agent.AC.load_state_dict(torch.load(\"../Results/\"+map_name+\"/Checkpoints/\"+PID+\"_\"+str(step_idx), map_location='cpu'))"
   ]
  },
  {
   "cell_type": "code",
   "execution_count": null,
   "metadata": {},
   "outputs": [],
   "source": [
    "# inspector needed for the plotting\n",
    "inspector = inspection_test(step_idx, agent, env, PID, op, agent.AC.action_space)\n",
    "insp_dict = inspector.dict"
   ]
  },
  {
   "cell_type": "code",
   "execution_count": null,
   "metadata": {},
   "outputs": [],
   "source": [
    "_, layer_names = op.get_state(env.reset())\n",
    "layer_names"
   ]
  },
  {
   "cell_type": "code",
   "execution_count": null,
   "metadata": {
    "scrolled": false
   },
   "outputs": [],
   "source": [
    "#for t in range(len(insp_dict['state_traj'])):\n",
    "for t in range(50):\n",
    "    print_action_info(inspector, insp_dict, t)\n",
    "    #plot_screen_and_decision(inspector, insp_dict, layer_names, t, show_minimap=True)\n",
    "    #plot_screen_layers(insp_dict, layer_names, t)\n",
    "    #plot_minimap_layers(insp_dict, layer_names, t)"
   ]
  }
 ],
 "metadata": {
  "kernelspec": {
   "display_name": "torch",
   "language": "python",
   "name": "torch"
  },
  "language_info": {
   "codemirror_mode": {
    "name": "ipython",
    "version": 3
   },
   "file_extension": ".py",
   "mimetype": "text/x-python",
   "name": "python",
   "nbconvert_exporter": "python",
   "pygments_lexer": "ipython3",
   "version": "3.7.6"
  }
 },
 "nbformat": 4,
 "nbformat_minor": 2
}
