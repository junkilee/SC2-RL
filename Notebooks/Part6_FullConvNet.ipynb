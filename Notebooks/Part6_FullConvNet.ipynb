{
 "cells": [
  {
   "cell_type": "markdown",
   "metadata": {},
   "source": [
    "# FullConvNet \n",
    "\n",
    "<img src=\"Supplementary material/SC2 architectures.png\">\n",
    "\n",
    "## How to implement \n",
    "1. Conv2D from 3 to n_channels\n",
    "2. Block of N ResidualConvolutional layers: <br>\n",
    "    - 2 convolutions kernel 3x3 with stride and padding of 1, keeps spatial resolution unchanged\n",
    "    - n_channels to n_channels, passing through hidden_channels\n",
    "    - LayerNorm before processing the input to the module\n",
    "    - ReLU between the two convolutions\n",
    "    - Add input at the end (input is free to flow untouched)\n",
    "3. Out of this part we get the spatial features, that will be processed in two ways: spatial (for sampling spatial arguments) and non-spatial, to sample the action id and the non-spatial parameters\n",
    "\n",
    "### Non-spatial architecture\n",
    "Start from spatial features, \n",
    "- flatten the two pixel dimensions in a single one, \n",
    "- apply N residual layers feature-wise (each of them acts on the i-th feature along the pixel axis)\n",
    "- maxpool feature-wise to suppress the pixel dimension; Now each feature represents the result of the interaction between pixels in a different way (so it is a viable alternative to the relational module)\n",
    "- N residual layers to the n_channels\n",
    "\n",
    "(from there a simple MLP with final softmax can be plugged in at the end to get a categorical distribution for the action ids or their non-spatial parameters)\n",
    "\n",
    "### Spatial architecture\n",
    "Start from spatial features, \n",
    "- apply ReLU\n",
    "- use convolution with 1 output channel"
   ]
  },
  {
   "cell_type": "code",
   "execution_count": 41,
   "metadata": {},
   "outputs": [],
   "source": [
    "import numpy as np\n",
    "import matplotlib.pyplot as plt\n",
    "import torch\n",
    "import torch.nn as nn\n",
    "import torch.nn.functional as F\n",
    "from torch.distributions import Categorical"
   ]
  },
  {
   "cell_type": "code",
   "execution_count": 33,
   "metadata": {},
   "outputs": [],
   "source": [
    "debug = True"
   ]
  },
  {
   "cell_type": "code",
   "execution_count": 31,
   "metadata": {},
   "outputs": [],
   "source": [
    "class ResidualLayer(nn.Module):\n",
    "    \"\"\"\n",
    "    Implements residual layer. Use LayerNorm and ReLU activation before applying the layers.\n",
    "    \"\"\"\n",
    "    def __init__(self, n_features, n_hidden):\n",
    "        super(ResidualLayer, self).__init__()\n",
    "        self.norm = nn.LayerNorm(n_features)\n",
    "        self.w1 = nn.Linear(n_features, n_hidden)\n",
    "        self.w2 = nn.Linear(n_hidden, n_features)\n",
    "\n",
    "    def forward(self, x):\n",
    "        out = F.relu(self.w1(self.norm(x)))\n",
    "        out = self.w2(out)\n",
    "        return out + x"
   ]
  },
  {
   "cell_type": "code",
   "execution_count": 2,
   "metadata": {},
   "outputs": [],
   "source": [
    "class ResidualConvolutional(nn.Module):\n",
    "    \n",
    "    def __init__(self, linear_size, n_channels, hidden_channels=12, kernel_size=3):\n",
    "        super(ResidualConvolutional, self).__init__()\n",
    "        \n",
    "        padding = (kernel_size - 1) // 2\n",
    "        assert (kernel_size - 1) % 2 == 0, 'Provide odd kernel size to use this layer'\n",
    "        \n",
    "        self.net = nn.Sequential(\n",
    "                                nn.LayerNorm((linear_size, linear_size)),\n",
    "                                nn.Conv2d(n_channels, hidden_channels, kernel_size, stride=1, padding=padding),\n",
    "                                nn.ReLU(),\n",
    "                                nn.Conv2d(hidden_channels, n_channels, kernel_size, stride=1, padding=padding)\n",
    "                                )\n",
    "        \n",
    "    def forward(self, x):\n",
    "        out = self.net(x)\n",
    "        out = out + x\n",
    "        return out"
   ]
  },
  {
   "cell_type": "code",
   "execution_count": 12,
   "metadata": {},
   "outputs": [],
   "source": [
    "class SpatialFeatures(nn.Module):\n",
    "    def __init__(self, n_layers, linear_size, in_channels, n_channels, **HPs):\n",
    "        super(SpatialFeatures, self).__init__()\n",
    "        \n",
    "        self.linear_size = linear_size # screen resolution\n",
    "        \n",
    "        layers =  nn.ModuleList([ResidualConvolutional(linear_size, n_channels, **HPs) for _ in range(n_layers-1)])\n",
    "        \n",
    "        self.net = nn.Sequential(\n",
    "                                nn.Conv2d(in_channels, n_channels, kernel_size=3, stride=1, padding=1),\n",
    "                                nn.ReLU(),\n",
    "                                *layers\n",
    "                                )\n",
    "        \n",
    "    def forward(self, x):\n",
    "        x = self.net(x)\n",
    "        return x"
   ]
  },
  {
   "cell_type": "code",
   "execution_count": 61,
   "metadata": {},
   "outputs": [],
   "source": [
    "class SpatialParameters(nn.Module):\n",
    "    \n",
    "    def __init__(self, n_channels, linear_size):\n",
    "        super(SpatialParameters, self).__init__()\n",
    "        \n",
    "        self.size = linear_size\n",
    "        self.conv = nn.Conv2d(n_channels, 1, kernel_size=3, stride=1, padding=1)\n",
    "    \n",
    "    def forward(self, x):\n",
    "        x = self.conv(x)\n",
    "        x = x.reshape((x.shape[0],-1))\n",
    "        log_probs = F.log_softmax(x, dim=(-1))\n",
    "        if debug: \n",
    "            print(\"log_probs.shape: \", log_probs.shape)\n",
    "            print(\"log_probs.shape (reshaped): \", log_probs.view(self.size, self.size).shape)\n",
    "        probs = torch.exp(log_probs)\n",
    "        \n",
    "        # assume squared space\n",
    "        x_lin = torch.arange(self.size)\n",
    "        xx = x_lin.repeat(self.size,1)\n",
    "        args = torch.cat([xx.view(self.size,self.size,1), xx.T.view(self.size,self.size,1)], axis=2)\n",
    "        args = args.reshape(-1,2)\n",
    "        \n",
    "        distribution = Categorical(probs)\n",
    "        index = distribution.sample().item() # detaching it, is it okay? maybe...\n",
    "        arg = args[index] # and this are the sampled coordinates\n",
    "        arg = list(arg.detach().numpy())\n",
    "        \n",
    "        return arg, log_probs.view(self.size, self.size)[arg[0], arg[1]], probs                       "
   ]
  },
  {
   "cell_type": "code",
   "execution_count": 46,
   "metadata": {},
   "outputs": [],
   "source": [
    "class FeaturewiseMaxPool(nn.Module):\n",
    "    \"\"\"Applies max pooling along a given axis of a tensor\"\"\"\n",
    "    def __init__(self, pixel_axis):\n",
    "        super(FeaturewiseMaxPool, self).__init__()\n",
    "        self.max_along_axis = pixel_axis\n",
    "        \n",
    "    def forward(self, x):\n",
    "        x, _ = torch.max(x, axis=self.max_along_axis)\n",
    "        if debug:\n",
    "            print(\"x.shape (FeaturewiseMaxPool): \", x.shape)\n",
    "        return x"
   ]
  },
  {
   "cell_type": "code",
   "execution_count": 47,
   "metadata": {},
   "outputs": [],
   "source": [
    "class NonSpatialFeatures(nn.Module):\n",
    "    \n",
    "    def __init__(self, linear_size, n_channels, pixel_hidden_dim=128, pixel_n_residuals=4, \n",
    "                 feature_hidden_dim=64, feature_n_residuals=4):\n",
    "        super(NonSpatialFeatures, self).__init__()\n",
    "        \n",
    "        pixel_res_layers = nn.ModuleList([ResidualLayer(linear_size**2, pixel_hidden_dim) \n",
    "                                          for _ in range(pixel_n_residuals)])\n",
    "        self.pixel_res_block = nn.Sequential(*pixel_res_layers)\n",
    "\n",
    "        self.maxpool = FeaturewiseMaxPool(pixel_axis=2)\n",
    "\n",
    "        feature_res_layers = nn.ModuleList([ResidualLayer(n_channels, feature_hidden_dim) \n",
    "                                            for _ in range(feature_n_residuals)])\n",
    "        self.feature_res_block = nn.Sequential(*feature_res_layers)\n",
    "        \n",
    "    def forward(self, x):\n",
    "        \"\"\" Input shape (batch_dim, n_channels, linear_size, linear_size) \"\"\"\n",
    "        x = x.view(x.shape[0], x.shape[1],-1)\n",
    "        if debug: print(\"x.shape: \", x.shape)\n",
    "            \n",
    "        x = self.pixel_res_block(x) # Interaction between pixels feature-wise\n",
    "        if debug: print(\"x.shape: \", x.shape)\n",
    "            \n",
    "        x = self.maxpool(x) # Feature-wise maxpooling\n",
    "        if debug: print(\"x.shape: \", x.shape)\n",
    "            \n",
    "        x = self.feature_res_block(x) # Interaction between features -> final representation\n",
    "        if debug: print(\"x.shape: \", x.shape)\n",
    "        \n",
    "        return x     "
   ]
  },
  {
   "cell_type": "code",
   "execution_count": 48,
   "metadata": {},
   "outputs": [],
   "source": [
    "class CategoricalNet(nn.Module):\n",
    "    \n",
    "    def __init__(self, n_features, size, hiddens=[32,16]):\n",
    "        super(CategoricalNet, self).__init__()\n",
    "        layers = []\n",
    "        \n",
    "        layers.append(nn.Linear(n_features, hiddens[0]))\n",
    "        layers.append(nn.ReLU())\n",
    "            \n",
    "        for i in range(0,len(hiddens)-1):\n",
    "            layers.append(nn.Linear(hiddens[i], hiddens[i+1]))\n",
    "            layers.append(nn.ReLU())\n",
    "        \n",
    "        layers.append(nn.Linear(hiddens[-1], size))\n",
    "        self.net = nn.Sequential(*layers)\n",
    "        \n",
    "    def forward(self, state_rep):\n",
    "        logits = self.net(state_rep)\n",
    "        log_probs = F.log_softmax(logits, dim=(-1))\n",
    "        probs = torch.exp(log_probs)\n",
    "        distribution = Categorical(probs)\n",
    "        arg = distribution.sample().item() \n",
    "        return [arg], log_probs.view(-1)[arg], probs"
   ]
  },
  {
   "cell_type": "markdown",
   "metadata": {},
   "source": [
    "## Testing"
   ]
  },
  {
   "cell_type": "code",
   "execution_count": 62,
   "metadata": {},
   "outputs": [],
   "source": [
    "linear_size = 16\n",
    "in_channels = 3\n",
    "n_layers = 2\n",
    "n_channels = 12\n",
    "n_actions = 3"
   ]
  },
  {
   "cell_type": "code",
   "execution_count": 63,
   "metadata": {},
   "outputs": [],
   "source": [
    "spatial_features_net = SpatialFeatures(n_layers, linear_size, in_channels, n_channels)\n",
    "spatial_params_net = SpatialParameters(n_channels, linear_size)\n",
    "nonspatial_features_net = NonSpatialFeatures(linear_size, n_channels)\n",
    "action_net = CategoricalNet(n_channels, n_actions)"
   ]
  },
  {
   "cell_type": "code",
   "execution_count": 64,
   "metadata": {},
   "outputs": [],
   "source": [
    "x = torch.rand(1, in_channels, linear_size, linear_size)"
   ]
  },
  {
   "cell_type": "code",
   "execution_count": 65,
   "metadata": {},
   "outputs": [
    {
     "name": "stdout",
     "output_type": "stream",
     "text": [
      "spatial_features:  torch.Size([1, 12, 16, 16])\n"
     ]
    }
   ],
   "source": [
    "spatial_features = spatial_features_net(x)\n",
    "print(\"spatial_features: \", spatial_features.shape)"
   ]
  },
  {
   "cell_type": "code",
   "execution_count": 67,
   "metadata": {},
   "outputs": [
    {
     "name": "stdout",
     "output_type": "stream",
     "text": [
      "log_probs.shape:  torch.Size([1, 256])\n",
      "log_probs.shape (reshaped):  torch.Size([16, 16])\n",
      "Spatial params:  [6, 7]\n"
     ]
    }
   ],
   "source": [
    "spatial_params, log_prob, probs = spatial_params_net(spatial_features)\n",
    "print(\"Spatial params: \", spatial_params)"
   ]
  },
  {
   "cell_type": "code",
   "execution_count": 54,
   "metadata": {},
   "outputs": [
    {
     "data": {
      "text/plain": [
       "tensor(1.0000, grad_fn=<SumBackward0>)"
      ]
     },
     "execution_count": 54,
     "metadata": {},
     "output_type": "execute_result"
    }
   ],
   "source": [
    "torch.exp(spatial_params).sum()"
   ]
  },
  {
   "cell_type": "code",
   "execution_count": 37,
   "metadata": {},
   "outputs": [
    {
     "name": "stdout",
     "output_type": "stream",
     "text": [
      "x.shape:  torch.Size([1, 12, 256])\n",
      "x.shape:  torch.Size([1, 12, 256])\n",
      "x.shape (FeaturewiseMaxPool):  torch.Size([1, 12])\n",
      "x.shape:  torch.Size([1, 12])\n",
      "x.shape:  torch.Size([1, 12])\n",
      "nonspatial_features:  torch.Size([1, 12])\n"
     ]
    }
   ],
   "source": [
    "nonspatial_features = nonspatial_features_net(spatial_features)\n",
    "print(\"nonspatial_features: \", nonspatial_features.shape)"
   ]
  },
  {
   "cell_type": "code",
   "execution_count": 43,
   "metadata": {},
   "outputs": [
    {
     "name": "stdout",
     "output_type": "stream",
     "text": [
      "Action sampled:  [1]\n"
     ]
    }
   ],
   "source": [
    "a, log_prob, probs = action_net(nonspatial_features)\n",
    "print(\"Action sampled: \", a)"
   ]
  }
 ],
 "metadata": {
  "kernelspec": {
   "display_name": "Python 3",
   "language": "python",
   "name": "python3"
  },
  "language_info": {
   "codemirror_mode": {
    "name": "ipython",
    "version": 3
   },
   "file_extension": ".py",
   "mimetype": "text/x-python",
   "name": "python",
   "nbconvert_exporter": "python",
   "pygments_lexer": "ipython3",
   "version": "3.7.6"
  }
 },
 "nbformat": 4,
 "nbformat_minor": 2
}
