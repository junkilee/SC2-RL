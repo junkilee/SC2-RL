{
 "cells": [
  {
   "cell_type": "markdown",
   "metadata": {},
   "source": [
    "To use a batched A2C we have to adapt both the step method and how we store information for the update.\n",
    "In particular:\n",
    "1. Instead of using observations of the environment with everything attached, elaborate the information and extract only the useful variables, so that they can be stacked in numpy arrays when possbile.\n",
    "2. step method works with observation, but should work with a batch of states and available actions; Probably it will be infeasible to vectorize the selection of the parameters of the actions, because the output and the procedure varies from action to action.\n",
    "3. The part in which we compute the loss is okay, because we use only the critic to make predictions, so the only problem is to store the information in batches.\n",
    "\n",
    "NOTE: remember to add all networks to the optimizer initialization"
   ]
  },
  {
   "cell_type": "code",
   "execution_count": 1,
   "metadata": {},
   "outputs": [
    {
     "name": "stdout",
     "output_type": "stream",
     "text": [
      "pygame 1.9.6\n",
      "Hello from the pygame community. https://www.pygame.org/contribute.html\n"
     ]
    }
   ],
   "source": [
    "from Utils.train_batched_A2C import *\n",
    "from AC_modules.BatchedA2C import MoveToBeaconSpatialA2C\n",
    "import torch"
   ]
  },
  {
   "cell_type": "code",
   "execution_count": 2,
   "metadata": {},
   "outputs": [],
   "source": [
    "def train_batched_A2C(agent, game_params, lr, n_train_processes, max_train_steps, \n",
    "                      unroll_length, max_episode_steps, test_interval=100):\n",
    "    \n",
    "    test_env = init_game(game_params, max_episode_steps)\n",
    "    envs = ParallelEnv(n_train_processes, game_params, max_episode_steps)\n",
    "\n",
    "    optimizer = torch.optim.Adam(agent.AC.parameters(), lr=lr)\n",
    "\n",
    "    score = []\n",
    "    critic_losses = [] \n",
    "    actor_losses = []\n",
    "    entropies = []\n",
    "    \n",
    "    step_idx = 0\n",
    "    while step_idx < max_train_steps:\n",
    "        s_lst, a_lst, r_lst, done_lst, bootstrap_lst, s_trg_lst = list(), list(), list(), list(), list(), list()\n",
    "        log_probs = []\n",
    "        distributions = []\n",
    "        s, a_mask = envs.reset()\n",
    "        for _ in range(unroll_length):\n",
    "\n",
    "            a, log_prob, probs = agent.step(s, a_mask)\n",
    "            a_lst.append(a)\n",
    "            log_probs.append(log_prob)\n",
    "            distributions.append(probs)\n",
    "\n",
    "            s_prime, r, done, bootstrap, s_trg, a_mask = envs.step(a)\n",
    "            s_lst.append(s)\n",
    "            r_lst.append(r)\n",
    "            done_lst.append(done)\n",
    "            bootstrap_lst.append(bootstrap)\n",
    "            s_trg_lst.append(s_trg)\n",
    "\n",
    "            s = s_prime\n",
    "            step_idx += 1 #n_train_processes\n",
    "\n",
    "        s_lst = np.array(s_lst).transpose(1,0,2,3,4)\n",
    "        r_lst = np.array(r_lst).transpose(1,0)\n",
    "        done_lst = np.array(done_lst).transpose(1,0)\n",
    "        bootstrap_lst = np.array(bootstrap_lst).transpose(1,0)\n",
    "        s_trg_lst = np.array(s_trg_lst).transpose(1,0,2,3,4)\n",
    "        \n",
    "        ### Update time ###\n",
    "        #print(\"len(r_lst): \", r_lst.shape)\n",
    "        #print(\"len(s_lst): \", s_lst.shape)\n",
    "        #print(\"len(done_lst): \", done_lst.shape)\n",
    "        #print(\"len(s_trg_lst): \", s_trg_lst.shape)\n",
    "        critic_loss, actor_loss, entropy = agent.compute_ac_loss(r_lst, log_probs, distributions, \n",
    "                                                                 s_lst, done_lst, bootstrap_lst, s_trg_lst)\n",
    "\n",
    "        \n",
    "        loss = (critic_loss + actor_loss).mean()\n",
    "        optimizer.zero_grad()\n",
    "        loss.backward()\n",
    "        optimizer.step()\n",
    "        #print(\"backward done\")\n",
    "        \n",
    "        #print(\"critic_loss: \", critic_loss)\n",
    "        #print(\"actor_loss: \", actor_loss)\n",
    "        #print(\"entropy: \", entropy)\n",
    "        critic_losses.append(critic_loss.item())\n",
    "        actor_losses.append(actor_loss.item())\n",
    "        entropies.append(entropy.item())\n",
    "        \n",
    "        ### Test time ###\n",
    "        if step_idx % test_interval == 0:\n",
    "            avg_score = test(step_idx, agent, test_env)\n",
    "            score.append(avg_score)\n",
    "    envs.close()\n",
    "    \n",
    "    losses = dict(critic_losses=critic_losses, actor_losses=actor_losses, entropies=entropies)\n",
    "    return score, losses, agent"
   ]
  },
  {
   "cell_type": "code",
   "execution_count": 3,
   "metadata": {},
   "outputs": [],
   "source": [
    "def test(step_idx, agent, test_env):\n",
    "    score = 0.0\n",
    "    done = False\n",
    "    num_test = 2\n",
    "    for _ in range(num_test):\n",
    "        \n",
    "        obs = test_env.reset()\n",
    "        s = get_ohe_state(obs)[np.newaxis, ...] # add batch dim\n",
    "        available_actions = obs[0].observation.available_actions\n",
    "        a_mask = get_action_mask(available_actions)[np.newaxis, ...] # add batch dim\n",
    "        \n",
    "        rewards = []\n",
    "        while not done:\n",
    "            a, log_prob, probs = agent.step(s, a_mask)\n",
    "            obs = test_env.step(a)\n",
    "            s_prime = get_ohe_state(obs)[np.newaxis, ...] # add batch dim\n",
    "            reward = obs[0].reward\n",
    "            done = obs[0].last()\n",
    "            available_actions = obs[0].observation.available_actions\n",
    "            a_mask = get_action_mask(available_actions)[np.newaxis, ...] # add batch dim\n",
    "            \n",
    "            s = s_prime\n",
    "            score += reward\n",
    "            rewards.append(reward)\n",
    "        done = False\n",
    "\n",
    "    print(f\"Step # : {step_idx}, avg score : {score/num_test:.1f}\")\n",
    "    return score/num_test"
   ]
  },
  {
   "cell_type": "code",
   "execution_count": 4,
   "metadata": {},
   "outputs": [],
   "source": [
    "RESOLUTION = 16\n",
    "MAX_STEPS = 256\n",
    "game_params = dict(feature_screen=RESOLUTION, feature_minimap=RESOLUTION, action_space=\"FEATURES\") "
   ]
  },
  {
   "cell_type": "code",
   "execution_count": 5,
   "metadata": {},
   "outputs": [],
   "source": [
    "env = init_game(game_params, max_steps=MAX_STEPS)"
   ]
  },
  {
   "cell_type": "code",
   "execution_count": 14,
   "metadata": {
    "scrolled": true
   },
   "outputs": [
    {
     "name": "stdout",
     "output_type": "stream",
     "text": [
      "Using device cuda\n"
     ]
    }
   ],
   "source": [
    "HPs = dict(action_space=3, n_layers=2, in_channels=3, n_channels=12, linear_size=RESOLUTION,\n",
    "           gamma=0.99, n_steps = 5, pixel_n_residuals=2, feature_n_residuals=2)\n",
    "\n",
    "if torch.cuda.is_available():\n",
    "    HPs['device'] = 'cuda'\n",
    "else:\n",
    "    HPs['device'] = 'cpu'\n",
    "    \n",
    "print(\"Using device \"+HPs['device'])\n",
    "\n",
    "lr = 5e-5\n",
    "agent = MoveToBeaconSpatialA2C(env=env, **HPs)"
   ]
  },
  {
   "cell_type": "code",
   "execution_count": 15,
   "metadata": {},
   "outputs": [],
   "source": [
    "unroll_length = 240\n",
    "\n",
    "train_dict = dict(n_train_processes = 11,\n",
    "                  max_train_steps = unroll_length*5000,\n",
    "                  unroll_length = unroll_length,\n",
    "                  max_episode_steps = MAX_STEPS,\n",
    "                  test_interval = unroll_length*10 #100\n",
    "                  )"
   ]
  },
  {
   "cell_type": "code",
   "execution_count": 16,
   "metadata": {
    "scrolled": false
   },
   "outputs": [
    {
     "name": "stdout",
     "output_type": "stream",
     "text": [
      "Step # :2400, avg score : 3.0\n",
      "Step # :4800, avg score : 0.5\n",
      "Step # :7200, avg score : 1.0\n",
      "Step # :9600, avg score : 1.0\n",
      "Step # :12000, avg score : 1.0\n",
      "Step # :14400, avg score : 2.0\n",
      "Step # :16800, avg score : 1.0\n",
      "Step # :19200, avg score : 1.0\n",
      "Step # :21600, avg score : 2.0\n",
      "Step # :24000, avg score : 2.0\n",
      "Step # :26400, avg score : 2.0\n",
      "Step # :28800, avg score : 0.5\n",
      "Step # :31200, avg score : 1.0\n",
      "Step # :33600, avg score : 1.5\n",
      "Step # :36000, avg score : 2.5\n",
      "Step # :38400, avg score : 0.5\n",
      "Step # :40800, avg score : 2.0\n",
      "Step # :43200, avg score : 0.5\n",
      "Step # :45600, avg score : 1.0\n",
      "Step # :48000, avg score : 1.0\n",
      "Step # :50400, avg score : 1.0\n",
      "Step # :52800, avg score : 1.5\n",
      "Step # :55200, avg score : 1.5\n",
      "Step # :57600, avg score : 3.0\n",
      "Step # :60000, avg score : 1.5\n",
      "Step # :62400, avg score : 2.0\n",
      "Step # :64800, avg score : 3.0\n",
      "Step # :67200, avg score : 1.0\n",
      "Step # :69600, avg score : 2.0\n",
      "Step # :72000, avg score : 2.0\n",
      "Step # :74400, avg score : 5.0\n",
      "Step # :76800, avg score : 3.0\n",
      "Step # :79200, avg score : 0.0\n",
      "Step # :81600, avg score : 1.0\n",
      "Step # :84000, avg score : 1.0\n",
      "Step # :86400, avg score : 0.0\n",
      "Step # :88800, avg score : 2.0\n",
      "Step # :91200, avg score : 1.0\n",
      "Step # :93600, avg score : 3.0\n",
      "Step # :96000, avg score : 1.0\n",
      "Step # :98400, avg score : 0.0\n",
      "Step # :100800, avg score : 2.0\n",
      "Step # :103200, avg score : 1.5\n",
      "Step # :105600, avg score : 1.0\n",
      "Step # :108000, avg score : 1.0\n",
      "Step # :110400, avg score : 0.5\n",
      "Step # :112800, avg score : 2.5\n",
      "Step # :115200, avg score : 2.0\n",
      "Step # :117600, avg score : 3.5\n",
      "Step # :120000, avg score : 2.5\n",
      "Step # :122400, avg score : 1.5\n",
      "Step # :124800, avg score : 2.5\n",
      "Step # :127200, avg score : 2.5\n",
      "Step # :129600, avg score : 0.5\n",
      "Step # :132000, avg score : 3.0\n",
      "Step # :134400, avg score : 3.5\n",
      "Step # :136800, avg score : 2.5\n",
      "Step # :139200, avg score : 3.5\n",
      "Step # :141600, avg score : 2.5\n",
      "Step # :144000, avg score : 1.5\n",
      "Step # :146400, avg score : 3.0\n",
      "Step # :148800, avg score : 2.0\n",
      "Step # :151200, avg score : 2.0\n",
      "Step # :153600, avg score : 2.5\n",
      "Step # :156000, avg score : 2.5\n",
      "Step # :158400, avg score : 0.5\n",
      "Step # :160800, avg score : 2.0\n",
      "Step # :163200, avg score : 2.5\n",
      "Step # :165600, avg score : 3.0\n",
      "Step # :168000, avg score : 3.0\n",
      "Step # :170400, avg score : 3.5\n",
      "Step # :172800, avg score : 3.5\n",
      "Step # :175200, avg score : 3.5\n",
      "Step # :177600, avg score : 1.5\n",
      "Step # :180000, avg score : 1.5\n",
      "Step # :182400, avg score : 4.0\n",
      "Step # :184800, avg score : 3.5\n",
      "Step # :187200, avg score : 2.0\n",
      "Step # :189600, avg score : 2.5\n",
      "Step # :192000, avg score : 3.5\n",
      "Step # :194400, avg score : 2.5\n",
      "Step # :196800, avg score : 3.0\n",
      "Step # :199200, avg score : 2.5\n",
      "Step # :201600, avg score : 1.0\n",
      "Step # :204000, avg score : 3.5\n",
      "Step # :206400, avg score : 3.5\n",
      "Step # :208800, avg score : 3.0\n",
      "Step # :211200, avg score : 1.5\n",
      "Step # :213600, avg score : 5.5\n",
      "Step # :216000, avg score : 3.5\n",
      "Step # :218400, avg score : 3.5\n",
      "Step # :220800, avg score : 5.0\n",
      "Step # :223200, avg score : 1.5\n",
      "Step # :225600, avg score : 5.0\n",
      "Step # :228000, avg score : 3.5\n",
      "Step # :230400, avg score : 4.0\n",
      "Step # :232800, avg score : 6.5\n",
      "Step # :235200, avg score : 7.5\n",
      "Step # :237600, avg score : 5.0\n",
      "Step # :240000, avg score : 5.5\n",
      "Step # :242400, avg score : 5.0\n",
      "Step # :244800, avg score : 6.0\n",
      "Step # :247200, avg score : 6.0\n",
      "Step # :249600, avg score : 7.5\n",
      "Step # :252000, avg score : 5.5\n",
      "Step # :254400, avg score : 9.0\n",
      "Step # :256800, avg score : 5.5\n",
      "Step # :259200, avg score : 8.0\n",
      "Step # :261600, avg score : 6.5\n",
      "Step # :264000, avg score : 7.0\n",
      "Step # :266400, avg score : 7.0\n",
      "Step # :268800, avg score : 6.0\n",
      "Step # :271200, avg score : 8.0\n",
      "Step # :273600, avg score : 8.0\n",
      "Step # :276000, avg score : 6.0\n",
      "Step # :278400, avg score : 7.0\n",
      "Step # :280800, avg score : 7.0\n",
      "Step # :283200, avg score : 9.0\n",
      "Step # :285600, avg score : 9.5\n",
      "Step # :288000, avg score : 7.0\n",
      "Step # :290400, avg score : 9.0\n",
      "Step # :292800, avg score : 9.5\n",
      "Step # :295200, avg score : 10.5\n",
      "Step # :297600, avg score : 7.5\n",
      "Step # :300000, avg score : 10.5\n",
      "Step # :302400, avg score : 10.5\n",
      "Step # :304800, avg score : 12.0\n",
      "Step # :307200, avg score : 7.5\n",
      "Step # :309600, avg score : 12.0\n",
      "Step # :312000, avg score : 9.5\n",
      "Step # :314400, avg score : 11.0\n",
      "Step # :316800, avg score : 9.0\n",
      "Step # :319200, avg score : 7.5\n",
      "Step # :321600, avg score : 11.5\n",
      "Step # :324000, avg score : 8.5\n",
      "Step # :326400, avg score : 11.5\n",
      "Step # :328800, avg score : 9.0\n",
      "Step # :331200, avg score : 8.5\n",
      "Step # :333600, avg score : 8.5\n",
      "Step # :336000, avg score : 8.5\n",
      "Step # :338400, avg score : 8.0\n",
      "Step # :340800, avg score : 11.5\n",
      "Step # :343200, avg score : 11.0\n",
      "Step # :345600, avg score : 10.5\n",
      "Step # :348000, avg score : 12.0\n",
      "Step # :350400, avg score : 9.0\n",
      "Step # :352800, avg score : 8.5\n",
      "Step # :355200, avg score : 11.5\n",
      "Step # :357600, avg score : 11.0\n",
      "Step # :360000, avg score : 10.5\n",
      "Step # :362400, avg score : 10.5\n",
      "Step # :364800, avg score : 11.5\n",
      "Step # :367200, avg score : 12.0\n",
      "Step # :369600, avg score : 10.5\n",
      "Step # :372000, avg score : 12.5\n",
      "Step # :374400, avg score : 10.0\n",
      "Step # :376800, avg score : 11.0\n",
      "Step # :379200, avg score : 11.0\n",
      "Step # :381600, avg score : 9.5\n",
      "Step # :384000, avg score : 11.5\n",
      "Step # :386400, avg score : 9.5\n",
      "Step # :388800, avg score : 11.5\n",
      "Step # :391200, avg score : 11.0\n",
      "Step # :393600, avg score : 9.0\n",
      "Step # :396000, avg score : 8.5\n",
      "Step # :398400, avg score : 10.0\n",
      "Step # :400800, avg score : 10.5\n",
      "Step # :403200, avg score : 12.5\n",
      "Step # :405600, avg score : 11.5\n",
      "Step # :408000, avg score : 12.0\n",
      "Step # :410400, avg score : 12.0\n",
      "Step # :412800, avg score : 12.5\n",
      "Step # :415200, avg score : 10.5\n",
      "Step # :417600, avg score : 13.5\n",
      "Step # :420000, avg score : 12.5\n",
      "Step # :422400, avg score : 11.5\n",
      "Step # :424800, avg score : 12.0\n",
      "Step # :427200, avg score : 14.0\n",
      "Step # :429600, avg score : 11.5\n",
      "Step # :432000, avg score : 12.0\n",
      "Step # :434400, avg score : 13.5\n",
      "Step # :436800, avg score : 12.0\n",
      "Step # :439200, avg score : 13.0\n",
      "Step # :441600, avg score : 14.0\n",
      "Step # :444000, avg score : 12.0\n",
      "Step # :446400, avg score : 12.0\n",
      "Step # :448800, avg score : 12.0\n",
      "Step # :451200, avg score : 12.5\n",
      "Step # :453600, avg score : 15.0\n",
      "Step # :456000, avg score : 14.5\n",
      "Step # :458400, avg score : 13.5\n",
      "Step # :460800, avg score : 11.5\n",
      "Step # :463200, avg score : 13.0\n",
      "Step # :465600, avg score : 11.5\n",
      "Step # :468000, avg score : 12.0\n",
      "Step # :470400, avg score : 12.0\n",
      "Step # :472800, avg score : 14.5\n",
      "Step # :475200, avg score : 14.0\n",
      "Step # :477600, avg score : 15.0\n",
      "Step # :480000, avg score : 12.5\n",
      "Step # :482400, avg score : 13.0\n",
      "Step # :484800, avg score : 13.5\n",
      "Step # :487200, avg score : 13.0\n",
      "Step # :489600, avg score : 15.5\n",
      "Step # :492000, avg score : 15.0\n",
      "Step # :494400, avg score : 10.5\n",
      "Step # :496800, avg score : 11.5\n",
      "Step # :499200, avg score : 11.0\n",
      "Step # :501600, avg score : 12.0\n",
      "Step # :504000, avg score : 15.5\n",
      "Step # :506400, avg score : 11.5\n",
      "Step # :508800, avg score : 16.0\n",
      "Step # :511200, avg score : 14.0\n",
      "Step # :513600, avg score : 15.0\n",
      "Step # :516000, avg score : 11.5\n",
      "Step # :518400, avg score : 13.5\n",
      "Step # :520800, avg score : 15.0\n",
      "Step # :523200, avg score : 10.5\n",
      "Step # :525600, avg score : 13.5\n",
      "Step # :528000, avg score : 17.0\n",
      "Step # :530400, avg score : 11.0\n",
      "Step # :532800, avg score : 11.0\n",
      "Step # :535200, avg score : 12.0\n",
      "Step # :537600, avg score : 11.0\n",
      "Step # :540000, avg score : 12.5\n",
      "Step # :542400, avg score : 13.0\n",
      "Step # :544800, avg score : 13.0\n",
      "Step # :547200, avg score : 12.5\n",
      "Step # :549600, avg score : 12.0\n",
      "Step # :552000, avg score : 13.5\n",
      "Step # :554400, avg score : 11.0\n",
      "Step # :556800, avg score : 11.5\n",
      "Step # :559200, avg score : 11.5\n",
      "Step # :561600, avg score : 15.5\n",
      "Step # :564000, avg score : 10.5\n",
      "Step # :566400, avg score : 9.5\n",
      "Step # :568800, avg score : 14.0\n",
      "Step # :571200, avg score : 15.0\n",
      "Step # :573600, avg score : 13.5\n",
      "Step # :576000, avg score : 12.0\n",
      "Step # :578400, avg score : 13.0\n",
      "Step # :580800, avg score : 11.5\n",
      "Step # :583200, avg score : 13.5\n",
      "Step # :585600, avg score : 14.5\n",
      "Step # :588000, avg score : 14.0\n",
      "Step # :590400, avg score : 13.5\n",
      "Step # :592800, avg score : 15.5\n",
      "Step # :595200, avg score : 12.0\n",
      "Step # :597600, avg score : 13.0\n",
      "Step # :600000, avg score : 14.0\n",
      "Step # :602400, avg score : 11.5\n",
      "Step # :604800, avg score : 13.0\n",
      "Step # :607200, avg score : 15.5\n",
      "Step # :609600, avg score : 13.0\n"
     ]
    },
    {
     "name": "stdout",
     "output_type": "stream",
     "text": [
      "Step # :612000, avg score : 13.0\n",
      "Step # :614400, avg score : 14.0\n",
      "Step # :616800, avg score : 17.5\n",
      "Step # :619200, avg score : 15.5\n",
      "Step # :621600, avg score : 12.5\n",
      "Step # :624000, avg score : 12.0\n",
      "Step # :626400, avg score : 11.0\n",
      "Step # :628800, avg score : 14.0\n",
      "Step # :631200, avg score : 17.5\n",
      "Step # :633600, avg score : 11.5\n",
      "Step # :636000, avg score : 13.5\n",
      "Step # :638400, avg score : 11.5\n",
      "Step # :640800, avg score : 15.5\n",
      "Step # :643200, avg score : 12.5\n",
      "Step # :645600, avg score : 14.0\n",
      "Step # :648000, avg score : 11.0\n",
      "Step # :650400, avg score : 13.0\n",
      "Step # :652800, avg score : 13.0\n",
      "Step # :655200, avg score : 16.0\n",
      "Step # :657600, avg score : 14.5\n",
      "Step # :660000, avg score : 12.5\n",
      "Step # :662400, avg score : 17.0\n",
      "Step # :664800, avg score : 14.5\n",
      "Step # :667200, avg score : 12.0\n",
      "Step # :669600, avg score : 13.0\n",
      "Step # :672000, avg score : 13.5\n",
      "Step # :674400, avg score : 11.0\n",
      "Step # :676800, avg score : 13.5\n",
      "Step # :679200, avg score : 13.5\n",
      "Step # :681600, avg score : 11.0\n",
      "Step # :684000, avg score : 14.5\n",
      "Step # :686400, avg score : 16.0\n",
      "Step # :688800, avg score : 15.5\n",
      "Step # :691200, avg score : 12.0\n",
      "Step # :693600, avg score : 15.0\n",
      "Step # :696000, avg score : 16.0\n",
      "Step # :698400, avg score : 13.0\n",
      "Step # :700800, avg score : 14.0\n",
      "Step # :703200, avg score : 15.0\n",
      "Step # :705600, avg score : 17.5\n",
      "Step # :708000, avg score : 12.5\n",
      "Step # :710400, avg score : 14.0\n",
      "Step # :712800, avg score : 13.0\n",
      "Step # :715200, avg score : 11.5\n",
      "Step # :717600, avg score : 14.5\n",
      "Step # :720000, avg score : 16.5\n",
      "Step # :722400, avg score : 16.0\n",
      "Step # :724800, avg score : 15.0\n",
      "Step # :727200, avg score : 15.5\n",
      "Step # :729600, avg score : 15.0\n",
      "Step # :732000, avg score : 14.5\n",
      "Step # :734400, avg score : 15.0\n",
      "Step # :736800, avg score : 15.0\n",
      "Step # :739200, avg score : 13.5\n",
      "Step # :741600, avg score : 13.5\n",
      "Step # :744000, avg score : 15.5\n",
      "Step # :746400, avg score : 14.5\n",
      "Step # :748800, avg score : 18.0\n",
      "Step # :751200, avg score : 15.0\n",
      "Step # :753600, avg score : 13.0\n",
      "Step # :756000, avg score : 15.5\n",
      "Step # :758400, avg score : 13.0\n",
      "Step # :760800, avg score : 14.0\n",
      "Step # :763200, avg score : 9.5\n",
      "Step # :765600, avg score : 14.0\n",
      "Step # :768000, avg score : 17.0\n",
      "Step # :770400, avg score : 12.0\n",
      "Step # :772800, avg score : 17.0\n",
      "Step # :775200, avg score : 16.0\n",
      "Step # :777600, avg score : 17.0\n",
      "Step # :780000, avg score : 16.0\n",
      "Step # :782400, avg score : 16.0\n",
      "Step # :784800, avg score : 14.5\n",
      "Step # :787200, avg score : 16.0\n",
      "Step # :789600, avg score : 15.5\n",
      "Step # :792000, avg score : 14.5\n",
      "Step # :794400, avg score : 14.0\n",
      "Step # :796800, avg score : 15.5\n",
      "Step # :799200, avg score : 16.0\n",
      "Step # :801600, avg score : 15.5\n",
      "Step # :804000, avg score : 12.0\n",
      "Step # :806400, avg score : 15.0\n",
      "Step # :808800, avg score : 17.0\n",
      "Step # :811200, avg score : 14.0\n",
      "Step # :813600, avg score : 15.0\n",
      "Step # :816000, avg score : 13.0\n",
      "Step # :818400, avg score : 17.0\n",
      "Step # :820800, avg score : 12.5\n",
      "Step # :823200, avg score : 15.0\n",
      "Step # :825600, avg score : 15.5\n",
      "Step # :828000, avg score : 15.5\n",
      "Step # :830400, avg score : 11.0\n",
      "Step # :832800, avg score : 18.5\n",
      "Step # :835200, avg score : 12.5\n",
      "Step # :837600, avg score : 15.0\n",
      "Step # :840000, avg score : 14.5\n",
      "Step # :842400, avg score : 15.5\n",
      "Step # :844800, avg score : 14.5\n",
      "Step # :847200, avg score : 9.0\n",
      "Step # :849600, avg score : 13.0\n",
      "Step # :852000, avg score : 14.0\n",
      "Step # :854400, avg score : 15.0\n",
      "Step # :856800, avg score : 14.0\n",
      "Step # :859200, avg score : 15.0\n",
      "Step # :861600, avg score : 13.5\n",
      "Step # :864000, avg score : 14.0\n",
      "Step # :866400, avg score : 16.5\n",
      "Step # :868800, avg score : 12.0\n",
      "Step # :871200, avg score : 14.0\n",
      "Step # :873600, avg score : 17.0\n",
      "Step # :876000, avg score : 13.5\n",
      "Step # :878400, avg score : 13.5\n",
      "Step # :880800, avg score : 13.0\n",
      "Step # :883200, avg score : 15.0\n",
      "Step # :885600, avg score : 14.0\n",
      "Step # :888000, avg score : 11.0\n",
      "Step # :890400, avg score : 12.0\n",
      "Step # :892800, avg score : 15.5\n",
      "Step # :895200, avg score : 12.0\n",
      "Step # :897600, avg score : 13.0\n",
      "Step # :900000, avg score : 14.0\n",
      "Step # :902400, avg score : 14.0\n",
      "Step # :904800, avg score : 14.5\n",
      "Step # :907200, avg score : 14.5\n",
      "Step # :909600, avg score : 13.5\n",
      "Step # :912000, avg score : 13.0\n",
      "Step # :914400, avg score : 14.5\n",
      "Step # :916800, avg score : 15.5\n",
      "Step # :919200, avg score : 13.5\n",
      "Step # :921600, avg score : 12.0\n",
      "Step # :924000, avg score : 15.0\n",
      "Step # :926400, avg score : 9.5\n",
      "Step # :928800, avg score : 11.5\n",
      "Step # :931200, avg score : 12.5\n",
      "Step # :933600, avg score : 14.0\n",
      "Step # :936000, avg score : 13.0\n",
      "Step # :938400, avg score : 15.0\n",
      "Step # :940800, avg score : 13.5\n",
      "Step # :943200, avg score : 12.0\n",
      "Step # :945600, avg score : 12.0\n",
      "Step # :948000, avg score : 11.0\n",
      "Step # :950400, avg score : 12.5\n",
      "Step # :952800, avg score : 10.0\n",
      "Step # :955200, avg score : 9.0\n",
      "Step # :957600, avg score : 10.0\n",
      "Step # :960000, avg score : 9.5\n",
      "Step # :962400, avg score : 13.0\n",
      "Step # :964800, avg score : 11.0\n",
      "Step # :967200, avg score : 10.0\n",
      "Step # :969600, avg score : 7.0\n",
      "Step # :972000, avg score : 11.5\n",
      "Step # :974400, avg score : 11.0\n",
      "Step # :976800, avg score : 10.0\n",
      "Step # :979200, avg score : 7.0\n",
      "Step # :981600, avg score : 8.0\n",
      "Step # :984000, avg score : 5.5\n",
      "Step # :986400, avg score : 8.5\n",
      "Step # :988800, avg score : 8.0\n",
      "Step # :991200, avg score : 5.5\n",
      "Step # :993600, avg score : 8.0\n",
      "Step # :996000, avg score : 6.0\n",
      "Step # :998400, avg score : 4.5\n",
      "Step # :1000800, avg score : 8.5\n",
      "Step # :1003200, avg score : 4.0\n",
      "Step # :1005600, avg score : 5.0\n",
      "Step # :1008000, avg score : 6.5\n",
      "Step # :1010400, avg score : 4.5\n",
      "Step # :1012800, avg score : 6.0\n",
      "Step # :1015200, avg score : 6.5\n",
      "Step # :1017600, avg score : 2.5\n",
      "Step # :1020000, avg score : 9.0\n",
      "Step # :1022400, avg score : 8.0\n",
      "Step # :1024800, avg score : 5.5\n",
      "Step # :1027200, avg score : 4.5\n",
      "Step # :1029600, avg score : 2.5\n",
      "Step # :1032000, avg score : 8.5\n",
      "Step # :1034400, avg score : 5.5\n",
      "Step # :1036800, avg score : 3.0\n",
      "Step # :1039200, avg score : 3.5\n",
      "Step # :1041600, avg score : 5.5\n",
      "Step # :1044000, avg score : 3.5\n",
      "Step # :1046400, avg score : 5.5\n",
      "Step # :1048800, avg score : 4.5\n",
      "Step # :1051200, avg score : 3.5\n",
      "Step # :1053600, avg score : 4.5\n",
      "Step # :1056000, avg score : 5.5\n",
      "Step # :1058400, avg score : 4.0\n",
      "Step # :1060800, avg score : 2.5\n",
      "Step # :1063200, avg score : 2.0\n",
      "Step # :1065600, avg score : 4.0\n",
      "Step # :1068000, avg score : 4.0\n",
      "Step # :1070400, avg score : 1.5\n",
      "Step # :1072800, avg score : 6.0\n",
      "Step # :1075200, avg score : 0.5\n",
      "Step # :1077600, avg score : 4.0\n",
      "Step # :1080000, avg score : 5.0\n",
      "Step # :1082400, avg score : 4.0\n",
      "Step # :1084800, avg score : 5.5\n",
      "Step # :1087200, avg score : 2.0\n",
      "Step # :1089600, avg score : 1.0\n",
      "Step # :1092000, avg score : 2.5\n",
      "Step # :1094400, avg score : 1.5\n",
      "Step # :1096800, avg score : 1.5\n",
      "Step # :1099200, avg score : 2.5\n",
      "Step # :1101600, avg score : 2.0\n",
      "Step # :1104000, avg score : 3.5\n",
      "Step # :1106400, avg score : 2.0\n",
      "Step # :1108800, avg score : 1.5\n",
      "Step # :1111200, avg score : 1.5\n",
      "Step # :1113600, avg score : 2.0\n",
      "Step # :1116000, avg score : 3.0\n",
      "Step # :1118400, avg score : 3.5\n",
      "Step # :1120800, avg score : 6.0\n",
      "Step # :1123200, avg score : 3.0\n",
      "Step # :1125600, avg score : 2.0\n",
      "Step # :1128000, avg score : 3.0\n",
      "Step # :1130400, avg score : 1.0\n",
      "Step # :1132800, avg score : 0.5\n",
      "Step # :1135200, avg score : 0.5\n",
      "Step # :1137600, avg score : 1.0\n",
      "Step # :1140000, avg score : 0.0\n",
      "Step # :1142400, avg score : 2.0\n",
      "Step # :1144800, avg score : 0.0\n",
      "Step # :1147200, avg score : 3.0\n",
      "Step # :1149600, avg score : 2.0\n",
      "Step # :1152000, avg score : 3.0\n",
      "Step # :1154400, avg score : 1.0\n",
      "Step # :1156800, avg score : 0.5\n",
      "Step # :1159200, avg score : 2.5\n",
      "Step # :1161600, avg score : 3.0\n",
      "Step # :1164000, avg score : 2.0\n",
      "Step # :1166400, avg score : 1.5\n",
      "Step # :1168800, avg score : 2.5\n",
      "Step # :1171200, avg score : 1.5\n",
      "Step # :1173600, avg score : 2.0\n",
      "Step # :1176000, avg score : 1.0\n",
      "Step # :1178400, avg score : 0.0\n",
      "Step # :1180800, avg score : 2.0\n",
      "Step # :1183200, avg score : 2.5\n",
      "Step # :1185600, avg score : 1.0\n",
      "Step # :1188000, avg score : 1.5\n",
      "Step # :1190400, avg score : 3.0\n",
      "Step # :1192800, avg score : 3.0\n",
      "Step # :1195200, avg score : 3.0\n",
      "Step # :1197600, avg score : 0.0\n",
      "Step # :1200000, avg score : 4.0\n",
      "CPU times: user 5h 31min 16s, sys: 8min 18s, total: 5h 39min 35s\n",
      "Wall time: 7h 28min 8s\n"
     ]
    }
   ],
   "source": [
    "%%time\n",
    "results = train_batched_A2C(agent, game_params, lr, **train_dict)"
   ]
  },
  {
   "cell_type": "code",
   "execution_count": 24,
   "metadata": {},
   "outputs": [],
   "source": [
    "score, losses, trained_agent = results"
   ]
  },
  {
   "cell_type": "code",
   "execution_count": 25,
   "metadata": {},
   "outputs": [
    {
     "name": "stdout",
     "output_type": "stream",
     "text": [
      "Save at Results/MoveToBeacon/S_batched-A2C_1.2M-env-steps_240-steps_IXAW\n"
     ]
    },
    {
     "name": "stderr",
     "output_type": "stream",
     "text": [
      "/m/work/modules/automatic/anaconda/envs/aalto-ubuntu1804-generic/software/anaconda/2020-01-tf2/5a34a04a/lib/python3.7/site-packages/torch/serialization.py:292: UserWarning: Couldn't retrieve source code for container of type SpatialActorCritic. It won't be checked for correctness upon loading.\n",
      "  \"type \" + obj.__name__ + \". It won't be checked \"\n",
      "/m/work/modules/automatic/anaconda/envs/aalto-ubuntu1804-generic/software/anaconda/2020-01-tf2/5a34a04a/lib/python3.7/site-packages/torch/serialization.py:292: UserWarning: Couldn't retrieve source code for container of type SpatialFeatures. It won't be checked for correctness upon loading.\n",
      "  \"type \" + obj.__name__ + \". It won't be checked \"\n",
      "/m/work/modules/automatic/anaconda/envs/aalto-ubuntu1804-generic/software/anaconda/2020-01-tf2/5a34a04a/lib/python3.7/site-packages/torch/serialization.py:292: UserWarning: Couldn't retrieve source code for container of type Sequential. It won't be checked for correctness upon loading.\n",
      "  \"type \" + obj.__name__ + \". It won't be checked \"\n",
      "/m/work/modules/automatic/anaconda/envs/aalto-ubuntu1804-generic/software/anaconda/2020-01-tf2/5a34a04a/lib/python3.7/site-packages/torch/serialization.py:292: UserWarning: Couldn't retrieve source code for container of type Conv2d. It won't be checked for correctness upon loading.\n",
      "  \"type \" + obj.__name__ + \". It won't be checked \"\n",
      "/m/work/modules/automatic/anaconda/envs/aalto-ubuntu1804-generic/software/anaconda/2020-01-tf2/5a34a04a/lib/python3.7/site-packages/torch/serialization.py:292: UserWarning: Couldn't retrieve source code for container of type ReLU. It won't be checked for correctness upon loading.\n",
      "  \"type \" + obj.__name__ + \". It won't be checked \"\n",
      "/m/work/modules/automatic/anaconda/envs/aalto-ubuntu1804-generic/software/anaconda/2020-01-tf2/5a34a04a/lib/python3.7/site-packages/torch/serialization.py:292: UserWarning: Couldn't retrieve source code for container of type ResidualConvolutional. It won't be checked for correctness upon loading.\n",
      "  \"type \" + obj.__name__ + \". It won't be checked \"\n",
      "/m/work/modules/automatic/anaconda/envs/aalto-ubuntu1804-generic/software/anaconda/2020-01-tf2/5a34a04a/lib/python3.7/site-packages/torch/serialization.py:292: UserWarning: Couldn't retrieve source code for container of type LayerNorm. It won't be checked for correctness upon loading.\n",
      "  \"type \" + obj.__name__ + \". It won't be checked \"\n",
      "/m/work/modules/automatic/anaconda/envs/aalto-ubuntu1804-generic/software/anaconda/2020-01-tf2/5a34a04a/lib/python3.7/site-packages/torch/serialization.py:292: UserWarning: Couldn't retrieve source code for container of type NonSpatialFeatures. It won't be checked for correctness upon loading.\n",
      "  \"type \" + obj.__name__ + \". It won't be checked \"\n",
      "/m/work/modules/automatic/anaconda/envs/aalto-ubuntu1804-generic/software/anaconda/2020-01-tf2/5a34a04a/lib/python3.7/site-packages/torch/serialization.py:292: UserWarning: Couldn't retrieve source code for container of type ResidualLayer. It won't be checked for correctness upon loading.\n",
      "  \"type \" + obj.__name__ + \". It won't be checked \"\n",
      "/m/work/modules/automatic/anaconda/envs/aalto-ubuntu1804-generic/software/anaconda/2020-01-tf2/5a34a04a/lib/python3.7/site-packages/torch/serialization.py:292: UserWarning: Couldn't retrieve source code for container of type Linear. It won't be checked for correctness upon loading.\n",
      "  \"type \" + obj.__name__ + \". It won't be checked \"\n",
      "/m/work/modules/automatic/anaconda/envs/aalto-ubuntu1804-generic/software/anaconda/2020-01-tf2/5a34a04a/lib/python3.7/site-packages/torch/serialization.py:292: UserWarning: Couldn't retrieve source code for container of type FeaturewiseMaxPool. It won't be checked for correctness upon loading.\n",
      "  \"type \" + obj.__name__ + \". It won't be checked \"\n",
      "/m/work/modules/automatic/anaconda/envs/aalto-ubuntu1804-generic/software/anaconda/2020-01-tf2/5a34a04a/lib/python3.7/site-packages/torch/serialization.py:292: UserWarning: Couldn't retrieve source code for container of type SharedActor. It won't be checked for correctness upon loading.\n",
      "  \"type \" + obj.__name__ + \". It won't be checked \"\n",
      "/m/work/modules/automatic/anaconda/envs/aalto-ubuntu1804-generic/software/anaconda/2020-01-tf2/5a34a04a/lib/python3.7/site-packages/torch/serialization.py:292: UserWarning: Couldn't retrieve source code for container of type SharedCritic. It won't be checked for correctness upon loading.\n",
      "  \"type \" + obj.__name__ + \". It won't be checked \"\n",
      "/m/work/modules/automatic/anaconda/envs/aalto-ubuntu1804-generic/software/anaconda/2020-01-tf2/5a34a04a/lib/python3.7/site-packages/torch/serialization.py:292: UserWarning: Couldn't retrieve source code for container of type CategoricalNet. It won't be checked for correctness upon loading.\n",
      "  \"type \" + obj.__name__ + \". It won't be checked \"\n",
      "/m/work/modules/automatic/anaconda/envs/aalto-ubuntu1804-generic/software/anaconda/2020-01-tf2/5a34a04a/lib/python3.7/site-packages/torch/serialization.py:292: UserWarning: Couldn't retrieve source code for container of type SpatialParameters. It won't be checked for correctness upon loading.\n",
      "  \"type \" + obj.__name__ + \". It won't be checked \"\n"
     ]
    }
   ],
   "source": [
    "from Utils import utils\n",
    "save = True\n",
    "keywords = ['batched-A2C', \"1.2M-env-steps\",\"240-steps\"] \n",
    "\n",
    "if save:\n",
    "    save_dir = 'Results/MoveToBeacon/'\n",
    "    ID = utils.save_session(save_dir, keywords, game_params, HPs, score, losses)\n",
    "    torch.save(trained_agent, save_dir+\"agent_\"+ID)\n",
    "else:\n",
    "    print(\"Nothing saved\")\n",
    "    pass"
   ]
  },
  {
   "cell_type": "code",
   "execution_count": 18,
   "metadata": {},
   "outputs": [],
   "source": [
    "import matplotlib.pyplot as plt\n",
    "import numpy as np"
   ]
  },
  {
   "cell_type": "code",
   "execution_count": 22,
   "metadata": {},
   "outputs": [
    {
     "data": {
      "text/plain": [
       "[<matplotlib.lines.Line2D at 0x7f06c10752d0>]"
      ]
     },
     "execution_count": 22,
     "metadata": {},
     "output_type": "execute_result"
    },
    {
     "data": {
      "image/png": "[encoded data removed]",
      "text/plain": [
       "<Figure size 432x288 with 1 Axes>"
      ]
     },
     "metadata": {
      "needs_background": "light"
     },
     "output_type": "display_data"
    }
   ],
   "source": [
    "plt.plot(np.arange(len(score)), score)"
   ]
  },
  {
   "cell_type": "code",
   "execution_count": 19,
   "metadata": {},
   "outputs": [
    {
     "data": {
      "text/plain": [
       "[<matplotlib.lines.Line2D at 0x7f06c8b11e10>]"
      ]
     },
     "execution_count": 19,
     "metadata": {},
     "output_type": "execute_result"
    },
    {
     "data": {
      "image/png": "[encoded data removed]",
      "text/plain": [
       "<Figure size 432x288 with 1 Axes>"
      ]
     },
     "metadata": {
      "needs_background": "light"
     },
     "output_type": "display_data"
    }
   ],
   "source": [
    "n_epochs = np.arange(len(losses['critic_losses']))\n",
    "plt.plot(n_epochs, losses['critic_losses'])"
   ]
  },
  {
   "cell_type": "code",
   "execution_count": 20,
   "metadata": {},
   "outputs": [
    {
     "data": {
      "text/plain": [
       "[<matplotlib.lines.Line2D at 0x7f0652ad6c10>]"
      ]
     },
     "execution_count": 20,
     "metadata": {},
     "output_type": "execute_result"
    },
    {
     "data": {
      "image/png": "[encoded data removed]",
      "text/plain": [
       "<Figure size 432x288 with 1 Axes>"
      ]
     },
     "metadata": {
      "needs_background": "light"
     },
     "output_type": "display_data"
    }
   ],
   "source": [
    "plt.plot(n_epochs, losses['actor_losses'])"
   ]
  },
  {
   "cell_type": "code",
   "execution_count": 21,
   "metadata": {},
   "outputs": [
    {
     "data": {
      "text/plain": [
       "[<matplotlib.lines.Line2D at 0x7f0652d78d10>]"
      ]
     },
     "execution_count": 21,
     "metadata": {},
     "output_type": "execute_result"
    },
    {
     "data": {
      "image/png": "[encoded data removed]",
      "text/plain": [
       "<Figure size 432x288 with 1 Axes>"
      ]
     },
     "metadata": {
      "needs_background": "light"
     },
     "output_type": "display_data"
    }
   ],
   "source": [
    "plt.plot(n_epochs, -np.array(losses['entropies']))"
   ]
  },
  {
   "cell_type": "markdown",
   "metadata": {},
   "source": [
    "# Line by line"
   ]
  },
  {
   "cell_type": "code",
   "execution_count": null,
   "metadata": {},
   "outputs": [],
   "source": [
    "RESOLUTION = 16\n",
    "MAX_STEPS = 256\n",
    "game_params = dict(feature_screen=RESOLUTION, feature_minimap=RESOLUTION, action_space=\"FEATURES\") "
   ]
  },
  {
   "cell_type": "code",
   "execution_count": null,
   "metadata": {},
   "outputs": [],
   "source": [
    "env = init_game(game_params, max_steps=MAX_STEPS)"
   ]
  },
  {
   "cell_type": "code",
   "execution_count": null,
   "metadata": {},
   "outputs": [],
   "source": [
    "HPs = dict(action_space=3, n_layers=2, in_channels=3, n_channels=12, linear_size=RESOLUTION,\n",
    "           gamma=0.99, n_steps = 20, pixel_n_residuals=2, feature_n_residuals=2)\n",
    "\n",
    "if torch.cuda.is_available():\n",
    "    HPs['device'] = 'cuda'\n",
    "else:\n",
    "    HPs['device'] = 'cpu'\n",
    "    \n",
    "print(\"Using device \"+HPs['device'])\n",
    "\n",
    "lr = 1e-4\n",
    "agent = MoveToBeaconSpatialA2C(env=env, **HPs)"
   ]
  },
  {
   "cell_type": "code",
   "execution_count": null,
   "metadata": {},
   "outputs": [],
   "source": [
    "unroll_length = 240\n",
    "\n",
    "train_dict = dict(n_train_processes = 11,\n",
    "                  max_train_steps = unroll_length*100,\n",
    "                  unroll_length = unroll_length,\n",
    "                  max_episode_steps = MAX_STEPS,\n",
    "                  test_interval = unroll_length*10 #100\n",
    "                  )"
   ]
  },
  {
   "cell_type": "code",
   "execution_count": 7,
   "metadata": {},
   "outputs": [
    {
     "name": "stdout",
     "output_type": "stream",
     "text": [
      "reset done\n",
      "info sent\n",
      "reset done\n",
      "info sent\n"
     ]
    }
   ],
   "source": [
    "envs = ParallelEnv(n_train_processes, game_params, max_steps)"
   ]
  },
  {
   "cell_type": "code",
   "execution_count": 8,
   "metadata": {},
   "outputs": [],
   "source": [
    "optimizer = torch.optim.Adam(agent.AC.parameters(), lr=lr)"
   ]
  },
  {
   "cell_type": "code",
   "execution_count": 9,
   "metadata": {},
   "outputs": [
    {
     "name": "stdout",
     "output_type": "stream",
     "text": [
      "s.shape:  (2, 3, 16, 16)\n",
      "a_mask.shape:  (2, 3)\n",
      "a_mask:  [[False False  True]\n",
      " [False False  True]]\n"
     ]
    }
   ],
   "source": [
    "s, a_mask = envs.reset()\n",
    "print(\"s.shape: \", s.shape)\n",
    "print(\"a_mask.shape: \", a_mask.shape)\n",
    "print(\"a_mask: \", a_mask)"
   ]
  },
  {
   "cell_type": "markdown",
   "metadata": {},
   "source": [
    "## AC step\n",
    "\n",
    "To make a batched step we already have the state in the correct shape, but we need to:\n",
    "1. change get_action_mask of the AC so to work with a list of arrays - DONE\n",
    "2. sample all parameters every time, so that we don't need to loop between the parameter networks to get the right ones and we can vectorize it\n",
    "3. select only the parameters that we neeed\n",
    "\n",
    "Each action has 0, 1 or 2 parameters associated. We should sample a batch of arguments for each parameter of each argument and then access only the correct ones. We need a bit of structure to do that.\n",
    "\n",
    "(batch_dim, [[params0],[params1],[params2]])\n",
    "and same thing for the log_prob\n",
    "\n",
    "Unfortunately we get something like ([[],[(batch_dim, args)],[(batch_dim, arg1),(batch_dim, arg2)]])"
   ]
  },
  {
   "cell_type": "code",
   "execution_count": 10,
   "metadata": {
    "scrolled": false
   },
   "outputs": [
    {
     "name": "stdout",
     "output_type": "stream",
     "text": [
      "\n",
      "action mask:  tensor([[False, False,  True],\n",
      "        [False, False,  True]], device='cuda:0')\n",
      "logits shape:  torch.Size([2, 3])\n",
      "logits:  tensor([[-1.6008, -0.7392, -1.1371],\n",
      "        [-1.7987, -0.6966, -1.0900]], device='cuda:0',\n",
      "       grad_fn=<LogSoftmaxBackward>)\n",
      "mask shape:  torch.Size([2, 3])\n",
      "mask:  tensor([[False, False,  True],\n",
      "        [False, False,  True]], device='cuda:0')\n",
      "logits (after mask):  tensor([[-1.6008, -0.7392,    -inf],\n",
      "        [-1.7987, -0.6966,    -inf]], device='cuda:0',\n",
      "       grad_fn=<IndexPutBackward>)\n",
      "log_probs:  tensor([[-1.2141, -0.3524,    -inf],\n",
      "        [-1.3889, -0.2868,    -inf]], device='cuda:0',\n",
      "       grad_fn=<LogSoftmaxBackward>)\n",
      "spatial_features.shape:  torch.Size([2, 12, 16, 16])\n",
      "spatial_features (cuda):  True\n",
      "nonspatial_features.shape:  torch.Size([2, 12])\n",
      "nonspatial_features (cuda):  True\n",
      "probs:  tensor([[0.2970, 0.7030, 0.0000],\n",
      "        [0.2493, 0.7507, 0.0000]], device='cuda:0', grad_fn=<ExpBackward>)\n",
      "log_prob:  tensor([-0.3524, -0.2868], device='cuda:0', grad_fn=<IndexBackward>)\n",
      "action_id:  [7 7]\n",
      "a:  [1 1]\n",
      "\n",
      "arg_name : select_add\n",
      "arg_sampled:  [[1]\n",
      " [1]]\n",
      "log_prob:  tensor([-0.7806, -0.7729], device='cuda:0', grad_fn=<IndexBackward>)\n",
      "\n",
      "arg_name : queued\n",
      "arg_sampled:  [[1]\n",
      " [1]]\n",
      "log_prob:  tensor([-0.3896, -0.3533], device='cuda:0', grad_fn=<IndexBackward>)\n",
      "\n",
      "arg_name : screen\n",
      "arg_sampled:  [[0, 6], [8, 14]]\n",
      "log_prob:  tensor([-5.6474, -5.5192], device='cuda:0', grad_fn=<IndexBackward>)\n",
      "\n",
      "arg_names:  ['select_add']\n",
      "values:  [(array([[1],\n",
      "       [1]]), tensor([-0.7806, -0.7729], device='cuda:0', grad_fn=<IndexBackward>))]\n",
      "len(values):  1\n",
      "len(arg_names):  1\n",
      "len(values[0]):  2\n",
      "values[0]:  (array([[1],\n",
      "       [1]]), tensor([-0.7806, -0.7729], device='cuda:0', grad_fn=<IndexBackward>))\n",
      "values[0][0,i] [1]\n",
      "values[0][1,i] tensor(-0.7806, device='cuda:0', grad_fn=<SelectBackward>)\n",
      "arg:  [[1]]\n",
      "arg_log_prob:  tensor([-0.7806], device='cuda:0', grad_fn=<AddBackward0>)\n",
      "\n",
      "arg_names:  ['select_add']\n",
      "values:  [(array([[1],\n",
      "       [1]]), tensor([-0.7806, -0.7729], device='cuda:0', grad_fn=<IndexBackward>))]\n",
      "len(values):  1\n",
      "len(arg_names):  1\n",
      "len(values[0]):  2\n",
      "values[0]:  (array([[1],\n",
      "       [1]]), tensor([-0.7806, -0.7729], device='cuda:0', grad_fn=<IndexBackward>))\n",
      "values[0][0,i] [1]\n",
      "values[0][1,i] tensor(-0.7729, device='cuda:0', grad_fn=<SelectBackward>)\n",
      "arg:  [[1]]\n",
      "arg_log_prob:  tensor([-0.7729], device='cuda:0', grad_fn=<AddBackward0>)\n",
      "\n",
      "args:  [[[1]], [[1]]]\n",
      "args_log_prob.shape;  torch.Size([2])\n",
      "args_log_prob:  tensor([-0.7806, -0.7729], device='cuda:0', grad_fn=<SqueezeBackward0>)\n",
      "log_prob.shape:  torch.Size([2])\n",
      "log_prob:  tensor([-0.3524, -0.2868], device='cuda:0', grad_fn=<IndexBackward>)\n",
      "args_log_prob:  tensor([-0.7806, -0.7729], device='cuda:0', grad_fn=<SqueezeBackward0>)\n",
      "log_prob (after sum):  tensor([-1.1330, -1.0597], device='cuda:0', grad_fn=<AddBackward0>)\n",
      "action:  [FunctionCall(function=7, arguments=[[1]]), FunctionCall(function=7, arguments=[[1]])]\n"
     ]
    }
   ],
   "source": [
    "action, log_prob, probs = agent.step(s, a_mask)"
   ]
  },
  {
   "cell_type": "code",
   "execution_count": 11,
   "metadata": {},
   "outputs": [],
   "source": [
    "s_prime, r, done, bootstrap, s_trg, a_mask = envs.step(action)\n"
   ]
  },
  {
   "cell_type": "code",
   "execution_count": 13,
   "metadata": {},
   "outputs": [
    {
     "name": "stdout",
     "output_type": "stream",
     "text": [
      "s_prime.shape;  (2, 3, 16, 16)\n",
      "r.shape:  (2,)\n",
      "done.shape:  (2,)\n",
      "bootstrap.shape:  (2,)\n",
      "s_trg.shape:  (2, 3, 16, 16)\n",
      "a_mask.shape:  (2, 3)\n"
     ]
    }
   ],
   "source": [
    "print(\"s_prime.shape; \", s_prime.shape)\n",
    "print(\"r.shape: \", r.shape)\n",
    "print(\"done.shape: \", done.shape)\n",
    "print(\"bootstrap.shape: \", bootstrap.shape)\n",
    "print(\"s_trg.shape: \", s_trg.shape)\n",
    "print(\"a_mask.shape: \", a_mask.shape)"
   ]
  },
  {
   "cell_type": "code",
   "execution_count": 16,
   "metadata": {},
   "outputs": [
    {
     "name": "stdout",
     "output_type": "stream",
     "text": [
      "r:  [0 0]\n",
      "done:  [False False]\n",
      "bootstrap:  [False False]\n",
      "a_mask:  [[False False False]\n",
      " [False False False]]\n"
     ]
    }
   ],
   "source": [
    "#print(\"s_prime: \", s_prime)\n",
    "print(\"r: \", r)\n",
    "print(\"done: \", done)\n",
    "print(\"bootstrap: \", bootstrap)\n",
    "#print(\"s_trg: \", s_trg)\n",
    "print(\"a_mask: \", a_mask)"
   ]
  },
  {
   "cell_type": "code",
   "execution_count": 15,
   "metadata": {
    "scrolled": true
   },
   "outputs": [
    {
     "name": "stdout",
     "output_type": "stream",
     "text": [
      "\n",
      "action mask:  tensor([[False, False, False],\n",
      "        [False, False, False]], device='cuda:0')\n",
      "logits shape:  torch.Size([2, 3])\n",
      "logits:  tensor([[-1.6421, -0.7365, -1.1158],\n",
      "        [-1.7094, -0.7659, -1.0381]], device='cuda:0',\n",
      "       grad_fn=<LogSoftmaxBackward>)\n",
      "mask shape:  torch.Size([2, 3])\n",
      "mask:  tensor([[False, False, False],\n",
      "        [False, False, False]], device='cuda:0')\n",
      "logits (after mask):  tensor([[-1.6421, -0.7365, -1.1158],\n",
      "        [-1.7094, -0.7659, -1.0381]], device='cuda:0',\n",
      "       grad_fn=<IndexPutBackward>)\n",
      "log_probs:  tensor([[-1.6421, -0.7365, -1.1158],\n",
      "        [-1.7094, -0.7659, -1.0381]], device='cuda:0',\n",
      "       grad_fn=<LogSoftmaxBackward>)\n",
      "spatial_features.shape:  torch.Size([2, 12, 16, 16])\n",
      "spatial_features (cuda):  True\n",
      "nonspatial_features.shape:  torch.Size([2, 12])\n",
      "nonspatial_features (cuda):  True\n",
      "probs:  tensor([[0.1936, 0.4788, 0.3277],\n",
      "        [0.1810, 0.4649, 0.3541]], device='cuda:0', grad_fn=<ExpBackward>)\n",
      "log_prob:  tensor([-0.7365, -1.0381], device='cuda:0', grad_fn=<IndexBackward>)\n",
      "action_id:  [ 7 12]\n",
      "a:  [1 2]\n",
      "\n",
      "arg_name : select_add\n",
      "arg_sampled:  [[0]\n",
      " [0]]\n",
      "log_prob:  tensor([-0.5926, -0.6014], device='cuda:0', grad_fn=<IndexBackward>)\n",
      "\n",
      "arg_name : queued\n",
      "arg_sampled:  [[1]\n",
      " [1]]\n",
      "log_prob:  tensor([-0.3817, -0.3831], device='cuda:0', grad_fn=<IndexBackward>)\n",
      "\n",
      "arg_name : screen\n",
      "arg_sampled:  [[1, 13], [12, 8]]\n",
      "log_prob:  tensor([-5.4873, -5.5075], device='cuda:0', grad_fn=<IndexBackward>)\n",
      "\n",
      "arg_names:  ['select_add']\n",
      "values:  [(array([[0],\n",
      "       [0]]), tensor([-0.5926, -0.6014], device='cuda:0', grad_fn=<IndexBackward>))]\n",
      "len(values):  1\n",
      "len(arg_names):  1\n",
      "len(values[0]):  2\n",
      "values[0]:  (array([[0],\n",
      "       [0]]), tensor([-0.5926, -0.6014], device='cuda:0', grad_fn=<IndexBackward>))\n",
      "values[0][0,i] [0]\n",
      "values[0][1,i] tensor(-0.5926, device='cuda:0', grad_fn=<SelectBackward>)\n",
      "arg:  [[0]]\n",
      "arg_log_prob:  tensor([-0.5926], device='cuda:0', grad_fn=<AddBackward0>)\n",
      "\n",
      "arg_names:  ['queued', 'screen']\n",
      "values:  [(array([[1],\n",
      "       [1]]), tensor([-0.3817, -0.3831], device='cuda:0', grad_fn=<IndexBackward>)), ([[1, 13], [12, 8]], tensor([-5.4873, -5.5075], device='cuda:0', grad_fn=<IndexBackward>))]\n",
      "len(values):  2\n",
      "len(arg_names):  2\n",
      "len(values[0]):  2\n",
      "values[0]:  (array([[1],\n",
      "       [1]]), tensor([-0.3817, -0.3831], device='cuda:0', grad_fn=<IndexBackward>))\n",
      "values[0][0,i] [1]\n",
      "values[0][1,i] tensor(-0.3831, device='cuda:0', grad_fn=<SelectBackward>)\n",
      "values[1][0,i] [12, 8]\n",
      "values[1][1,i] tensor(-5.5075, device='cuda:0', grad_fn=<SelectBackward>)\n",
      "arg:  [[1], [12, 8]]\n",
      "arg_log_prob:  tensor([-5.8906], device='cuda:0', grad_fn=<AddBackward0>)\n",
      "\n",
      "args:  [[[0]], [[1], [12, 8]]]\n",
      "args_log_prob.shape;  torch.Size([2])\n",
      "args_log_prob:  tensor([-0.5926, -5.8906], device='cuda:0', grad_fn=<SqueezeBackward0>)\n",
      "log_prob.shape:  torch.Size([2])\n",
      "log_prob:  tensor([-0.7365, -1.0381], device='cuda:0', grad_fn=<IndexBackward>)\n",
      "args_log_prob:  tensor([-0.5926, -5.8906], device='cuda:0', grad_fn=<SqueezeBackward0>)\n",
      "log_prob (after sum):  tensor([-1.3291, -6.9287], device='cuda:0', grad_fn=<AddBackward0>)\n",
      "action:  [FunctionCall(function=7, arguments=[[0]]), FunctionCall(function=12, arguments=[[1], [12, 8]])]\n"
     ]
    }
   ],
   "source": [
    "action, log_prob, probs = agent.step(s_prime, a_mask)"
   ]
  },
  {
   "cell_type": "code",
   "execution_count": 17,
   "metadata": {},
   "outputs": [],
   "source": [
    "s_prime, r, done, bootstrap, s_trg, a_mask = envs.step(action)"
   ]
  },
  {
   "cell_type": "code",
   "execution_count": null,
   "metadata": {},
   "outputs": [],
   "source": []
  },
  {
   "cell_type": "code",
   "execution_count": 19,
   "metadata": {},
   "outputs": [],
   "source": [
    "envs.close()"
   ]
  },
  {
   "cell_type": "code",
   "execution_count": 15,
   "metadata": {},
   "outputs": [],
   "source": [
    "import torch\n",
    "import torch.nn.functional as F"
   ]
  },
  {
   "cell_type": "code",
   "execution_count": 26,
   "metadata": {},
   "outputs": [],
   "source": [
    "logits = torch.rand((2,3), requires_grad=True)\n",
    "mask = torch.tensor([[False, False, True], [False, False, True]])\n",
    "x = F.log_softmax(logits.masked_fill((mask).bool(), float('-inf')), dim=-1) "
   ]
  },
  {
   "cell_type": "code",
   "execution_count": 28,
   "metadata": {},
   "outputs": [],
   "source": [
    "x.sum().backward()"
   ]
  },
  {
   "cell_type": "code",
   "execution_count": null,
   "metadata": {},
   "outputs": [],
   "source": []
  }
 ],
 "metadata": {
  "kernelspec": {
   "display_name": "Python 3",
   "language": "python",
   "name": "python3"
  },
  "language_info": {
   "codemirror_mode": {
    "name": "ipython",
    "version": 3
   },
   "file_extension": ".py",
   "mimetype": "text/x-python",
   "name": "python",
   "nbconvert_exporter": "python",
   "pygments_lexer": "ipython3",
   "version": "3.7.6"
  }
 },
 "nbformat": 4,
 "nbformat_minor": 2
}
