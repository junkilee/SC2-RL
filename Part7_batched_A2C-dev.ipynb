{
 "cells": [
  {
   "cell_type": "markdown",
   "metadata": {},
   "source": [
    "To use a batched A2C we have to adapt both the step method and how we store information for the update.\n",
    "In particular:\n",
    "1. Instead of using observations of the environment with everything attached, elaborate the information and extract only the useful variables, so that they can be stacked in numpy arrays when possbile.\n",
    "2. step method works with observation, but should work with a batch of states and available actions; Probably it will be infeasible to vectorize the selection of the parameters of the actions, because the output and the procedure varies from action to action.\n",
    "3. The part in which we compute the loss is okay, because we use only the critic to make predictions, so the only problem is to store the information in batches.\n",
    "\n",
    "NOTE: remember to add all networks to the optimizer initialization"
   ]
  },
  {
   "cell_type": "code",
   "execution_count": 1,
   "metadata": {},
   "outputs": [
    {
     "name": "stdout",
     "output_type": "stream",
     "text": [
      "pygame 1.9.6\n",
      "Hello from the pygame community. https://www.pygame.org/contribute.html\n"
     ]
    }
   ],
   "source": [
    "from Utils.train_batched_A2C import *\n",
    "from AC_modules.BatchedA2C import MoveToBeaconSpatialA2C\n",
    "import AC_modules.Networks as net\n",
    "import torch"
   ]
  },
  {
   "cell_type": "code",
   "execution_count": 2,
   "metadata": {},
   "outputs": [],
   "source": [
    "def train_batched_A2C(agent, game_params, lr, n_train_processes, max_train_steps, \n",
    "                      unroll_length, max_episode_steps, test_interval=100):\n",
    "    \n",
    "    test_env = init_game(game_params, max_episode_steps)\n",
    "    envs = ParallelEnv(n_train_processes, game_params, max_episode_steps)\n",
    "\n",
    "    optimizer = torch.optim.Adam(agent.AC.parameters(), lr=lr)\n",
    "\n",
    "    score = []\n",
    "    critic_losses = [] \n",
    "    actor_losses = []\n",
    "    entropies = []\n",
    "    \n",
    "    step_idx = 0\n",
    "    while step_idx < max_train_steps:\n",
    "        s_lst, r_lst, done_lst, bootstrap_lst, s_trg_lst = list(), list(), list(), list(), list(), list()\n",
    "        log_probs = []\n",
    "        distributions = []\n",
    "        s, a_mask = envs.reset()\n",
    "        for _ in range(unroll_length):\n",
    "\n",
    "            a, log_prob, probs = agent.step(s, a_mask)\n",
    "            log_probs.append(log_prob)\n",
    "            distributions.append(probs)\n",
    "\n",
    "            s_prime, r, done, bootstrap, s_trg, a_mask = envs.step(a)\n",
    "            s_lst.append(s)\n",
    "            r_lst.append(r)\n",
    "            done_lst.append(done)\n",
    "            bootstrap_lst.append(bootstrap)\n",
    "            s_trg_lst.append(s_trg)\n",
    "\n",
    "            s = s_prime\n",
    "            step_idx += 1 #n_train_processes\n",
    "\n",
    "        s_lst = np.array(s_lst).transpose(1,0,2,3,4)\n",
    "        r_lst = np.array(r_lst).transpose(1,0)\n",
    "        done_lst = np.array(done_lst).transpose(1,0)\n",
    "        bootstrap_lst = np.array(bootstrap_lst).transpose(1,0)\n",
    "        s_trg_lst = np.array(s_trg_lst).transpose(1,0,2,3,4)\n",
    "\n",
    "        critic_loss, actor_loss, entropy = agent.compute_ac_loss(r_lst, log_probs, distributions, \n",
    "                                                                 s_lst, done_lst, bootstrap_lst, s_trg_lst)\n",
    "\n",
    "        \n",
    "        loss = (critic_loss + actor_loss).mean()\n",
    "        optimizer.zero_grad()\n",
    "        loss.backward()\n",
    "        optimizer.step()\n",
    "        \n",
    "        critic_losses.append(critic_loss.item())\n",
    "        actor_losses.append(actor_loss.item())\n",
    "        entropies.append(entropy.item())\n",
    "        \n",
    "        ### Test time ###\n",
    "        if step_idx % test_interval == 0:\n",
    "            avg_score = test(step_idx, agent, test_env)\n",
    "            score.append(avg_score)\n",
    "    envs.close()\n",
    "    \n",
    "    losses = dict(critic_losses=critic_losses, actor_losses=actor_losses, entropies=entropies)\n",
    "    return score, losses, agent"
   ]
  },
  {
   "cell_type": "code",
   "execution_count": 3,
   "metadata": {},
   "outputs": [],
   "source": [
    "def test(step_idx, agent, test_env, num_test=5):\n",
    "    score = 0.0\n",
    "    done = False\n",
    "    for _ in range(num_test):\n",
    "        \n",
    "        obs = test_env.reset()\n",
    "        s = get_ohe_state(obs)[np.newaxis, ...] # add batch dim\n",
    "        available_actions = obs[0].observation.available_actions\n",
    "        a_mask = get_action_mask(available_actions)[np.newaxis, ...] # add batch dim\n",
    "        \n",
    "        rewards = []\n",
    "        while not done:\n",
    "            a, log_prob, probs = agent.step(s, a_mask)\n",
    "            obs = test_env.step(a)\n",
    "            s_prime = get_ohe_state(obs)[np.newaxis, ...] # add batch dim\n",
    "            reward = obs[0].reward\n",
    "            done = obs[0].last()\n",
    "            available_actions = obs[0].observation.available_actions\n",
    "            a_mask = get_action_mask(available_actions)[np.newaxis, ...] # add batch dim\n",
    "            \n",
    "            s = s_prime\n",
    "            score += reward\n",
    "            rewards.append(reward)\n",
    "        done = False\n",
    "\n",
    "    print(f\"Step # : {step_idx}, avg score : {score/num_test:.1f}\")\n",
    "    return score/num_test"
   ]
  },
  {
   "cell_type": "code",
   "execution_count": 4,
   "metadata": {},
   "outputs": [],
   "source": [
    "RESOLUTION = 16\n",
    "MAX_STEPS = 256\n",
    "game_params = dict(feature_screen=RESOLUTION, feature_minimap=RESOLUTION, action_space=\"FEATURES\") "
   ]
  },
  {
   "cell_type": "code",
   "execution_count": 5,
   "metadata": {},
   "outputs": [],
   "source": [
    "env = init_game(game_params, max_steps=MAX_STEPS)"
   ]
  },
  {
   "cell_type": "code",
   "execution_count": 6,
   "metadata": {},
   "outputs": [
    {
     "name": "stdout",
     "output_type": "stream",
     "text": [
      "FullyConvNet_v1 selected.\n"
     ]
    }
   ],
   "source": [
    "# Define the two models used in the architecture\n",
    "model_number = 1\n",
    "model_names = {0:\"FullyConvNet_v0\", 1:\"FullyConvNet_v1\", 2:\"ControlNet\", 3:\"GatedRelationalNet\"}\n",
    "\n",
    "if model_number == 0:\n",
    "    print(model_names[model_number]+\" selected.\")\n",
    "    spatial_model = net.FullyConvSpatial\n",
    "    nonspatial_model = net.FullyConvNonSpatial\n",
    "    n_channels = 32\n",
    "    n_features = 256\n",
    "    spatial_dict = {\"in_channels\":3}\n",
    "    nonspatial_dict = {}\n",
    "    \n",
    "if model_number == 1:\n",
    "    print(model_names[model_number]+\" selected.\")\n",
    "    spatial_model = net.FullyConvSpatial_v1\n",
    "    nonspatial_model = net.FullyConvNonSpatial_v1\n",
    "    n_channels = 32\n",
    "    n_features = 256\n",
    "    spatial_dict = {\"in_channels\":3}\n",
    "    nonspatial_dict = {}\n",
    "    \n",
    "elif model_number == 2:\n",
    "    print(model_names[model_number]+\" selected.\")\n",
    "    spatial_model = net.SpatialFeatures\n",
    "    nonspatial_model = net.NonSpatialFeatures\n",
    "    n_channels = 32\n",
    "    n_features = 32\n",
    "    spatial_dict = dict(n_layers=2, linear_size=RESOLUTION, in_channels=3, n_channels=n_features)\n",
    "    nonspatial_dict = dict(linear_size=RESOLUTION, n_channels=n_features, pixel_hidden_dim=128, pixel_n_residuals=2, \n",
    "                 feature_hidden_dim=256, feature_n_residuals=2)\n",
    "elif model_number == 3:\n",
    "    print(model_names[model_number]+\" selected.\")\n",
    "    patial_model = net.SpatialFeatures\n",
    "    nonspatial_model = net.GatedRelationalNet\n",
    "    n_channels = 32\n",
    "    n_features = 32\n",
    "    spatial_dict = dict(n_layers=2, linear_size=RESOLUTION, in_channels=3, n_channels=n_features)\n",
    "\n",
    "    nonspatial_dict = dict(n_kernels=n_features, n_features=n_features, n_heads=1, n_attn_modules=2, \n",
    "                     feature_hidden_dim=16, feature_n_residuals=1)\n",
    "\n",
    "else:\n",
    "    print(\"Model number not available. Choose 0, 1, 2 or 3.\")"
   ]
  },
  {
   "cell_type": "code",
   "execution_count": 7,
   "metadata": {
    "scrolled": true
   },
   "outputs": [
    {
     "name": "stdout",
     "output_type": "stream",
     "text": [
      "Using device cuda\n",
      "\n",
      "arg.name:  select_add\n",
      "size:  (2,)\n",
      "Init CategoricalNet for select_add argument\n",
      "\n",
      "arg.name:  queued\n",
      "size:  (2,)\n",
      "Init CategoricalNet for queued argument\n",
      "\n",
      "arg.name:  screen\n",
      "size:  (16, 16)\n",
      "Init SpatialNet for screen argument\n"
     ]
    }
   ],
   "source": [
    "HPs = dict(action_space=3, gamma=0.99, n_steps=5, spatial_model=spatial_model, nonspatial_model=nonspatial_model,\n",
    "           n_features=n_features, n_channels=n_channels, spatial_dict=spatial_dict, nonspatial_dict=nonspatial_dict)\n",
    "\n",
    "if torch.cuda.is_available():\n",
    "    HPs['device'] = 'cuda'\n",
    "else:\n",
    "    HPs['device'] = 'cpu'\n",
    "    \n",
    "print(\"Using device \"+HPs['device'])\n",
    "\n",
    "lr = 1e-3\n",
    "agent = MoveToBeaconSpatialA2C(env=env, **HPs)"
   ]
  },
  {
   "cell_type": "code",
   "execution_count": 8,
   "metadata": {},
   "outputs": [],
   "source": [
    "unroll_length = 240\n",
    "\n",
    "train_dict = dict(n_train_processes = 11,\n",
    "                  max_train_steps = unroll_length*1000,\n",
    "                  unroll_length = unroll_length,\n",
    "                  max_episode_steps = MAX_STEPS,\n",
    "                  test_interval = unroll_length*10 #100\n",
    "                  )"
   ]
  },
  {
   "cell_type": "markdown",
   "metadata": {},
   "source": [
    "Learning rates to try:\n",
    "- 1e-3\n",
    "- 3e-4 (this was with learning rate schedule)"
   ]
  },
  {
   "cell_type": "code",
   "execution_count": 9,
   "metadata": {
    "scrolled": true
   },
   "outputs": [
    {
     "name": "stdout",
     "output_type": "stream",
     "text": [
      "Step # : 2400, avg score : 0.8\n",
      "Step # : 4800, avg score : 1.2\n",
      "Step # : 7200, avg score : 0.8\n",
      "Step # : 9600, avg score : 0.8\n",
      "Step # : 12000, avg score : 1.8\n",
      "Step # : 14400, avg score : 1.0\n",
      "Step # : 16800, avg score : 2.2\n",
      "Step # : 19200, avg score : 1.6\n",
      "Step # : 21600, avg score : 0.8\n",
      "Step # : 24000, avg score : 1.2\n",
      "Step # : 26400, avg score : 1.8\n",
      "Step # : 28800, avg score : 1.6\n",
      "Step # : 31200, avg score : 1.0\n",
      "Step # : 33600, avg score : 2.6\n",
      "Step # : 36000, avg score : 1.8\n",
      "Step # : 38400, avg score : 2.4\n",
      "Step # : 40800, avg score : 1.0\n",
      "Step # : 43200, avg score : 0.8\n",
      "Step # : 45600, avg score : 1.6\n",
      "Step # : 48000, avg score : 1.0\n",
      "Step # : 50400, avg score : 1.2\n",
      "Step # : 52800, avg score : 0.8\n",
      "Step # : 55200, avg score : 0.6\n",
      "Step # : 57600, avg score : 1.4\n",
      "Step # : 60000, avg score : 2.0\n",
      "Step # : 62400, avg score : 3.2\n",
      "Step # : 64800, avg score : 2.2\n",
      "Step # : 67200, avg score : 1.0\n",
      "Step # : 69600, avg score : 2.0\n",
      "Step # : 72000, avg score : 0.4\n",
      "Step # : 74400, avg score : 0.8\n",
      "Step # : 76800, avg score : 0.8\n",
      "Step # : 79200, avg score : 0.2\n",
      "Step # : 81600, avg score : 1.4\n",
      "Step # : 84000, avg score : 0.8\n",
      "Step # : 86400, avg score : 0.6\n",
      "Step # : 88800, avg score : 1.0\n",
      "Step # : 91200, avg score : 2.6\n",
      "Step # : 93600, avg score : 1.2\n",
      "Step # : 96000, avg score : 2.2\n",
      "Step # : 98400, avg score : 2.4\n",
      "Step # : 100800, avg score : 2.8\n",
      "Step # : 103200, avg score : 2.2\n",
      "Step # : 105600, avg score : 1.8\n",
      "Step # : 108000, avg score : 2.6\n",
      "Step # : 110400, avg score : 3.8\n",
      "Step # : 112800, avg score : 2.2\n",
      "Step # : 115200, avg score : 2.6\n",
      "Step # : 117600, avg score : 3.0\n",
      "Step # : 120000, avg score : 1.6\n",
      "Step # : 122400, avg score : 1.8\n",
      "Step # : 124800, avg score : 1.8\n",
      "Step # : 127200, avg score : 1.6\n",
      "Step # : 129600, avg score : 2.6\n",
      "Step # : 132000, avg score : 3.2\n",
      "Step # : 134400, avg score : 3.4\n",
      "Step # : 136800, avg score : 4.0\n",
      "Step # : 139200, avg score : 2.8\n",
      "Step # : 141600, avg score : 3.0\n",
      "Step # : 144000, avg score : 2.8\n",
      "Step # : 146400, avg score : 2.4\n",
      "Step # : 148800, avg score : 3.4\n",
      "Step # : 151200, avg score : 2.2\n",
      "Step # : 153600, avg score : 4.0\n",
      "Step # : 156000, avg score : 2.8\n",
      "Step # : 158400, avg score : 2.6\n",
      "Step # : 160800, avg score : 2.6\n",
      "Step # : 163200, avg score : 3.0\n",
      "Step # : 165600, avg score : 2.6\n",
      "Step # : 168000, avg score : 3.4\n",
      "Step # : 170400, avg score : 3.6\n",
      "Step # : 172800, avg score : 3.2\n",
      "Step # : 175200, avg score : 4.8\n",
      "Step # : 177600, avg score : 3.8\n",
      "Step # : 180000, avg score : 2.2\n",
      "Step # : 182400, avg score : 2.8\n",
      "Step # : 184800, avg score : 3.4\n",
      "Step # : 187200, avg score : 3.2\n",
      "Step # : 189600, avg score : 4.8\n",
      "Step # : 192000, avg score : 3.0\n",
      "Step # : 194400, avg score : 4.6\n",
      "Step # : 196800, avg score : 2.8\n",
      "Step # : 199200, avg score : 2.6\n",
      "Step # : 201600, avg score : 3.8\n",
      "Step # : 204000, avg score : 2.6\n",
      "Step # : 206400, avg score : 2.2\n",
      "Step # : 208800, avg score : 2.4\n",
      "Step # : 211200, avg score : 2.6\n",
      "Step # : 213600, avg score : 3.4\n",
      "Step # : 216000, avg score : 2.4\n",
      "Step # : 218400, avg score : 5.2\n",
      "Step # : 220800, avg score : 2.0\n",
      "Step # : 223200, avg score : 3.0\n",
      "Step # : 225600, avg score : 2.8\n",
      "Step # : 228000, avg score : 2.2\n",
      "Step # : 230400, avg score : 3.4\n",
      "Step # : 232800, avg score : 4.4\n",
      "Step # : 235200, avg score : 3.0\n",
      "Step # : 237600, avg score : 3.8\n",
      "Step # : 240000, avg score : 3.4\n",
      "CPU times: user 1h 6min 58s, sys: 2min 11s, total: 1h 9min 9s\n",
      "Wall time: 1h 32min 54s\n"
     ]
    }
   ],
   "source": [
    "%%time\n",
    "results = train_batched_A2C(agent, game_params, lr, **train_dict)"
   ]
  },
  {
   "cell_type": "markdown",
   "metadata": {},
   "source": [
    "### Models tried:\n",
    "\n",
    "**FullyConv_v0**\n",
    "- Spatial network: \n",
    "    - conv 5x5, padding 2, 16 kernels \n",
    "    - ReLU\n",
    "    - conv 3x3, padding 1, 32 kernels\n",
    "    - ReLU\n",
    "- Non-Spatial network: flatten on pixel dimensions (16x16 -> 256) + linear layer (256 -> 1) with ReLU\n",
    "\n",
    "We obtain a 32-dimensional vector, used to compute the policy, value and categorical (non-spatial) parameters.\n",
    "- Policy net: 32 -> 256 -> ReLU -> n_actions (3)\n",
    "- Value net: 32 -> 256 -> ReLU -> 1\n",
    "- Categorical net: 32 -> 256 -> ReLU -> n_values (usually 2, for boolean flags)\n",
    "\n",
    "To compute the spatial parameters:\n",
    "- Conv2d 1x1 kernel from 32 to 1 channels (obtain 1 channel image and sample the pixel after softmax)\n",
    "\n",
    "Learning rates tried:\n",
    "- $10^{-4}$ for 1M+ steps -> nothing\n",
    "- $5\\cdot10^{-5}$ for 2M+ steps -> nothing\n",
    "\n",
    "n-steps used: 20 ( not 100% sure they were 20 in the first trial, maybe they were 5)\n",
    "\n",
    "**FullyConv**\n",
    "- Spatial network: \n",
    "    - conv 5x5, padding 2, 16 kernels \n",
    "    - ReLU\n",
    "    - conv 3x3, padding 1, 32 kernels\n",
    "    - ReLU\n",
    "- Non-Spatial network: flatten on pixel + channel dimensions (32x16x16 -> 8192) + linear layer (8192 -> 256) with ReLU\n",
    "\n",
    "We obtain a 256-dimensional vector, used to compute the policy, value and categorical (non-spatial) parameters.\n",
    "- Policy net: 256-> n_actions (3)\n",
    "- Value net: 256 -> 1\n",
    "- Categorical net: 256 -> 256 -> ReLU -> n_values (usually 2, for boolean flags)\n",
    "\n",
    "To compute the spatial parameters:\n",
    "- Conv2d 1x1 kernel from 32 to 1 channels (obtain 1 channel image and sample the pixel after softmax)\n",
    "\n",
    "Learning rates tried:\n",
    "- $10^{-4}$ for 1M+ steps -> nothing\n",
    "- $5\\cdot10^{-5}$ for 1.2M steps -> slight improvement (from 1.5 to 3 something) - training part 2\n",
    "- $10^{-3}$ for 2.4M steps -> peak at 1.5M and then drop almost to 0 - 5 steps used\n",
    "\n",
    "n-steps used: 20 first trial w/ lr 1e-4, now 5 steps\n",
    "\n",
    "**ResidualConv**\n",
    "- Spatial network: \n",
    "    - conv 5x5, padding 2, 16 kernels \n",
    "    - ReLU\n",
    "    - conv 3x3, padding 1, 32 kernels\n",
    "    - ReLU\n",
    "    - residual conv 3x3, padding 1, 32 -> 32 kernels + skip connection\n",
    "- Non-Spatial network: \n",
    "    - flatten on pixel + channel dimensions (32x16x16 -> 8192) \n",
    "    - linear layer (8192 -> 256) with ReLU\n",
    "    - 256 -> LayerNorm-> 64 -> ReLU -> 256 + skip connection and ReLU at the end\n",
    "\n",
    "We obtain a 256-dimensional vector, used to compute the policy, value and categorical (non-spatial) parameters.\n",
    "- Policy net: 256-> 256 -> ReLU -> n_actions (3)\n",
    "- Value net: 256 -> 256 -> ReLU -> 1\n",
    "- Categorical net: 256 -> 256 -> ReLU -> n_values (usually 2, for boolean flags)\n",
    "\n",
    "To compute the spatial parameters:\n",
    "- Conv2d 1x1 kernel from 32 to 1 channels (obtain 1 channel image and sample the pixel after softmax)\n",
    "\n",
    "\n",
    "**OheNet**\n",
    "- Spatial network: \n",
    "    - 1 conv layer (3x3, padding 1, 24 kernels), \n",
    "    - 1 residual conv layer (3x3 padding 1 + skip connection, 24 -> 24 channels)\n",
    "- Non-Spatial network:\n",
    "    - 2 residual layers on pixel dim (256 -> LayerNorm -> 128 -> ReLU -> 256 + skip connection)\n",
    "    - Featurewise maxpool (24,256) -> (24)\n",
    "    - 2 residual layers on feature dim (32 -> LayerNorm -> 256 -> ReLU -> 32 + skip connection)\n",
    "    \n",
    "Same networks for policy, value and categorical parameters. Slightly different for spatial parameters (3x3 conv w/ 1 padding instead of 1x1 conv w/ 0 padding)\n",
    "\n",
    "Learning rates tried:\n",
    "- $5\\cdot 10^{-5}$ for 1.2M steps -> reward peak at 15 (800k steps) and then collapse to random baseline"
   ]
  },
  {
   "cell_type": "markdown",
   "metadata": {},
   "source": [
    "Episodes per test: 2\n",
    "\n",
    "test every 10:  8min 58s = 538 s (24k steps) <br>\n",
    "test every 20:  8min 39s = 519 s (24k steps) <br>\n",
    "\n",
    "Episodes per test: 10\n",
    "\n",
    "test every 10: 11min 3s = 663 s (24k steps) <br>\n",
    "test every 20: 9min 44s = 584 s (24k steps) <br>\n",
    "test every 10: 9min 44s = 584 s (24k steps) - FullyConv <br>\n",
    "\n",
    "\n",
    "Percentage increase in number episodes (count n parallel processes as 1 for semplicity)\n",
    "+ 2/10* 100*K= 20*K% = 7.6%\n",
    "+ 1/10* 100*K = 10*K% = 3.8%\n",
    "+ 1* 100*K = 100*K% = 38%\n",
    "+ 2* 100*K = 200*K% = 76%\n",
    "\n",
    "$t = (\\frac{20K}{100}+1)t_0$\n",
    "\n",
    "$t_0$ identical for everyone, K idem -> 2 unknowns and 4 equations\n",
    "\n",
    "$t_1+t_2 = (\\frac{30K}{100}+2)t_0$ -> $t_1+t_2 = (\\frac{30K}{100}+2)(t_1 - t_2)\\frac{100}{10K}$\n",
    "\n",
    "$t_1-t_2 = (\\frac{10K}{100})t_0$ -> $t_0 = (t_1 - t_2)\\frac{100}{10K}$\n",
    "\n",
    "K = 0.38"
   ]
  },
  {
   "cell_type": "code",
   "execution_count": 10,
   "metadata": {},
   "outputs": [],
   "source": [
    "score, losses, trained_agent = results"
   ]
  },
  {
   "cell_type": "code",
   "execution_count": 11,
   "metadata": {},
   "outputs": [
    {
     "name": "stdout",
     "output_type": "stream",
     "text": [
      "Nothing saved\n"
     ]
    }
   ],
   "source": [
    "from Utils import utils\n",
    "save = False\n",
    "keywords = ['batched-A2C', \"fully-conv\",'lr-1e-3','5-steps', \"1.2M-env-steps\",\"240-steps\",'COYJ-pt2'] \n",
    "\n",
    "if save:\n",
    "    save_dir = 'Results/MoveToBeacon/'\n",
    "    ID = utils.save_session(save_dir, keywords, game_params, HPs, score, losses)\n",
    "    torch.save(trained_agent, save_dir+\"agent_\"+ID)\n",
    "else:\n",
    "    print(\"Nothing saved\")\n",
    "    pass"
   ]
  },
  {
   "cell_type": "code",
   "execution_count": 12,
   "metadata": {},
   "outputs": [],
   "source": [
    "import matplotlib.pyplot as plt\n",
    "import numpy as np"
   ]
  },
  {
   "cell_type": "code",
   "execution_count": 13,
   "metadata": {},
   "outputs": [
    {
     "data": {
      "text/plain": [
       "[<matplotlib.lines.Line2D at 0x7f73d8a19bd0>]"
      ]
     },
     "execution_count": 13,
     "metadata": {},
     "output_type": "execute_result"
    },
    {
     "data": {
      "image/png": "[encoded data removed]",
      "text/plain": [
       "<Figure size 432x288 with 1 Axes>"
      ]
     },
     "metadata": {
      "needs_background": "light"
     },
     "output_type": "display_data"
    }
   ],
   "source": [
    "plt.plot(np.arange(len(score)), score)"
   ]
  },
  {
   "cell_type": "code",
   "execution_count": 14,
   "metadata": {},
   "outputs": [
    {
     "data": {
      "text/plain": [
       "[<matplotlib.lines.Line2D at 0x7f73d89ca9d0>]"
      ]
     },
     "execution_count": 14,
     "metadata": {},
     "output_type": "execute_result"
    },
    {
     "data": {
      "image/png": "[encoded data removed]",
      "text/plain": [
       "<Figure size 432x288 with 1 Axes>"
      ]
     },
     "metadata": {
      "needs_background": "light"
     },
     "output_type": "display_data"
    }
   ],
   "source": [
    "n_epochs = np.arange(len(losses['critic_losses']))\n",
    "plt.plot(n_epochs, losses['critic_losses'])"
   ]
  },
  {
   "cell_type": "code",
   "execution_count": 15,
   "metadata": {},
   "outputs": [
    {
     "data": {
      "text/plain": [
       "[<matplotlib.lines.Line2D at 0x7f73d88ce310>]"
      ]
     },
     "execution_count": 15,
     "metadata": {},
     "output_type": "execute_result"
    },
    {
     "data": {
      "image/png": "[encoded data removed]",
      "text/plain": [
       "<Figure size 432x288 with 1 Axes>"
      ]
     },
     "metadata": {
      "needs_background": "light"
     },
     "output_type": "display_data"
    }
   ],
   "source": [
    "plt.plot(n_epochs, losses['actor_losses'])"
   ]
  },
  {
   "cell_type": "code",
   "execution_count": 16,
   "metadata": {},
   "outputs": [
    {
     "data": {
      "text/plain": [
       "[<matplotlib.lines.Line2D at 0x7f73d88b2710>]"
      ]
     },
     "execution_count": 16,
     "metadata": {},
     "output_type": "execute_result"
    },
    {
     "data": {
      "image/png": "[encoded data removed]",
      "text/plain": [
       "<Figure size 432x288 with 1 Axes>"
      ]
     },
     "metadata": {
      "needs_background": "light"
     },
     "output_type": "display_data"
    }
   ],
   "source": [
    "plt.plot(n_epochs, -np.array(losses['entropies']))"
   ]
  },
  {
   "cell_type": "markdown",
   "metadata": {},
   "source": [
    "# Line by line"
   ]
  },
  {
   "cell_type": "code",
   "execution_count": null,
   "metadata": {},
   "outputs": [],
   "source": [
    "RESOLUTION = 16\n",
    "MAX_STEPS = 256\n",
    "game_params = dict(feature_screen=RESOLUTION, feature_minimap=RESOLUTION, action_space=\"FEATURES\") "
   ]
  },
  {
   "cell_type": "code",
   "execution_count": null,
   "metadata": {},
   "outputs": [],
   "source": [
    "env = init_game(game_params, max_steps=MAX_STEPS)"
   ]
  },
  {
   "cell_type": "code",
   "execution_count": null,
   "metadata": {},
   "outputs": [],
   "source": [
    "HPs = dict(action_space=3, n_layers=2, in_channels=3, n_channels=12, linear_size=RESOLUTION,\n",
    "           gamma=0.99, n_steps = 20, pixel_n_residuals=2, feature_n_residuals=2)\n",
    "\n",
    "if torch.cuda.is_available():\n",
    "    HPs['device'] = 'cuda'\n",
    "else:\n",
    "    HPs['device'] = 'cpu'\n",
    "    \n",
    "print(\"Using device \"+HPs['device'])\n",
    "\n",
    "lr = 1e-4\n",
    "agent = MoveToBeaconSpatialA2C(env=env, **HPs)"
   ]
  },
  {
   "cell_type": "code",
   "execution_count": null,
   "metadata": {},
   "outputs": [],
   "source": [
    "unroll_length = 240\n",
    "\n",
    "train_dict = dict(n_train_processes = 11,\n",
    "                  max_train_steps = unroll_length*100,\n",
    "                  unroll_length = unroll_length,\n",
    "                  max_episode_steps = MAX_STEPS,\n",
    "                  test_interval = unroll_length*10 #100\n",
    "                  )"
   ]
  },
  {
   "cell_type": "code",
   "execution_count": 7,
   "metadata": {},
   "outputs": [
    {
     "name": "stdout",
     "output_type": "stream",
     "text": [
      "reset done\n",
      "info sent\n",
      "reset done\n",
      "info sent\n"
     ]
    }
   ],
   "source": [
    "envs = ParallelEnv(n_train_processes, game_params, max_steps)"
   ]
  },
  {
   "cell_type": "code",
   "execution_count": 8,
   "metadata": {},
   "outputs": [],
   "source": [
    "optimizer = torch.optim.Adam(agent.AC.parameters(), lr=lr)"
   ]
  },
  {
   "cell_type": "code",
   "execution_count": 9,
   "metadata": {},
   "outputs": [
    {
     "name": "stdout",
     "output_type": "stream",
     "text": [
      "s.shape:  (2, 3, 16, 16)\n",
      "a_mask.shape:  (2, 3)\n",
      "a_mask:  [[False False  True]\n",
      " [False False  True]]\n"
     ]
    }
   ],
   "source": [
    "s, a_mask = envs.reset()\n",
    "print(\"s.shape: \", s.shape)\n",
    "print(\"a_mask.shape: \", a_mask.shape)\n",
    "print(\"a_mask: \", a_mask)"
   ]
  },
  {
   "cell_type": "markdown",
   "metadata": {},
   "source": [
    "## AC step\n",
    "\n",
    "To make a batched step we already have the state in the correct shape, but we need to:\n",
    "1. change get_action_mask of the AC so to work with a list of arrays - DONE\n",
    "2. sample all parameters every time, so that we don't need to loop between the parameter networks to get the right ones and we can vectorize it\n",
    "3. select only the parameters that we neeed\n",
    "\n",
    "Each action has 0, 1 or 2 parameters associated. We should sample a batch of arguments for each parameter of each argument and then access only the correct ones. We need a bit of structure to do that.\n",
    "\n",
    "(batch_dim, [[params0],[params1],[params2]])\n",
    "and same thing for the log_prob\n",
    "\n",
    "Unfortunately we get something like ([[],[(batch_dim, args)],[(batch_dim, arg1),(batch_dim, arg2)]])"
   ]
  },
  {
   "cell_type": "code",
   "execution_count": 10,
   "metadata": {
    "scrolled": false
   },
   "outputs": [
    {
     "name": "stdout",
     "output_type": "stream",
     "text": [
      "\n",
      "action mask:  tensor([[False, False,  True],\n",
      "        [False, False,  True]], device='cuda:0')\n",
      "logits shape:  torch.Size([2, 3])\n",
      "logits:  tensor([[-1.6008, -0.7392, -1.1371],\n",
      "        [-1.7987, -0.6966, -1.0900]], device='cuda:0',\n",
      "       grad_fn=<LogSoftmaxBackward>)\n",
      "mask shape:  torch.Size([2, 3])\n",
      "mask:  tensor([[False, False,  True],\n",
      "        [False, False,  True]], device='cuda:0')\n",
      "logits (after mask):  tensor([[-1.6008, -0.7392,    -inf],\n",
      "        [-1.7987, -0.6966,    -inf]], device='cuda:0',\n",
      "       grad_fn=<IndexPutBackward>)\n",
      "log_probs:  tensor([[-1.2141, -0.3524,    -inf],\n",
      "        [-1.3889, -0.2868,    -inf]], device='cuda:0',\n",
      "       grad_fn=<LogSoftmaxBackward>)\n",
      "spatial_features.shape:  torch.Size([2, 12, 16, 16])\n",
      "spatial_features (cuda):  True\n",
      "nonspatial_features.shape:  torch.Size([2, 12])\n",
      "nonspatial_features (cuda):  True\n",
      "probs:  tensor([[0.2970, 0.7030, 0.0000],\n",
      "        [0.2493, 0.7507, 0.0000]], device='cuda:0', grad_fn=<ExpBackward>)\n",
      "log_prob:  tensor([-0.3524, -0.2868], device='cuda:0', grad_fn=<IndexBackward>)\n",
      "action_id:  [7 7]\n",
      "a:  [1 1]\n",
      "\n",
      "arg_name : select_add\n",
      "arg_sampled:  [[1]\n",
      " [1]]\n",
      "log_prob:  tensor([-0.7806, -0.7729], device='cuda:0', grad_fn=<IndexBackward>)\n",
      "\n",
      "arg_name : queued\n",
      "arg_sampled:  [[1]\n",
      " [1]]\n",
      "log_prob:  tensor([-0.3896, -0.3533], device='cuda:0', grad_fn=<IndexBackward>)\n",
      "\n",
      "arg_name : screen\n",
      "arg_sampled:  [[0, 6], [8, 14]]\n",
      "log_prob:  tensor([-5.6474, -5.5192], device='cuda:0', grad_fn=<IndexBackward>)\n",
      "\n",
      "arg_names:  ['select_add']\n",
      "values:  [(array([[1],\n",
      "       [1]]), tensor([-0.7806, -0.7729], device='cuda:0', grad_fn=<IndexBackward>))]\n",
      "len(values):  1\n",
      "len(arg_names):  1\n",
      "len(values[0]):  2\n",
      "values[0]:  (array([[1],\n",
      "       [1]]), tensor([-0.7806, -0.7729], device='cuda:0', grad_fn=<IndexBackward>))\n",
      "values[0][0,i] [1]\n",
      "values[0][1,i] tensor(-0.7806, device='cuda:0', grad_fn=<SelectBackward>)\n",
      "arg:  [[1]]\n",
      "arg_log_prob:  tensor([-0.7806], device='cuda:0', grad_fn=<AddBackward0>)\n",
      "\n",
      "arg_names:  ['select_add']\n",
      "values:  [(array([[1],\n",
      "       [1]]), tensor([-0.7806, -0.7729], device='cuda:0', grad_fn=<IndexBackward>))]\n",
      "len(values):  1\n",
      "len(arg_names):  1\n",
      "len(values[0]):  2\n",
      "values[0]:  (array([[1],\n",
      "       [1]]), tensor([-0.7806, -0.7729], device='cuda:0', grad_fn=<IndexBackward>))\n",
      "values[0][0,i] [1]\n",
      "values[0][1,i] tensor(-0.7729, device='cuda:0', grad_fn=<SelectBackward>)\n",
      "arg:  [[1]]\n",
      "arg_log_prob:  tensor([-0.7729], device='cuda:0', grad_fn=<AddBackward0>)\n",
      "\n",
      "args:  [[[1]], [[1]]]\n",
      "args_log_prob.shape;  torch.Size([2])\n",
      "args_log_prob:  tensor([-0.7806, -0.7729], device='cuda:0', grad_fn=<SqueezeBackward0>)\n",
      "log_prob.shape:  torch.Size([2])\n",
      "log_prob:  tensor([-0.3524, -0.2868], device='cuda:0', grad_fn=<IndexBackward>)\n",
      "args_log_prob:  tensor([-0.7806, -0.7729], device='cuda:0', grad_fn=<SqueezeBackward0>)\n",
      "log_prob (after sum):  tensor([-1.1330, -1.0597], device='cuda:0', grad_fn=<AddBackward0>)\n",
      "action:  [FunctionCall(function=7, arguments=[[1]]), FunctionCall(function=7, arguments=[[1]])]\n"
     ]
    }
   ],
   "source": [
    "action, log_prob, probs = agent.step(s, a_mask)"
   ]
  },
  {
   "cell_type": "code",
   "execution_count": 11,
   "metadata": {},
   "outputs": [],
   "source": [
    "s_prime, r, done, bootstrap, s_trg, a_mask = envs.step(action)\n"
   ]
  },
  {
   "cell_type": "code",
   "execution_count": 13,
   "metadata": {},
   "outputs": [
    {
     "name": "stdout",
     "output_type": "stream",
     "text": [
      "s_prime.shape;  (2, 3, 16, 16)\n",
      "r.shape:  (2,)\n",
      "done.shape:  (2,)\n",
      "bootstrap.shape:  (2,)\n",
      "s_trg.shape:  (2, 3, 16, 16)\n",
      "a_mask.shape:  (2, 3)\n"
     ]
    }
   ],
   "source": [
    "print(\"s_prime.shape; \", s_prime.shape)\n",
    "print(\"r.shape: \", r.shape)\n",
    "print(\"done.shape: \", done.shape)\n",
    "print(\"bootstrap.shape: \", bootstrap.shape)\n",
    "print(\"s_trg.shape: \", s_trg.shape)\n",
    "print(\"a_mask.shape: \", a_mask.shape)"
   ]
  },
  {
   "cell_type": "code",
   "execution_count": 16,
   "metadata": {},
   "outputs": [
    {
     "name": "stdout",
     "output_type": "stream",
     "text": [
      "r:  [0 0]\n",
      "done:  [False False]\n",
      "bootstrap:  [False False]\n",
      "a_mask:  [[False False False]\n",
      " [False False False]]\n"
     ]
    }
   ],
   "source": [
    "#print(\"s_prime: \", s_prime)\n",
    "print(\"r: \", r)\n",
    "print(\"done: \", done)\n",
    "print(\"bootstrap: \", bootstrap)\n",
    "#print(\"s_trg: \", s_trg)\n",
    "print(\"a_mask: \", a_mask)"
   ]
  },
  {
   "cell_type": "code",
   "execution_count": 15,
   "metadata": {
    "scrolled": true
   },
   "outputs": [
    {
     "name": "stdout",
     "output_type": "stream",
     "text": [
      "\n",
      "action mask:  tensor([[False, False, False],\n",
      "        [False, False, False]], device='cuda:0')\n",
      "logits shape:  torch.Size([2, 3])\n",
      "logits:  tensor([[-1.6421, -0.7365, -1.1158],\n",
      "        [-1.7094, -0.7659, -1.0381]], device='cuda:0',\n",
      "       grad_fn=<LogSoftmaxBackward>)\n",
      "mask shape:  torch.Size([2, 3])\n",
      "mask:  tensor([[False, False, False],\n",
      "        [False, False, False]], device='cuda:0')\n",
      "logits (after mask):  tensor([[-1.6421, -0.7365, -1.1158],\n",
      "        [-1.7094, -0.7659, -1.0381]], device='cuda:0',\n",
      "       grad_fn=<IndexPutBackward>)\n",
      "log_probs:  tensor([[-1.6421, -0.7365, -1.1158],\n",
      "        [-1.7094, -0.7659, -1.0381]], device='cuda:0',\n",
      "       grad_fn=<LogSoftmaxBackward>)\n",
      "spatial_features.shape:  torch.Size([2, 12, 16, 16])\n",
      "spatial_features (cuda):  True\n",
      "nonspatial_features.shape:  torch.Size([2, 12])\n",
      "nonspatial_features (cuda):  True\n",
      "probs:  tensor([[0.1936, 0.4788, 0.3277],\n",
      "        [0.1810, 0.4649, 0.3541]], device='cuda:0', grad_fn=<ExpBackward>)\n",
      "log_prob:  tensor([-0.7365, -1.0381], device='cuda:0', grad_fn=<IndexBackward>)\n",
      "action_id:  [ 7 12]\n",
      "a:  [1 2]\n",
      "\n",
      "arg_name : select_add\n",
      "arg_sampled:  [[0]\n",
      " [0]]\n",
      "log_prob:  tensor([-0.5926, -0.6014], device='cuda:0', grad_fn=<IndexBackward>)\n",
      "\n",
      "arg_name : queued\n",
      "arg_sampled:  [[1]\n",
      " [1]]\n",
      "log_prob:  tensor([-0.3817, -0.3831], device='cuda:0', grad_fn=<IndexBackward>)\n",
      "\n",
      "arg_name : screen\n",
      "arg_sampled:  [[1, 13], [12, 8]]\n",
      "log_prob:  tensor([-5.4873, -5.5075], device='cuda:0', grad_fn=<IndexBackward>)\n",
      "\n",
      "arg_names:  ['select_add']\n",
      "values:  [(array([[0],\n",
      "       [0]]), tensor([-0.5926, -0.6014], device='cuda:0', grad_fn=<IndexBackward>))]\n",
      "len(values):  1\n",
      "len(arg_names):  1\n",
      "len(values[0]):  2\n",
      "values[0]:  (array([[0],\n",
      "       [0]]), tensor([-0.5926, -0.6014], device='cuda:0', grad_fn=<IndexBackward>))\n",
      "values[0][0,i] [0]\n",
      "values[0][1,i] tensor(-0.5926, device='cuda:0', grad_fn=<SelectBackward>)\n",
      "arg:  [[0]]\n",
      "arg_log_prob:  tensor([-0.5926], device='cuda:0', grad_fn=<AddBackward0>)\n",
      "\n",
      "arg_names:  ['queued', 'screen']\n",
      "values:  [(array([[1],\n",
      "       [1]]), tensor([-0.3817, -0.3831], device='cuda:0', grad_fn=<IndexBackward>)), ([[1, 13], [12, 8]], tensor([-5.4873, -5.5075], device='cuda:0', grad_fn=<IndexBackward>))]\n",
      "len(values):  2\n",
      "len(arg_names):  2\n",
      "len(values[0]):  2\n",
      "values[0]:  (array([[1],\n",
      "       [1]]), tensor([-0.3817, -0.3831], device='cuda:0', grad_fn=<IndexBackward>))\n",
      "values[0][0,i] [1]\n",
      "values[0][1,i] tensor(-0.3831, device='cuda:0', grad_fn=<SelectBackward>)\n",
      "values[1][0,i] [12, 8]\n",
      "values[1][1,i] tensor(-5.5075, device='cuda:0', grad_fn=<SelectBackward>)\n",
      "arg:  [[1], [12, 8]]\n",
      "arg_log_prob:  tensor([-5.8906], device='cuda:0', grad_fn=<AddBackward0>)\n",
      "\n",
      "args:  [[[0]], [[1], [12, 8]]]\n",
      "args_log_prob.shape;  torch.Size([2])\n",
      "args_log_prob:  tensor([-0.5926, -5.8906], device='cuda:0', grad_fn=<SqueezeBackward0>)\n",
      "log_prob.shape:  torch.Size([2])\n",
      "log_prob:  tensor([-0.7365, -1.0381], device='cuda:0', grad_fn=<IndexBackward>)\n",
      "args_log_prob:  tensor([-0.5926, -5.8906], device='cuda:0', grad_fn=<SqueezeBackward0>)\n",
      "log_prob (after sum):  tensor([-1.3291, -6.9287], device='cuda:0', grad_fn=<AddBackward0>)\n",
      "action:  [FunctionCall(function=7, arguments=[[0]]), FunctionCall(function=12, arguments=[[1], [12, 8]])]\n"
     ]
    }
   ],
   "source": [
    "action, log_prob, probs = agent.step(s_prime, a_mask)"
   ]
  },
  {
   "cell_type": "code",
   "execution_count": 17,
   "metadata": {},
   "outputs": [],
   "source": [
    "s_prime, r, done, bootstrap, s_trg, a_mask = envs.step(action)"
   ]
  },
  {
   "cell_type": "code",
   "execution_count": null,
   "metadata": {},
   "outputs": [],
   "source": []
  },
  {
   "cell_type": "code",
   "execution_count": 19,
   "metadata": {},
   "outputs": [],
   "source": [
    "envs.close()"
   ]
  },
  {
   "cell_type": "code",
   "execution_count": 15,
   "metadata": {},
   "outputs": [],
   "source": [
    "import torch\n",
    "import torch.nn.functional as F"
   ]
  },
  {
   "cell_type": "code",
   "execution_count": 26,
   "metadata": {},
   "outputs": [],
   "source": [
    "logits = torch.rand((2,3), requires_grad=True)\n",
    "mask = torch.tensor([[False, False, True], [False, False, True]])\n",
    "x = F.log_softmax(logits.masked_fill((mask).bool(), float('-inf')), dim=-1) "
   ]
  },
  {
   "cell_type": "code",
   "execution_count": 28,
   "metadata": {},
   "outputs": [],
   "source": [
    "x.sum().backward()"
   ]
  },
  {
   "cell_type": "code",
   "execution_count": null,
   "metadata": {},
   "outputs": [],
   "source": []
  }
 ],
 "metadata": {
  "kernelspec": {
   "display_name": "Python 3",
   "language": "python",
   "name": "python3"
  },
  "language_info": {
   "codemirror_mode": {
    "name": "ipython",
    "version": 3
   },
   "file_extension": ".py",
   "mimetype": "text/x-python",
   "name": "python",
   "nbconvert_exporter": "python",
   "pygments_lexer": "ipython3",
   "version": "3.7.6"
  }
 },
 "nbformat": 4,
 "nbformat_minor": 2
}
