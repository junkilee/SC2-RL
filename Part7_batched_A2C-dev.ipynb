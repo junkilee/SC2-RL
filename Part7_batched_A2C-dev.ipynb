{
 "cells": [
  {
   "cell_type": "markdown",
   "metadata": {},
   "source": [
    "To use a batched A2C we have to adapt both the step method and how we store information for the update.\n",
    "In particular:\n",
    "1. Instead of using observations of the environment with everything attached, elaborate the information and extract only the useful variables, so that they can be stacked in numpy arrays when possbile.\n",
    "2. step method works with observation, but should work with a batch of states and available actions; Probably it will be infeasible to vectorize the selection of the parameters of the actions, because the output and the procedure varies from action to action.\n",
    "3. The part in which we compute the loss is okay, because we use only the critic to make predictions, so the only problem is to store the information in batches.\n",
    "\n",
    "NOTE: remember to add all networks to the optimizer initialization"
   ]
  },
  {
   "cell_type": "code",
   "execution_count": 1,
   "metadata": {},
   "outputs": [
    {
     "name": "stdout",
     "output_type": "stream",
     "text": [
      "pygame 1.9.6\n",
      "Hello from the pygame community. https://www.pygame.org/contribute.html\n"
     ]
    }
   ],
   "source": [
    "from Utils.train_batched_A2C import *\n",
    "from Utils import train_batched_REINFORCE as reinf_train\n",
    "from AC_modules.BatchedA2C import MoveToBeaconSpatialA2C\n",
    "import AC_modules.Networks as net\n",
    "import torch"
   ]
  },
  {
   "cell_type": "code",
   "execution_count": 3,
   "metadata": {},
   "outputs": [],
   "source": [
    "RESOLUTION = 64\n",
    "MAX_STEPS = 256\n",
    "game_params = dict(feature_screen=RESOLUTION, feature_minimap=RESOLUTION, action_space=\"FEATURES\") "
   ]
  },
  {
   "cell_type": "code",
   "execution_count": 4,
   "metadata": {},
   "outputs": [],
   "source": [
    "env = init_game(game_params, max_steps=MAX_STEPS)"
   ]
  },
  {
   "cell_type": "code",
   "execution_count": 5,
   "metadata": {},
   "outputs": [
    {
     "name": "stdout",
     "output_type": "stream",
     "text": [
      "FullyConvNet_v0 selected.\n"
     ]
    }
   ],
   "source": [
    "# Define the two models used in the architecture\n",
    "model_number = 0\n",
    "model_names = {0:\"FullyConvNet_v0\", 1:\"FullyConvNet_v1\", 2:\"FullyConvNet_V2\", 3:\"ControlNet\", 4:\"GatedRelationalNet\"}\n",
    "\n",
    "if model_number == 0:\n",
    "    print(model_names[model_number]+\" selected.\")\n",
    "    spatial_model = net.FullyConvSpatial\n",
    "    nonspatial_model = net.FullyConvNonSpatial\n",
    "    n_channels = 32\n",
    "    n_features = 256\n",
    "    spatial_dict = {\"in_channels\":2}\n",
    "    nonspatial_dict = {'resolution':RESOLUTION}\n",
    "    \n",
    "elif model_number == 1:\n",
    "    print(model_names[model_number]+\" selected.\")\n",
    "    spatial_model = net.FullyConvSpatial_v1\n",
    "    nonspatial_model = net.FullyConvNonSpatial_v1\n",
    "    n_channels = 32\n",
    "    n_features = 256\n",
    "    spatial_dict = {\"in_channels\":3, 'resolution':RESOLUTION}\n",
    "    nonspatial_dict = {'resolution':RESOLUTION}\n",
    "\n",
    "elif model_number == 2:\n",
    "    print(model_names[model_number]+\" selected.\")\n",
    "    spatial_model = net.FullyConvSpatial_v2\n",
    "    nonspatial_model = net.FullyConvNonSpatial_v2\n",
    "    n_channels = 32\n",
    "    n_features = 256\n",
    "    spatial_dict = {\"in_channels\":6, 'resolution':RESOLUTION}\n",
    "    nonspatial_dict = {'resolution':RESOLUTION}\n",
    "    \n",
    "elif model_number == 3:\n",
    "    print(model_names[model_number]+\" selected.\")\n",
    "    spatial_model = net.SpatialFeatures\n",
    "    nonspatial_model = net.NonSpatialFeatures\n",
    "    n_channels = 36\n",
    "    n_features = 36\n",
    "    spatial_dict = dict(n_layers=1, linear_size=RESOLUTION, in_channels=6, n_channels=n_features)\n",
    "    nonspatial_dict = dict(linear_size=RESOLUTION, n_channels=n_features, pixel_hidden_dim=128, pixel_n_residuals=2, \n",
    "                 feature_hidden_dim=64, feature_n_residuals=2)\n",
    "elif model_number == 4:\n",
    "    print(model_names[model_number]+\" selected.\")\n",
    "    spatial_model = net.SpatialFeatures\n",
    "    nonspatial_model = net.GatedRelationalNet\n",
    "    n_channels = 32\n",
    "    n_features = 32\n",
    "    spatial_dict = dict(n_layers=2, linear_size=RESOLUTION, in_channels=3, n_channels=n_features)\n",
    "\n",
    "    nonspatial_dict = dict(n_kernels=n_features, n_features=n_features, n_heads=1, n_attn_modules=2, \n",
    "                     feature_hidden_dim=16, feature_n_residuals=1)\n",
    "\n",
    "else:\n",
    "    print(\"Model number not available. Choose 0, 1, 2 or 3.\")"
   ]
  },
  {
   "cell_type": "code",
   "execution_count": 6,
   "metadata": {
    "scrolled": true
   },
   "outputs": [
    {
     "name": "stdout",
     "output_type": "stream",
     "text": [
      "Using device cuda\n"
     ]
    }
   ],
   "source": [
    "HPs = dict(action_space=3, gamma=0.99, n_steps=20, H=1e-3, \n",
    "           spatial_model=spatial_model, nonspatial_model=nonspatial_model,\n",
    "           n_features=n_features, n_channels=n_channels, \n",
    "           spatial_dict=spatial_dict, nonspatial_dict=nonspatial_dict)\n",
    "\n",
    "if torch.cuda.is_available():\n",
    "    HPs['device'] = 'cuda'\n",
    "else:\n",
    "    HPs['device'] = 'cpu'\n",
    "    \n",
    "print(\"Using device \"+HPs['device'])\n",
    "\n",
    "lr = 7e-4\n",
    "agent = MoveToBeaconSpatialA2C(env=env, **HPs)"
   ]
  },
  {
   "cell_type": "code",
   "execution_count": 7,
   "metadata": {},
   "outputs": [],
   "source": [
    "unroll_length = 60\n",
    "\n",
    "train_dict = dict(n_train_processes = 11,\n",
    "                  max_train_steps = unroll_length*2000,\n",
    "                  unroll_length = unroll_length,\n",
    "                  max_episode_steps = MAX_STEPS,\n",
    "                  test_interval = unroll_length*20 #100\n",
    "                  )"
   ]
  },
  {
   "cell_type": "code",
   "execution_count": 7,
   "metadata": {
    "scrolled": true
   },
   "outputs": [],
   "source": [
    "#%%time\n",
    "#results = reinf_train.train_batched_A2C(agent, game_params, lr, **train_dict)"
   ]
  },
  {
   "cell_type": "code",
   "execution_count": null,
   "metadata": {
    "scrolled": false
   },
   "outputs": [
    {
     "name": "stdout",
     "output_type": "stream",
     "text": [
      "Process ID:  TBOR\n",
      "Step # : 1200, avg score : 1.6\n",
      "Step # : 2400, avg score : 1.8\n",
      "Step # : 3600, avg score : 1.4\n",
      "Step # : 4800, avg score : 1.4\n",
      "Step # : 6000, avg score : 2.2\n",
      "Step # : 7200, avg score : 12.4\n"
     ]
    }
   ],
   "source": [
    "%%time\n",
    "results = train_batched_A2C(agent, game_params, lr, **train_dict)"
   ]
  },
  {
   "cell_type": "markdown",
   "metadata": {},
   "source": [
    "Debugging:\n",
    "1. index sampling -> argument selection -> action selection are okay (x first convention)\n",
    "2. queued = False works/is selected\n",
    "3. in test trajectories agent moves coherently all the time\n",
    "4. on recorded trajectories instead we have strange behaviours sometimes, like it happens that it moves in a direction opposite both to the current and the last action\n",
    "5. test trajectories are okay also using the step multiplier"
   ]
  },
  {
   "cell_type": "code",
   "execution_count": 2,
   "metadata": {
    "scrolled": true
   },
   "outputs": [],
   "source": [
    "#%%time\n",
    "torch.cuda.empty_cache()\n",
    "#results = train_from_checkpoint(agent, game_params, lr, PID=\"KMNS\", step_idx=1280000, **train_dict)"
   ]
  },
  {
   "cell_type": "markdown",
   "metadata": {},
   "source": [
    "### Models tried:\n",
    "\n",
    "**FullyConv_v0**\n",
    "- Spatial network: \n",
    "    - conv 5x5, padding 2, 16 kernels \n",
    "    - ReLU\n",
    "    - conv 3x3, padding 1, 32 kernels\n",
    "    - ReLU\n",
    "- Non-Spatial network: flatten on pixel dimensions (16x16 -> 256) + linear layer (256 -> 1) with ReLU\n",
    "\n",
    "We obtain a 32-dimensional vector, used to compute the policy, value and categorical (non-spatial) parameters.\n",
    "- Policy net: 32 -> 256 -> ReLU -> n_actions (3)\n",
    "- Value net: 32 -> 256 -> ReLU -> 1\n",
    "- Categorical net: 32 -> 256 -> ReLU -> n_values (usually 2, for boolean flags)\n",
    "\n",
    "To compute the spatial parameters:\n",
    "- Conv2d 1x1 kernel from 32 to 1 channels (obtain 1 channel image and sample the pixel after softmax)\n",
    "\n",
    "Learning rates tried:\n",
    "- $10^{-4}$ for 1M+ steps -> nothing\n",
    "- $5\\cdot10^{-5}$ for 2M+ steps -> nothing\n",
    "\n",
    "n-steps used: 20 ( not 100% sure they were 20 in the first trial, maybe they were 5)\n",
    "\n",
    "**FullyConv**\n",
    "- Spatial network: \n",
    "    - conv 5x5, padding 2, 16 kernels \n",
    "    - ReLU\n",
    "    - conv 3x3, padding 1, 32 kernels\n",
    "    - ReLU\n",
    "- Non-Spatial network: flatten on pixel + channel dimensions (32x16x16 -> 8192) + linear layer (8192 -> 256) with ReLU\n",
    "\n",
    "We obtain a 256-dimensional vector, used to compute the policy, value and categorical (non-spatial) parameters.\n",
    "- Policy net: 256-> n_actions (3)\n",
    "- Value net: 256 -> 1\n",
    "- Categorical net: 256 -> 256 -> ReLU -> n_values (usually 2, for boolean flags)\n",
    "\n",
    "To compute the spatial parameters:\n",
    "- Conv2d 1x1 kernel from 32 to 1 channels (obtain 1 channel image and sample the pixel after softmax)\n",
    "\n",
    "Learning rates tried:\n",
    "- $10^{-4}$ for 1M+ steps -> nothing\n",
    "- $5\\cdot10^{-5}$ for 1.2M steps -> slight improvement (from 1.5 to 3 something) - training part 2\n",
    "- $10^{-3}$ for 2.4M steps -> peak at 1.5M and then drop almost to 0 - 5 steps used\n",
    "\n",
    "n-steps used: 20 first trial w/ lr 1e-4, now 5 steps\n",
    "\n",
    "**ResidualConv**\n",
    "- Spatial network: \n",
    "    - conv 5x5, padding 2, 16 kernels \n",
    "    - ReLU\n",
    "    - conv 3x3, padding 1, 32 kernels\n",
    "    - ReLU\n",
    "    - residual conv 3x3, padding 1, 32 -> 32 kernels + skip connection\n",
    "- Non-Spatial network: \n",
    "    - flatten on pixel + channel dimensions (32x16x16 -> 8192) \n",
    "    - linear layer (8192 -> 256) with ReLU\n",
    "    - 256 -> LayerNorm-> 64 -> ReLU -> 256 + skip connection and ReLU at the end\n",
    "\n",
    "We obtain a 256-dimensional vector, used to compute the policy, value and categorical (non-spatial) parameters.\n",
    "- Policy net: 256-> 256 -> ReLU -> n_actions (3)\n",
    "- Value net: 256 -> 256 -> ReLU -> 1\n",
    "- Categorical net: 256 -> 256 -> ReLU -> n_values (usually 2, for boolean flags)\n",
    "\n",
    "To compute the spatial parameters:\n",
    "- Conv2d 1x1 kernel from 32 to 1 channels (obtain 1 channel image and sample the pixel after softmax)\n",
    "\n",
    "\n",
    "**OheNet**\n",
    "- Spatial network: \n",
    "    - 1 conv layer (3x3, padding 1, 24 kernels), \n",
    "    - 1 residual conv layer (3x3 padding 1 + skip connection, 24 -> 24 channels)\n",
    "- Non-Spatial network:\n",
    "    - 2 residual layers on pixel dim (256 -> LayerNorm -> 128 -> ReLU -> 256 + skip connection)\n",
    "    - Featurewise maxpool (24,256) -> (24)\n",
    "    - 2 residual layers on feature dim (32 -> LayerNorm -> 256 -> ReLU -> 32 + skip connection)\n",
    "    \n",
    "Same networks for policy, value and categorical parameters. Slightly different for spatial parameters (3x3 conv w/ 1 padding instead of 1x1 conv w/ 0 padding)\n",
    "\n",
    "Learning rates tried:\n",
    "- $5\\cdot 10^{-5}$ for 1.2M steps -> reward peak at 15 (800k steps) and then collapse to random baseline"
   ]
  },
  {
   "cell_type": "code",
   "execution_count": 8,
   "metadata": {},
   "outputs": [],
   "source": [
    "score, losses, trained_agent, PID = results"
   ]
  },
  {
   "cell_type": "code",
   "execution_count": 9,
   "metadata": {},
   "outputs": [
    {
     "name": "stdout",
     "output_type": "stream",
     "text": [
      "Save at Results/MoveToBeacon/S_A2C_conv-net_lr-7e-4_20-steps_32x32_120k-env-steps_240-unroll-len_WUAY\n"
     ]
    },
    {
     "name": "stderr",
     "output_type": "stream",
     "text": [
      "/m/work/modules/automatic/anaconda/envs/aalto-ubuntu1804-generic/software/anaconda/2020-01-tf2/5a34a04a/lib/python3.7/site-packages/torch/serialization.py:292: UserWarning: Couldn't retrieve source code for container of type SpatialActorCritic. It won't be checked for correctness upon loading.\n",
      "  \"type \" + obj.__name__ + \". It won't be checked \"\n",
      "/m/work/modules/automatic/anaconda/envs/aalto-ubuntu1804-generic/software/anaconda/2020-01-tf2/5a34a04a/lib/python3.7/site-packages/torch/serialization.py:292: UserWarning: Couldn't retrieve source code for container of type FullyConvSpatial. It won't be checked for correctness upon loading.\n",
      "  \"type \" + obj.__name__ + \". It won't be checked \"\n",
      "/m/work/modules/automatic/anaconda/envs/aalto-ubuntu1804-generic/software/anaconda/2020-01-tf2/5a34a04a/lib/python3.7/site-packages/torch/serialization.py:292: UserWarning: Couldn't retrieve source code for container of type Sequential. It won't be checked for correctness upon loading.\n",
      "  \"type \" + obj.__name__ + \". It won't be checked \"\n",
      "/m/work/modules/automatic/anaconda/envs/aalto-ubuntu1804-generic/software/anaconda/2020-01-tf2/5a34a04a/lib/python3.7/site-packages/torch/serialization.py:292: UserWarning: Couldn't retrieve source code for container of type Conv2d. It won't be checked for correctness upon loading.\n",
      "  \"type \" + obj.__name__ + \". It won't be checked \"\n",
      "/m/work/modules/automatic/anaconda/envs/aalto-ubuntu1804-generic/software/anaconda/2020-01-tf2/5a34a04a/lib/python3.7/site-packages/torch/serialization.py:292: UserWarning: Couldn't retrieve source code for container of type ReLU. It won't be checked for correctness upon loading.\n",
      "  \"type \" + obj.__name__ + \". It won't be checked \"\n",
      "/m/work/modules/automatic/anaconda/envs/aalto-ubuntu1804-generic/software/anaconda/2020-01-tf2/5a34a04a/lib/python3.7/site-packages/torch/serialization.py:292: UserWarning: Couldn't retrieve source code for container of type FullyConvNonSpatial. It won't be checked for correctness upon loading.\n",
      "  \"type \" + obj.__name__ + \". It won't be checked \"\n",
      "/m/work/modules/automatic/anaconda/envs/aalto-ubuntu1804-generic/software/anaconda/2020-01-tf2/5a34a04a/lib/python3.7/site-packages/torch/serialization.py:292: UserWarning: Couldn't retrieve source code for container of type Linear. It won't be checked for correctness upon loading.\n",
      "  \"type \" + obj.__name__ + \". It won't be checked \"\n",
      "/m/work/modules/automatic/anaconda/envs/aalto-ubuntu1804-generic/software/anaconda/2020-01-tf2/5a34a04a/lib/python3.7/site-packages/torch/serialization.py:292: UserWarning: Couldn't retrieve source code for container of type SharedActor. It won't be checked for correctness upon loading.\n",
      "  \"type \" + obj.__name__ + \". It won't be checked \"\n",
      "/m/work/modules/automatic/anaconda/envs/aalto-ubuntu1804-generic/software/anaconda/2020-01-tf2/5a34a04a/lib/python3.7/site-packages/torch/serialization.py:292: UserWarning: Couldn't retrieve source code for container of type SharedCritic. It won't be checked for correctness upon loading.\n",
      "  \"type \" + obj.__name__ + \". It won't be checked \"\n",
      "/m/work/modules/automatic/anaconda/envs/aalto-ubuntu1804-generic/software/anaconda/2020-01-tf2/5a34a04a/lib/python3.7/site-packages/torch/serialization.py:292: UserWarning: Couldn't retrieve source code for container of type ModuleDict. It won't be checked for correctness upon loading.\n",
      "  \"type \" + obj.__name__ + \". It won't be checked \"\n",
      "/m/work/modules/automatic/anaconda/envs/aalto-ubuntu1804-generic/software/anaconda/2020-01-tf2/5a34a04a/lib/python3.7/site-packages/torch/serialization.py:292: UserWarning: Couldn't retrieve source code for container of type CategoricalNet. It won't be checked for correctness upon loading.\n",
      "  \"type \" + obj.__name__ + \". It won't be checked \"\n",
      "/m/work/modules/automatic/anaconda/envs/aalto-ubuntu1804-generic/software/anaconda/2020-01-tf2/5a34a04a/lib/python3.7/site-packages/torch/serialization.py:292: UserWarning: Couldn't retrieve source code for container of type SpatialParameters. It won't be checked for correctness upon loading.\n",
      "  \"type \" + obj.__name__ + \". It won't be checked \"\n"
     ]
    }
   ],
   "source": [
    "from Utils import utils\n",
    "save = True\n",
    "keywords = ['A2C', \"conv-net\",'lr-7e-4','20-steps', '32x32',\"120k-env-steps\",\"240-unroll-len\"] \n",
    "\n",
    "if save:\n",
    "    save_dir = 'Results/MoveToBeacon/'\n",
    "    keywords.append(PID)\n",
    "    filename = '_'.join(keywords)\n",
    "    filename = 'S_'+filename\n",
    "    print(\"Save at \"+save_dir+filename)\n",
    "    train_session_dict = dict(game_params=game_params, HPs=HPs, score=score, n_epochs=len(score), keywords=keywords, losses=losses)\n",
    "    np.save(save_dir+filename, train_session_dict)\n",
    "    torch.save(trained_agent, save_dir+\"agent_\"+PID)\n",
    "else:\n",
    "    print(\"Nothing saved\")\n",
    "    pass"
   ]
  },
  {
   "cell_type": "code",
   "execution_count": 11,
   "metadata": {},
   "outputs": [],
   "source": [
    "import matplotlib.pyplot as plt\n",
    "import numpy as np"
   ]
  },
  {
   "cell_type": "code",
   "execution_count": 12,
   "metadata": {},
   "outputs": [
    {
     "data": {
      "text/plain": [
       "[<matplotlib.lines.Line2D at 0x7f12e4d547d0>]"
      ]
     },
     "execution_count": 12,
     "metadata": {},
     "output_type": "execute_result"
    },
    {
     "data": {
      "image/png": "[encoded data removed]",
      "text/plain": [
       "<Figure size 432x288 with 1 Axes>"
      ]
     },
     "metadata": {
      "needs_background": "light"
     },
     "output_type": "display_data"
    }
   ],
   "source": [
    "plt.plot(np.arange(len(score)), score)"
   ]
  },
  {
   "cell_type": "code",
   "execution_count": 13,
   "metadata": {},
   "outputs": [
    {
     "data": {
      "text/plain": [
       "[<matplotlib.lines.Line2D at 0x7f12e4acbc90>]"
      ]
     },
     "execution_count": 13,
     "metadata": {},
     "output_type": "execute_result"
    },
    {
     "data": {
      "image/png": "[encoded data removed]",
      "text/plain": [
       "<Figure size 432x288 with 1 Axes>"
      ]
     },
     "metadata": {
      "needs_background": "light"
     },
     "output_type": "display_data"
    }
   ],
   "source": [
    "n_epochs = np.arange(len(losses['critic_losses']))\n",
    "plt.plot(n_epochs, losses['critic_losses'])"
   ]
  },
  {
   "cell_type": "code",
   "execution_count": 14,
   "metadata": {},
   "outputs": [
    {
     "data": {
      "text/plain": [
       "[<matplotlib.lines.Line2D at 0x7f12e4a87a90>]"
      ]
     },
     "execution_count": 14,
     "metadata": {},
     "output_type": "execute_result"
    },
    {
     "data": {
      "image/png": "[encoded data removed]",
      "text/plain": [
       "<Figure size 432x288 with 1 Axes>"
      ]
     },
     "metadata": {
      "needs_background": "light"
     },
     "output_type": "display_data"
    }
   ],
   "source": [
    "plt.plot(n_epochs, losses['actor_losses'])"
   ]
  },
  {
   "cell_type": "code",
   "execution_count": 15,
   "metadata": {},
   "outputs": [
    {
     "data": {
      "text/plain": [
       "[<matplotlib.lines.Line2D at 0x7f12e4a51490>]"
      ]
     },
     "execution_count": 15,
     "metadata": {},
     "output_type": "execute_result"
    },
    {
     "data": {
      "image/png": "[encoded data removed]",
      "text/plain": [
       "<Figure size 432x288 with 1 Axes>"
      ]
     },
     "metadata": {
      "needs_background": "light"
     },
     "output_type": "display_data"
    }
   ],
   "source": [
    "plt.plot(n_epochs, -np.array(losses['entropies']))"
   ]
  },
  {
   "cell_type": "markdown",
   "metadata": {},
   "source": [
    "# Line by line"
   ]
  },
  {
   "cell_type": "code",
   "execution_count": null,
   "metadata": {},
   "outputs": [],
   "source": [
    "RESOLUTION = 16\n",
    "MAX_STEPS = 256\n",
    "game_params = dict(feature_screen=RESOLUTION, feature_minimap=RESOLUTION, action_space=\"FEATURES\") "
   ]
  },
  {
   "cell_type": "code",
   "execution_count": null,
   "metadata": {},
   "outputs": [],
   "source": [
    "env = init_game(game_params, max_steps=MAX_STEPS)"
   ]
  },
  {
   "cell_type": "code",
   "execution_count": null,
   "metadata": {},
   "outputs": [],
   "source": [
    "HPs = dict(action_space=3, n_layers=2, in_channels=3, n_channels=12, linear_size=RESOLUTION,\n",
    "           gamma=0.99, n_steps = 20, pixel_n_residuals=2, feature_n_residuals=2)\n",
    "\n",
    "if torch.cuda.is_available():\n",
    "    HPs['device'] = 'cuda'\n",
    "else:\n",
    "    HPs['device'] = 'cpu'\n",
    "    \n",
    "print(\"Using device \"+HPs['device'])\n",
    "\n",
    "lr = 1e-4\n",
    "agent = MoveToBeaconSpatialA2C(env=env, **HPs)"
   ]
  },
  {
   "cell_type": "code",
   "execution_count": null,
   "metadata": {},
   "outputs": [],
   "source": [
    "unroll_length = 240\n",
    "\n",
    "train_dict = dict(n_train_processes = 11,\n",
    "                  max_train_steps = unroll_length*100,\n",
    "                  unroll_length = unroll_length,\n",
    "                  max_episode_steps = MAX_STEPS,\n",
    "                  test_interval = unroll_length*10 #100\n",
    "                  )"
   ]
  },
  {
   "cell_type": "code",
   "execution_count": 7,
   "metadata": {},
   "outputs": [
    {
     "name": "stdout",
     "output_type": "stream",
     "text": [
      "reset done\n",
      "info sent\n",
      "reset done\n",
      "info sent\n"
     ]
    }
   ],
   "source": [
    "envs = ParallelEnv(n_train_processes, game_params, max_steps)"
   ]
  },
  {
   "cell_type": "code",
   "execution_count": 8,
   "metadata": {},
   "outputs": [],
   "source": [
    "optimizer = torch.optim.Adam(agent.AC.parameters(), lr=lr)"
   ]
  },
  {
   "cell_type": "code",
   "execution_count": 9,
   "metadata": {},
   "outputs": [
    {
     "name": "stdout",
     "output_type": "stream",
     "text": [
      "s.shape:  (2, 3, 16, 16)\n",
      "a_mask.shape:  (2, 3)\n",
      "a_mask:  [[False False  True]\n",
      " [False False  True]]\n"
     ]
    }
   ],
   "source": [
    "s, a_mask = envs.reset()\n",
    "print(\"s.shape: \", s.shape)\n",
    "print(\"a_mask.shape: \", a_mask.shape)\n",
    "print(\"a_mask: \", a_mask)"
   ]
  },
  {
   "cell_type": "markdown",
   "metadata": {},
   "source": [
    "## AC step\n",
    "\n",
    "To make a batched step we already have the state in the correct shape, but we need to:\n",
    "1. change get_action_mask of the AC so to work with a list of arrays - DONE\n",
    "2. sample all parameters every time, so that we don't need to loop between the parameter networks to get the right ones and we can vectorize it\n",
    "3. select only the parameters that we neeed\n",
    "\n",
    "Each action has 0, 1 or 2 parameters associated. We should sample a batch of arguments for each parameter of each argument and then access only the correct ones. We need a bit of structure to do that.\n",
    "\n",
    "(batch_dim, [[params0],[params1],[params2]])\n",
    "and same thing for the log_prob\n",
    "\n",
    "Unfortunately we get something like ([[],[(batch_dim, args)],[(batch_dim, arg1),(batch_dim, arg2)]])"
   ]
  },
  {
   "cell_type": "code",
   "execution_count": 10,
   "metadata": {
    "scrolled": false
   },
   "outputs": [
    {
     "name": "stdout",
     "output_type": "stream",
     "text": [
      "\n",
      "action mask:  tensor([[False, False,  True],\n",
      "        [False, False,  True]], device='cuda:0')\n",
      "logits shape:  torch.Size([2, 3])\n",
      "logits:  tensor([[-1.6008, -0.7392, -1.1371],\n",
      "        [-1.7987, -0.6966, -1.0900]], device='cuda:0',\n",
      "       grad_fn=<LogSoftmaxBackward>)\n",
      "mask shape:  torch.Size([2, 3])\n",
      "mask:  tensor([[False, False,  True],\n",
      "        [False, False,  True]], device='cuda:0')\n",
      "logits (after mask):  tensor([[-1.6008, -0.7392,    -inf],\n",
      "        [-1.7987, -0.6966,    -inf]], device='cuda:0',\n",
      "       grad_fn=<IndexPutBackward>)\n",
      "log_probs:  tensor([[-1.2141, -0.3524,    -inf],\n",
      "        [-1.3889, -0.2868,    -inf]], device='cuda:0',\n",
      "       grad_fn=<LogSoftmaxBackward>)\n",
      "spatial_features.shape:  torch.Size([2, 12, 16, 16])\n",
      "spatial_features (cuda):  True\n",
      "nonspatial_features.shape:  torch.Size([2, 12])\n",
      "nonspatial_features (cuda):  True\n",
      "probs:  tensor([[0.2970, 0.7030, 0.0000],\n",
      "        [0.2493, 0.7507, 0.0000]], device='cuda:0', grad_fn=<ExpBackward>)\n",
      "log_prob:  tensor([-0.3524, -0.2868], device='cuda:0', grad_fn=<IndexBackward>)\n",
      "action_id:  [7 7]\n",
      "a:  [1 1]\n",
      "\n",
      "arg_name : select_add\n",
      "arg_sampled:  [[1]\n",
      " [1]]\n",
      "log_prob:  tensor([-0.7806, -0.7729], device='cuda:0', grad_fn=<IndexBackward>)\n",
      "\n",
      "arg_name : queued\n",
      "arg_sampled:  [[1]\n",
      " [1]]\n",
      "log_prob:  tensor([-0.3896, -0.3533], device='cuda:0', grad_fn=<IndexBackward>)\n",
      "\n",
      "arg_name : screen\n",
      "arg_sampled:  [[0, 6], [8, 14]]\n",
      "log_prob:  tensor([-5.6474, -5.5192], device='cuda:0', grad_fn=<IndexBackward>)\n",
      "\n",
      "arg_names:  ['select_add']\n",
      "values:  [(array([[1],\n",
      "       [1]]), tensor([-0.7806, -0.7729], device='cuda:0', grad_fn=<IndexBackward>))]\n",
      "len(values):  1\n",
      "len(arg_names):  1\n",
      "len(values[0]):  2\n",
      "values[0]:  (array([[1],\n",
      "       [1]]), tensor([-0.7806, -0.7729], device='cuda:0', grad_fn=<IndexBackward>))\n",
      "values[0][0,i] [1]\n",
      "values[0][1,i] tensor(-0.7806, device='cuda:0', grad_fn=<SelectBackward>)\n",
      "arg:  [[1]]\n",
      "arg_log_prob:  tensor([-0.7806], device='cuda:0', grad_fn=<AddBackward0>)\n",
      "\n",
      "arg_names:  ['select_add']\n",
      "values:  [(array([[1],\n",
      "       [1]]), tensor([-0.7806, -0.7729], device='cuda:0', grad_fn=<IndexBackward>))]\n",
      "len(values):  1\n",
      "len(arg_names):  1\n",
      "len(values[0]):  2\n",
      "values[0]:  (array([[1],\n",
      "       [1]]), tensor([-0.7806, -0.7729], device='cuda:0', grad_fn=<IndexBackward>))\n",
      "values[0][0,i] [1]\n",
      "values[0][1,i] tensor(-0.7729, device='cuda:0', grad_fn=<SelectBackward>)\n",
      "arg:  [[1]]\n",
      "arg_log_prob:  tensor([-0.7729], device='cuda:0', grad_fn=<AddBackward0>)\n",
      "\n",
      "args:  [[[1]], [[1]]]\n",
      "args_log_prob.shape;  torch.Size([2])\n",
      "args_log_prob:  tensor([-0.7806, -0.7729], device='cuda:0', grad_fn=<SqueezeBackward0>)\n",
      "log_prob.shape:  torch.Size([2])\n",
      "log_prob:  tensor([-0.3524, -0.2868], device='cuda:0', grad_fn=<IndexBackward>)\n",
      "args_log_prob:  tensor([-0.7806, -0.7729], device='cuda:0', grad_fn=<SqueezeBackward0>)\n",
      "log_prob (after sum):  tensor([-1.1330, -1.0597], device='cuda:0', grad_fn=<AddBackward0>)\n",
      "action:  [FunctionCall(function=7, arguments=[[1]]), FunctionCall(function=7, arguments=[[1]])]\n"
     ]
    }
   ],
   "source": [
    "action, log_prob, probs = agent.step(s, a_mask)"
   ]
  },
  {
   "cell_type": "code",
   "execution_count": 11,
   "metadata": {},
   "outputs": [],
   "source": [
    "s_prime, r, done, bootstrap, s_trg, a_mask = envs.step(action)\n"
   ]
  },
  {
   "cell_type": "code",
   "execution_count": 13,
   "metadata": {},
   "outputs": [
    {
     "name": "stdout",
     "output_type": "stream",
     "text": [
      "s_prime.shape;  (2, 3, 16, 16)\n",
      "r.shape:  (2,)\n",
      "done.shape:  (2,)\n",
      "bootstrap.shape:  (2,)\n",
      "s_trg.shape:  (2, 3, 16, 16)\n",
      "a_mask.shape:  (2, 3)\n"
     ]
    }
   ],
   "source": [
    "print(\"s_prime.shape; \", s_prime.shape)\n",
    "print(\"r.shape: \", r.shape)\n",
    "print(\"done.shape: \", done.shape)\n",
    "print(\"bootstrap.shape: \", bootstrap.shape)\n",
    "print(\"s_trg.shape: \", s_trg.shape)\n",
    "print(\"a_mask.shape: \", a_mask.shape)"
   ]
  },
  {
   "cell_type": "code",
   "execution_count": 16,
   "metadata": {},
   "outputs": [
    {
     "name": "stdout",
     "output_type": "stream",
     "text": [
      "r:  [0 0]\n",
      "done:  [False False]\n",
      "bootstrap:  [False False]\n",
      "a_mask:  [[False False False]\n",
      " [False False False]]\n"
     ]
    }
   ],
   "source": [
    "#print(\"s_prime: \", s_prime)\n",
    "print(\"r: \", r)\n",
    "print(\"done: \", done)\n",
    "print(\"bootstrap: \", bootstrap)\n",
    "#print(\"s_trg: \", s_trg)\n",
    "print(\"a_mask: \", a_mask)"
   ]
  },
  {
   "cell_type": "code",
   "execution_count": 15,
   "metadata": {
    "scrolled": false
   },
   "outputs": [
    {
     "name": "stdout",
     "output_type": "stream",
     "text": [
      "\n",
      "action mask:  tensor([[False, False, False],\n",
      "        [False, False, False]], device='cuda:0')\n",
      "logits shape:  torch.Size([2, 3])\n",
      "logits:  tensor([[-1.6421, -0.7365, -1.1158],\n",
      "        [-1.7094, -0.7659, -1.0381]], device='cuda:0',\n",
      "       grad_fn=<LogSoftmaxBackward>)\n",
      "mask shape:  torch.Size([2, 3])\n",
      "mask:  tensor([[False, False, False],\n",
      "        [False, False, False]], device='cuda:0')\n",
      "logits (after mask):  tensor([[-1.6421, -0.7365, -1.1158],\n",
      "        [-1.7094, -0.7659, -1.0381]], device='cuda:0',\n",
      "       grad_fn=<IndexPutBackward>)\n",
      "log_probs:  tensor([[-1.6421, -0.7365, -1.1158],\n",
      "        [-1.7094, -0.7659, -1.0381]], device='cuda:0',\n",
      "       grad_fn=<LogSoftmaxBackward>)\n",
      "spatial_features.shape:  torch.Size([2, 12, 16, 16])\n",
      "spatial_features (cuda):  True\n",
      "nonspatial_features.shape:  torch.Size([2, 12])\n",
      "nonspatial_features (cuda):  True\n",
      "probs:  tensor([[0.1936, 0.4788, 0.3277],\n",
      "        [0.1810, 0.4649, 0.3541]], device='cuda:0', grad_fn=<ExpBackward>)\n",
      "log_prob:  tensor([-0.7365, -1.0381], device='cuda:0', grad_fn=<IndexBackward>)\n",
      "action_id:  [ 7 12]\n",
      "a:  [1 2]\n",
      "\n",
      "arg_name : select_add\n",
      "arg_sampled:  [[0]\n",
      " [0]]\n",
      "log_prob:  tensor([-0.5926, -0.6014], device='cuda:0', grad_fn=<IndexBackward>)\n",
      "\n",
      "arg_name : queued\n",
      "arg_sampled:  [[1]\n",
      " [1]]\n",
      "log_prob:  tensor([-0.3817, -0.3831], device='cuda:0', grad_fn=<IndexBackward>)\n",
      "\n",
      "arg_name : screen\n",
      "arg_sampled:  [[1, 13], [12, 8]]\n",
      "log_prob:  tensor([-5.4873, -5.5075], device='cuda:0', grad_fn=<IndexBackward>)\n",
      "\n",
      "arg_names:  ['select_add']\n",
      "values:  [(array([[0],\n",
      "       [0]]), tensor([-0.5926, -0.6014], device='cuda:0', grad_fn=<IndexBackward>))]\n",
      "len(values):  1\n",
      "len(arg_names):  1\n",
      "len(values[0]):  2\n",
      "values[0]:  (array([[0],\n",
      "       [0]]), tensor([-0.5926, -0.6014], device='cuda:0', grad_fn=<IndexBackward>))\n",
      "values[0][0,i] [0]\n",
      "values[0][1,i] tensor(-0.5926, device='cuda:0', grad_fn=<SelectBackward>)\n",
      "arg:  [[0]]\n",
      "arg_log_prob:  tensor([-0.5926], device='cuda:0', grad_fn=<AddBackward0>)\n",
      "\n",
      "arg_names:  ['queued', 'screen']\n",
      "values:  [(array([[1],\n",
      "       [1]]), tensor([-0.3817, -0.3831], device='cuda:0', grad_fn=<IndexBackward>)), ([[1, 13], [12, 8]], tensor([-5.4873, -5.5075], device='cuda:0', grad_fn=<IndexBackward>))]\n",
      "len(values):  2\n",
      "len(arg_names):  2\n",
      "len(values[0]):  2\n",
      "values[0]:  (array([[1],\n",
      "       [1]]), tensor([-0.3817, -0.3831], device='cuda:0', grad_fn=<IndexBackward>))\n",
      "values[0][0,i] [1]\n",
      "values[0][1,i] tensor(-0.3831, device='cuda:0', grad_fn=<SelectBackward>)\n",
      "values[1][0,i] [12, 8]\n",
      "values[1][1,i] tensor(-5.5075, device='cuda:0', grad_fn=<SelectBackward>)\n",
      "arg:  [[1], [12, 8]]\n",
      "arg_log_prob:  tensor([-5.8906], device='cuda:0', grad_fn=<AddBackward0>)\n",
      "\n",
      "args:  [[[0]], [[1], [12, 8]]]\n",
      "args_log_prob.shape;  torch.Size([2])\n",
      "args_log_prob:  tensor([-0.5926, -5.8906], device='cuda:0', grad_fn=<SqueezeBackward0>)\n",
      "log_prob.shape:  torch.Size([2])\n",
      "log_prob:  tensor([-0.7365, -1.0381], device='cuda:0', grad_fn=<IndexBackward>)\n",
      "args_log_prob:  tensor([-0.5926, -5.8906], device='cuda:0', grad_fn=<SqueezeBackward0>)\n",
      "log_prob (after sum):  tensor([-1.3291, -6.9287], device='cuda:0', grad_fn=<AddBackward0>)\n",
      "action:  [FunctionCall(function=7, arguments=[[0]]), FunctionCall(function=12, arguments=[[1], [12, 8]])]\n"
     ]
    }
   ],
   "source": [
    "action, log_prob, probs = agent.step(s_prime, a_mask)"
   ]
  },
  {
   "cell_type": "code",
   "execution_count": 17,
   "metadata": {},
   "outputs": [],
   "source": [
    "s_prime, r, done, bootstrap, s_trg, a_mask = envs.step(action)"
   ]
  },
  {
   "cell_type": "code",
   "execution_count": null,
   "metadata": {},
   "outputs": [],
   "source": []
  },
  {
   "cell_type": "code",
   "execution_count": 19,
   "metadata": {},
   "outputs": [],
   "source": [
    "envs.close()"
   ]
  },
  {
   "cell_type": "code",
   "execution_count": 15,
   "metadata": {},
   "outputs": [],
   "source": [
    "import torch\n",
    "import torch.nn.functional as F"
   ]
  },
  {
   "cell_type": "code",
   "execution_count": 26,
   "metadata": {},
   "outputs": [],
   "source": [
    "logits = torch.rand((2,3), requires_grad=True)\n",
    "mask = torch.tensor([[False, False, True], [False, False, True]])\n",
    "x = F.log_softmax(logits.masked_fill((mask).bool(), float('-inf')), dim=-1) "
   ]
  },
  {
   "cell_type": "code",
   "execution_count": 28,
   "metadata": {},
   "outputs": [],
   "source": [
    "x.sum().backward()"
   ]
  },
  {
   "cell_type": "code",
   "execution_count": null,
   "metadata": {},
   "outputs": [],
   "source": []
  }
 ],
 "metadata": {
  "kernelspec": {
   "display_name": "Python 3",
   "language": "python",
   "name": "python3"
  },
  "language_info": {
   "codemirror_mode": {
    "name": "ipython",
    "version": 3
   },
   "file_extension": ".py",
   "mimetype": "text/x-python",
   "name": "python",
   "nbconvert_exporter": "python",
   "pygments_lexer": "ipython3",
   "version": "3.7.6"
  }
 },
 "nbformat": 4,
 "nbformat_minor": 2
}
