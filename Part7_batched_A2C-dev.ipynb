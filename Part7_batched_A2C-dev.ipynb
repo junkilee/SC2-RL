{
 "cells": [
  {
   "cell_type": "markdown",
   "metadata": {},
   "source": [
    "To use a batched A2C we have to adapt both the step method and how we store information for the update.\n",
    "In particular:\n",
    "1. Instead of using observations of the environment with everything attached, elaborate the information and extract only the useful variables, so that they can be stacked in numpy arrays when possbile.\n",
    "2. step method works with observation, but should work with a batch of states and available actions; Probably it will be infeasible to vectorize the selection of the parameters of the actions, because the output and the procedure varies from action to action.\n",
    "3. The part in which we compute the loss is okay, because we use only the critic to make predictions, so the only problem is to store the information in batches.\n",
    "\n",
    "NOTE: remember to add all networks to the optimizer initialization"
   ]
  },
  {
   "cell_type": "code",
   "execution_count": 1,
   "metadata": {},
   "outputs": [
    {
     "name": "stdout",
     "output_type": "stream",
     "text": [
      "pygame 1.9.6\n",
      "Hello from the pygame community. https://www.pygame.org/contribute.html\n"
     ]
    }
   ],
   "source": [
    "from Utils.train_batched_A2C import *\n",
    "from AC_modules.BatchedA2C import MoveToBeaconSpatialA2C\n",
    "import torch"
   ]
  },
  {
   "cell_type": "code",
   "execution_count": 2,
   "metadata": {},
   "outputs": [],
   "source": [
    "def train_batched_A2C(agent, game_params, lr, n_train_processes, max_train_steps, unroll_length, test_interval=100):\n",
    "    envs = ParallelEnv(n_train_processes, game_params)\n",
    "\n",
    "    optimizer = torch.optim.Adam(agent.parameters(), lr=lr)\n",
    "\n",
    "    score = []\n",
    "    steps_to_solve = []\n",
    "    critic_losses = [] \n",
    "    actor_losses = []\n",
    "    entropies = []\n",
    "    \n",
    "    step_idx = 0\n",
    "    s = envs.reset()\n",
    "    while step_idx < max_train_steps:\n",
    "        s_lst, a_lst, r_lst, done_lst, bootstrap_lst, s_trg_lst = list(), list(), list(), list(), list(), list()\n",
    "        log_probs = []\n",
    "        distributions = []\n",
    "        for _ in range(unroll_length):\n",
    "\n",
    "            a, log_prob, probs = agent.get_action(s)\n",
    "            a_lst.append(a)\n",
    "            log_probs.append(log_prob)\n",
    "            distributions.append(probs)\n",
    "\n",
    "            s_prime, r, done, info, bootstrap, s_trg = envs.step(a)\n",
    "            s_lst.append(s)\n",
    "            r_lst.append(r)\n",
    "            done_lst.append(done)\n",
    "            bootstrap_lst.append(bootstrap)\n",
    "            s_trg_lst.append(s_trg)\n",
    "\n",
    "            s = s_prime\n",
    "            step_idx += 1 #n_train_processes\n",
    "\n",
    "        s_lst = np.array(s_lst).transpose(1,0,2,3,4)\n",
    "        r_lst = np.array(r_lst).transpose(1,0)\n",
    "        done_lst = np.array(done_lst).transpose(1,0)\n",
    "        bootstrap_lst = np.array(bootstrap_lst).transpose(1,0)\n",
    "        s_trg_lst = np.array(s_trg_lst).transpose(1,0,2,3,4)\n",
    "        \n",
    "        ### Update time ###\n",
    "        #print(\"len(r_lst): \", r_lst.shape)\n",
    "        #print(\"len(s_lst): \", s_lst.shape)\n",
    "        #print(\"len(done_lst): \", done_lst.shape)\n",
    "        #print(\"len(s_trg_lst): \", s_trg_lst.shape)\n",
    "        critic_loss, actor_loss, entropy = agent.compute_ac_loss(r_lst, log_probs, distributions, \n",
    "                                                                 s_lst, done_lst, bootstrap_lst, s_trg_lst)\n",
    "\n",
    "        loss = (critic_loss + actor_loss).mean()\n",
    "        optimizer.zero_grad()\n",
    "        loss.backward()\n",
    "        optimizer.step()\n",
    "        \n",
    "        #print(\"critic_loss: \", critic_loss)\n",
    "        #print(\"actor_loss: \", actor_loss)\n",
    "        #print(\"entropy: \", entropy)\n",
    "        critic_losses.append(critic_loss.item())\n",
    "        actor_losses.append(actor_loss.item())\n",
    "        entropies.append(entropy.item())\n",
    "        \n",
    "        ### Test time ###\n",
    "        if step_idx % test_interval == 0:\n",
    "            avg_score, avg_steps = test(step_idx, agent, test_env)\n",
    "            score.append(avg_score)\n",
    "            steps_to_solve.append(avg_steps)\n",
    "    envs.close()\n",
    "    \n",
    "    losses = dict(critic_losses=critic_losses, actor_losses=actor_losses, entropies=entropies)\n",
    "    return score, steps_to_solve, losses, agent"
   ]
  },
  {
   "cell_type": "markdown",
   "metadata": {},
   "source": [
    "## Line by line"
   ]
  },
  {
   "cell_type": "code",
   "execution_count": 3,
   "metadata": {},
   "outputs": [],
   "source": [
    "RESOLUTION = 16\n",
    "MAX_STEPS = 256\n",
    "game_params = dict(feature_screen=RESOLUTION, feature_minimap=RESOLUTION, action_space=\"FEATURES\") "
   ]
  },
  {
   "cell_type": "code",
   "execution_count": 4,
   "metadata": {},
   "outputs": [],
   "source": [
    "env = init_game(game_params, max_steps=MAX_STEPS)"
   ]
  },
  {
   "cell_type": "code",
   "execution_count": 5,
   "metadata": {
    "scrolled": true
   },
   "outputs": [
    {
     "name": "stdout",
     "output_type": "stream",
     "text": [
      "Using device cuda\n",
      "\n",
      "arg.name:  select_add\n",
      "size:  (2,)\n",
      "Init CategoricalNet for select_add argument\n",
      "\n",
      "arg.name:  queued\n",
      "size:  (2,)\n",
      "Init CategoricalNet for queued argument\n",
      "\n",
      "arg.name:  screen\n",
      "size:  (16, 16)\n",
      "Init SpatialNet for screen argument\n",
      "========== A2C HyperParameters ==========\n",
      "Discount factor:  0.99\n",
      "Action space:  3\n",
      "n_steps for TD:  20\n",
      "Device used:  cuda\n",
      "\n",
      "\n",
      "========== A2C Architecture ==========\n",
      "Architecture: \n",
      " SpatialActorCritic(\n",
      "  (spatial_features_net): SpatialFeatures(\n",
      "    (net): Sequential(\n",
      "      (0): Conv2d(3, 12, kernel_size=(3, 3), stride=(1, 1), padding=(1, 1))\n",
      "      (1): ReLU()\n",
      "      (2): ResidualConvolutional(\n",
      "        (net): Sequential(\n",
      "          (0): LayerNorm((16, 16), eps=1e-05, elementwise_affine=True)\n",
      "          (1): Conv2d(12, 12, kernel_size=(3, 3), stride=(1, 1), padding=(1, 1))\n",
      "          (2): ReLU()\n",
      "          (3): Conv2d(12, 12, kernel_size=(3, 3), stride=(1, 1), padding=(1, 1))\n",
      "        )\n",
      "      )\n",
      "    )\n",
      "  )\n",
      "  (nonspatial_features_net): NonSpatialFeatures(\n",
      "    (pixel_res_block): Sequential(\n",
      "      (0): ResidualLayer(\n",
      "        (norm): LayerNorm((256,), eps=1e-05, elementwise_affine=True)\n",
      "        (w1): Linear(in_features=256, out_features=128, bias=True)\n",
      "        (w2): Linear(in_features=128, out_features=256, bias=True)\n",
      "      )\n",
      "      (1): ResidualLayer(\n",
      "        (norm): LayerNorm((256,), eps=1e-05, elementwise_affine=True)\n",
      "        (w1): Linear(in_features=256, out_features=128, bias=True)\n",
      "        (w2): Linear(in_features=128, out_features=256, bias=True)\n",
      "      )\n",
      "    )\n",
      "    (maxpool): FeaturewiseMaxPool()\n",
      "    (feature_res_block): Sequential(\n",
      "      (0): ResidualLayer(\n",
      "        (norm): LayerNorm((12,), eps=1e-05, elementwise_affine=True)\n",
      "        (w1): Linear(in_features=12, out_features=64, bias=True)\n",
      "        (w2): Linear(in_features=64, out_features=12, bias=True)\n",
      "      )\n",
      "      (1): ResidualLayer(\n",
      "        (norm): LayerNorm((12,), eps=1e-05, elementwise_affine=True)\n",
      "        (w1): Linear(in_features=12, out_features=64, bias=True)\n",
      "        (w2): Linear(in_features=64, out_features=12, bias=True)\n",
      "      )\n",
      "    )\n",
      "  )\n",
      "  (actor): SharedActor(\n",
      "    (linear): Sequential(\n",
      "      (0): Linear(in_features=12, out_features=256, bias=True)\n",
      "      (1): ReLU()\n",
      "      (2): Linear(in_features=256, out_features=3, bias=True)\n",
      "    )\n",
      "  )\n",
      "  (critic): SharedCritic(\n",
      "    (net): Sequential(\n",
      "      (0): Linear(in_features=12, out_features=256, bias=True)\n",
      "      (1): ReLU()\n",
      "      (2): Linear(in_features=256, out_features=1, bias=True)\n",
      "    )\n",
      "  )\n",
      ")\n"
     ]
    }
   ],
   "source": [
    "HPs = dict(action_space=3, n_layers=2, in_channels=3, n_channels=12, linear_size=RESOLUTION,\n",
    "           gamma=0.99, n_steps = 20, pixel_n_residuals=2, feature_n_residuals=2)\n",
    "\n",
    "if torch.cuda.is_available():\n",
    "    HPs['device'] = 'cuda'\n",
    "else:\n",
    "    HPs['device'] = 'cpu'\n",
    "    \n",
    "print(\"Using device \"+HPs['device'])\n",
    "\n",
    "lr = 1e-4\n",
    "agent = MoveToBeaconSpatialA2C(env=env, **HPs)"
   ]
  },
  {
   "cell_type": "code",
   "execution_count": 6,
   "metadata": {},
   "outputs": [],
   "source": [
    "n_train_processes = 2\n",
    "max_train_steps = 2000\n",
    "unroll_length = 240\n",
    "max_steps = MAX_STEPS"
   ]
  },
  {
   "cell_type": "code",
   "execution_count": 7,
   "metadata": {},
   "outputs": [
    {
     "name": "stdout",
     "output_type": "stream",
     "text": [
      "reset done\n",
      "info sent\n",
      "reset done\n",
      "info sent\n"
     ]
    }
   ],
   "source": [
    "envs = ParallelEnv(n_train_processes, game_params, max_steps)"
   ]
  },
  {
   "cell_type": "code",
   "execution_count": 8,
   "metadata": {},
   "outputs": [],
   "source": [
    "optimizer = torch.optim.Adam(agent.AC.parameters(), lr=lr)"
   ]
  },
  {
   "cell_type": "code",
   "execution_count": 9,
   "metadata": {},
   "outputs": [],
   "source": [
    "s, a_mask = envs.reset()"
   ]
  },
  {
   "cell_type": "code",
   "execution_count": 10,
   "metadata": {},
   "outputs": [
    {
     "data": {
      "text/plain": [
       "(2, 3, 16, 16)"
      ]
     },
     "execution_count": 10,
     "metadata": {},
     "output_type": "execute_result"
    }
   ],
   "source": [
    "s.shape"
   ]
  },
  {
   "cell_type": "code",
   "execution_count": 11,
   "metadata": {},
   "outputs": [
    {
     "data": {
      "text/plain": [
       "array([[False, False,  True],\n",
       "       [False, False,  True]])"
      ]
     },
     "execution_count": 11,
     "metadata": {},
     "output_type": "execute_result"
    }
   ],
   "source": [
    "a_mask # action is not available = True"
   ]
  },
  {
   "cell_type": "markdown",
   "metadata": {},
   "source": [
    "## AC step\n",
    "\n",
    "To make a batched step we already have the state in the correct shape, but we need to:\n",
    "1. change get_action_mask of the AC so to work with a list of arrays - DONE\n",
    "2. sample all parameters every time, so that we don't need to loop between the parameter networks to get the right ones and we can vectorize it\n",
    "3. select only the parameters that we neeed\n",
    "\n",
    "Each action has 0, 1 or 2 parameters associated. We should sample a batch of arguments for each parameter of each argument and then access only the correct ones. We need a bit of structure to do that.\n",
    "\n",
    "(batch_dim, [[params0],[params1],[params2]])\n",
    "and same thing for the log_prob\n",
    "\n",
    "Unfortunately we get something like ([[],[(batch_dim, args)],[(batch_dim, arg1),(batch_dim, arg2)]])"
   ]
  },
  {
   "cell_type": "code",
   "execution_count": 12,
   "metadata": {
    "scrolled": true
   },
   "outputs": [
    {
     "name": "stdout",
     "output_type": "stream",
     "text": [
      "\n",
      "action mask:  tensor([[False, False,  True],\n",
      "        [False, False,  True]], device='cuda:0')\n",
      "x.shape:  torch.Size([2, 12, 256])\n",
      "x.shape:  torch.Size([2, 12, 256])\n",
      "x.shape:  torch.Size([2, 12])\n",
      "x.shape:  torch.Size([2, 12])\n",
      "logits shape:  torch.Size([2, 3])\n",
      "logits:  tensor([[-1.1504, -0.8252, -1.4051],\n",
      "        [-1.2276, -0.7689, -1.4126]], device='cuda:0',\n",
      "       grad_fn=<LogSoftmaxBackward>)\n",
      "mask shape:  torch.Size([2, 3])\n",
      "mask:  tensor([[False, False,  True],\n",
      "        [False, False,  True]], device='cuda:0')\n",
      "logits (after mask):  tensor([[-1.1504, -0.8252,    -inf],\n",
      "        [-1.2276, -0.7689,    -inf]], device='cuda:0',\n",
      "       grad_fn=<IndexPutBackward>)\n",
      "log_probs:  tensor([[-0.8689, -0.5437,    -inf],\n",
      "        [-0.9486, -0.4899,    -inf]], device='cuda:0',\n",
      "       grad_fn=<LogSoftmaxBackward>)\n",
      "spatial_features.shape:  torch.Size([2, 12, 16, 16])\n",
      "spatial_features:  tensor([[[[ 7.3533e-02,  2.1391e-01,  1.9562e-01,  ...,  1.3956e-01,\n",
      "            1.3314e-01,  1.0519e-01],\n",
      "          [ 1.3916e-01, -5.8564e-03,  1.7037e-01,  ...,  1.2565e-01,\n",
      "            1.1561e-01,  1.0457e-01],\n",
      "          [ 1.6654e-01, -9.2952e-03,  2.7666e-01,  ...,  1.2472e-01,\n",
      "            1.1108e-01,  8.8192e-02],\n",
      "          ...,\n",
      "          [ 1.1385e-01,  9.5170e-02,  1.2472e-01,  ...,  1.2472e-01,\n",
      "            1.1108e-01,  8.8192e-02],\n",
      "          [ 1.1458e-01,  9.5400e-02,  1.2311e-01,  ...,  1.2311e-01,\n",
      "            1.2227e-01,  8.6575e-02],\n",
      "          [ 1.0344e-01,  6.8778e-02,  8.7486e-02,  ...,  8.7486e-02,\n",
      "            7.7600e-02,  7.5240e-02]],\n",
      "\n",
      "         [[ 2.0622e-02,  7.1880e-02, -6.6779e-03,  ...,  1.1358e-01,\n",
      "            1.0874e-01,  1.4329e-01],\n",
      "          [ 4.0014e-02,  1.1213e-01,  1.5226e-01,  ...,  1.2798e-01,\n",
      "            1.0564e-01,  1.4113e-01],\n",
      "          [ 4.0134e-01, -4.2506e-01, -4.1938e-01,  ...,  1.1540e-01,\n",
      "            9.4284e-02,  1.3808e-01],\n",
      "          ...,\n",
      "          [ 1.8452e-01,  1.3119e-01,  1.1540e-01,  ...,  1.1540e-01,\n",
      "            9.4284e-02,  1.3808e-01],\n",
      "          [ 1.7368e-01,  1.2330e-01,  1.0667e-01,  ...,  1.0667e-01,\n",
      "            8.5053e-02,  1.2862e-01],\n",
      "          [ 1.5197e-01,  1.3222e-01,  1.1971e-01,  ...,  1.1971e-01,\n",
      "            9.4645e-02,  1.1813e-01]],\n",
      "\n",
      "         [[ 7.3660e-02,  3.2395e-01,  1.5506e-01,  ...,  3.0081e-02,\n",
      "            3.6568e-02,  2.0895e-02],\n",
      "          [ 2.0076e-01,  1.8080e-01,  3.6892e-01,  ...,  3.3083e-02,\n",
      "            2.9517e-02,  1.7555e-02],\n",
      "          [ 3.3695e-01, -4.8367e-01,  9.4377e-02,  ...,  2.5030e-02,\n",
      "            2.2546e-02,  1.2514e-02],\n",
      "          ...,\n",
      "          [ 1.4190e-02,  3.7757e-02,  2.5030e-02,  ...,  2.5030e-02,\n",
      "            2.2546e-02,  1.2514e-02],\n",
      "          [ 1.5943e-02,  2.3031e-02,  1.0768e-02,  ...,  1.0768e-02,\n",
      "            1.0827e-02, -3.7135e-03],\n",
      "          [-2.9554e-03,  1.9022e-04, -1.5672e-02,  ..., -1.5672e-02,\n",
      "           -3.2923e-02, -2.5817e-02]],\n",
      "\n",
      "         ...,\n",
      "\n",
      "         [[-1.4274e-01, -1.3816e-01,  8.7728e-02,  ...,  8.8675e-03,\n",
      "            8.4690e-03,  2.7330e-03],\n",
      "          [ 3.7847e-02,  1.0020e-01,  3.2599e-01,  ...,  1.6507e-02,\n",
      "            1.5537e-03,  2.0018e-02],\n",
      "          [ 1.7796e-01, -7.7412e-03, -6.8962e-01,  ...,  2.0180e-02,\n",
      "            1.2987e-02,  1.8182e-02],\n",
      "          ...,\n",
      "          [ 6.6286e-03, -3.2314e-03,  2.0180e-02,  ...,  2.0180e-02,\n",
      "            1.2987e-02,  1.8182e-02],\n",
      "          [ 1.1699e-02,  9.1277e-03,  2.5243e-02,  ...,  2.5243e-02,\n",
      "            1.6156e-02,  1.7131e-02],\n",
      "          [ 2.5457e-02,  2.2219e-02,  3.0910e-02,  ...,  3.0910e-02,\n",
      "            2.9329e-02,  1.8949e-02]],\n",
      "\n",
      "         [[ 1.0967e-02,  5.7199e-02,  2.3069e-01,  ...,  1.0146e-01,\n",
      "            7.8184e-02,  8.4607e-02],\n",
      "          [ 3.3171e-01,  6.7608e-01,  2.5849e-01,  ...,  9.3382e-02,\n",
      "            5.9468e-02,  9.3387e-02],\n",
      "          [ 6.1523e-02, -9.8371e-02, -2.6748e-01,  ...,  1.1468e-01,\n",
      "            7.9005e-02,  9.8041e-02],\n",
      "          ...,\n",
      "          [ 1.0128e-01,  1.2163e-01,  1.1468e-01,  ...,  1.1468e-01,\n",
      "            7.9005e-02,  9.8041e-02],\n",
      "          [ 9.6030e-02,  1.1514e-01,  1.0601e-01,  ...,  1.0601e-01,\n",
      "            7.8004e-02,  9.3612e-02],\n",
      "          [ 9.1278e-02,  8.0828e-02,  7.6232e-02,  ...,  7.6232e-02,\n",
      "            6.1681e-02,  8.6529e-02]],\n",
      "\n",
      "         [[ 7.6166e-02,  1.1244e-01,  6.1154e-02,  ..., -4.5007e-02,\n",
      "           -4.9987e-02, -6.4187e-02],\n",
      "          [ 1.6496e-02,  9.5273e-02,  2.4268e-02,  ..., -5.6981e-02,\n",
      "           -5.6453e-02, -8.8456e-02],\n",
      "          [-5.4125e-03,  1.3965e-01, -7.8570e-02,  ..., -5.5038e-02,\n",
      "           -5.0321e-02, -8.2967e-02],\n",
      "          ...,\n",
      "          [-8.3795e-02, -5.8990e-02, -5.5038e-02,  ..., -5.5038e-02,\n",
      "           -5.0321e-02, -8.2967e-02],\n",
      "          [-6.7753e-02, -4.1749e-02, -3.0725e-02,  ..., -3.0725e-02,\n",
      "           -3.2635e-02, -7.2039e-02],\n",
      "          [-8.9569e-02, -9.4162e-02, -8.2283e-02,  ..., -8.2283e-02,\n",
      "           -7.6904e-02, -8.8344e-02]]],\n",
      "\n",
      "\n",
      "        [[[ 1.0925e-01,  1.3094e-01,  1.3956e-01,  ...,  2.9924e-01,\n",
      "            1.5631e-01,  1.1032e-01],\n",
      "          [ 1.0619e-01,  1.0284e-01,  1.2565e-01,  ..., -1.2936e-01,\n",
      "            2.9388e-01,  8.2769e-02],\n",
      "          [ 1.1385e-01,  9.5170e-02,  1.2472e-01,  ..., -2.6771e-01,\n",
      "           -2.2497e-01, -1.2009e-02],\n",
      "          ...,\n",
      "          [ 1.1385e-01,  9.5170e-02,  1.2472e-01,  ...,  1.2472e-01,\n",
      "            1.1108e-01,  8.8192e-02],\n",
      "          [ 1.1458e-01,  9.5400e-02,  1.2311e-01,  ...,  1.2311e-01,\n",
      "            1.2227e-01,  8.6575e-02],\n",
      "          [ 1.0344e-01,  6.8778e-02,  8.7486e-02,  ...,  8.7486e-02,\n",
      "            7.7600e-02,  7.5240e-02]],\n",
      "\n",
      "         [[ 1.6518e-01,  1.1561e-01,  1.1358e-01,  ...,  2.6501e-01,\n",
      "            1.5030e-01,  1.4535e-01],\n",
      "          [ 1.8393e-01,  1.3418e-01,  1.2798e-01,  ...,  6.5065e-01,\n",
      "           -2.1652e-01,  1.6632e-01],\n",
      "          [ 1.8452e-01,  1.3119e-01,  1.1540e-01,  ...,  5.0020e-01,\n",
      "           -3.5356e-01,  1.6464e-01],\n",
      "          ...,\n",
      "          [ 1.8452e-01,  1.3119e-01,  1.1540e-01,  ...,  1.1540e-01,\n",
      "            9.4284e-02,  1.3808e-01],\n",
      "          [ 1.7368e-01,  1.2330e-01,  1.0667e-01,  ...,  1.0667e-01,\n",
      "            8.5053e-02,  1.2862e-01],\n",
      "          [ 1.5197e-01,  1.3222e-01,  1.1971e-01,  ...,  1.1971e-01,\n",
      "            9.4645e-02,  1.1813e-01]],\n",
      "\n",
      "         [[ 7.1414e-03,  3.4123e-02,  3.0081e-02,  ...,  1.2536e-01,\n",
      "            2.3361e-01,  5.6827e-02],\n",
      "          [ 2.1121e-02,  3.9503e-02,  3.3083e-02,  ..., -3.8486e-02,\n",
      "            1.8943e-01, -4.2851e-02],\n",
      "          [ 1.4190e-02,  3.7757e-02,  2.5030e-02,  ..., -3.9629e-01,\n",
      "           -3.8317e-01, -1.9018e-01],\n",
      "          ...,\n",
      "          [ 1.4190e-02,  3.7757e-02,  2.5030e-02,  ...,  2.5030e-02,\n",
      "            2.2546e-02,  1.2514e-02],\n",
      "          [ 1.5943e-02,  2.3031e-02,  1.0768e-02,  ...,  1.0768e-02,\n",
      "            1.0827e-02, -3.7135e-03],\n",
      "          [-2.9554e-03,  1.9023e-04, -1.5672e-02,  ..., -1.5672e-02,\n",
      "           -3.2923e-02, -2.5817e-02]],\n",
      "\n",
      "         ...,\n",
      "\n",
      "         [[ 1.2682e-02, -4.4206e-03,  8.8675e-03,  ...,  5.3052e-02,\n",
      "           -1.8896e-01, -6.1272e-02],\n",
      "          [ 1.6372e-02, -2.3127e-03,  1.6507e-02,  ...,  9.8501e-02,\n",
      "           -6.8519e-01, -7.0830e-02],\n",
      "          [ 6.6286e-03, -3.2314e-03,  2.0181e-02,  ...,  3.0279e-01,\n",
      "           -7.0261e-01, -6.0543e-02],\n",
      "          ...,\n",
      "          [ 6.6286e-03, -3.2314e-03,  2.0181e-02,  ...,  2.0181e-02,\n",
      "            1.2987e-02,  1.8182e-02],\n",
      "          [ 1.1699e-02,  9.1277e-03,  2.5243e-02,  ...,  2.5243e-02,\n",
      "            1.6156e-02,  1.7131e-02],\n",
      "          [ 2.5457e-02,  2.2219e-02,  3.0910e-02,  ...,  3.0910e-02,\n",
      "            2.9329e-02,  1.8949e-02]],\n",
      "\n",
      "         [[ 9.8109e-02,  1.0648e-01,  1.0146e-01,  ...,  3.5859e-01,\n",
      "            3.3025e-01,  2.2146e-01],\n",
      "          [ 8.5670e-02,  1.0659e-01,  9.3382e-02,  ...,  5.2838e-01,\n",
      "            4.0017e-01,  3.6902e-01],\n",
      "          [ 1.0128e-01,  1.2163e-01,  1.1468e-01,  ...,  2.5887e-02,\n",
      "            4.5746e-01,  4.0270e-01],\n",
      "          ...,\n",
      "          [ 1.0128e-01,  1.2163e-01,  1.1468e-01,  ...,  1.1468e-01,\n",
      "            7.9005e-02,  9.8041e-02],\n",
      "          [ 9.6030e-02,  1.1514e-01,  1.0601e-01,  ...,  1.0601e-01,\n",
      "            7.8004e-02,  9.3612e-02],\n",
      "          [ 9.1278e-02,  8.0828e-02,  7.6232e-02,  ...,  7.6232e-02,\n",
      "            6.1681e-02,  8.6529e-02]],\n",
      "\n",
      "         [[-5.9428e-02, -3.8519e-02, -4.5007e-02,  ...,  7.0587e-02,\n",
      "           -2.5868e-01, -8.6926e-02],\n",
      "          [-7.6975e-02, -5.3847e-02, -5.6981e-02,  ...,  5.7859e-01,\n",
      "           -4.2858e-02, -1.9935e-02],\n",
      "          [-8.3795e-02, -5.8990e-02, -5.5038e-02,  ...,  7.0080e-01,\n",
      "            4.1112e-01,  1.0792e-01],\n",
      "          ...,\n",
      "          [-8.3795e-02, -5.8990e-02, -5.5038e-02,  ..., -5.5038e-02,\n",
      "           -5.0321e-02, -8.2967e-02],\n",
      "          [-6.7753e-02, -4.1749e-02, -3.0725e-02,  ..., -3.0725e-02,\n",
      "           -3.2635e-02, -7.2039e-02],\n",
      "          [-8.9569e-02, -9.4162e-02, -8.2283e-02,  ..., -8.2283e-02,\n",
      "           -7.6904e-02, -8.8344e-02]]]], device='cuda:0',\n",
      "       grad_fn=<AddBackward0>)\n",
      "spatial_features (cuda):  True\n",
      "nonspatial_features.shape:  torch.Size([2, 12])\n",
      "nonspatial_features:  tensor([[1.5791, 0.9915, 1.4072, 2.0989, 0.8158, 1.6136, 2.2179, 1.1149, 1.3247,\n",
      "         0.9805, 0.9840, 1.4391],\n",
      "        [1.8342, 1.2156, 0.8839, 1.9553, 0.7716, 1.8800, 2.1169, 1.3258, 1.0594,\n",
      "         1.1163, 0.8528, 1.6769]], device='cuda:0', grad_fn=<AddBackward0>)\n",
      "nonspatial_features (cuda):  True\n"
     ]
    },
    {
     "name": "stdout",
     "output_type": "stream",
     "text": [
      "probs:  tensor([[0.4194, 0.5806, 0.0000],\n",
      "        [0.3873, 0.6127, 0.0000]], device='cuda:0', grad_fn=<ExpBackward>)\n",
      "log_prob:  tensor([-0.5437, -0.4899], device='cuda:0', grad_fn=<IndexBackward>)\n",
      "action_id:  [7 7]\n"
     ]
    },
    {
     "ename": "ValueError",
     "evalue": "only one element tensors can be converted to Python scalars",
     "output_type": "error",
     "traceback": [
      "\u001b[0;31m---------------------------------------------------------------------------\u001b[0m",
      "\u001b[0;31mValueError\u001b[0m                                Traceback (most recent call last)",
      "\u001b[0;32m<ipython-input-12-e906a50e658f>\u001b[0m in \u001b[0;36m<module>\u001b[0;34m\u001b[0m\n\u001b[0;32m----> 1\u001b[0;31m \u001b[0magent\u001b[0m\u001b[0;34m.\u001b[0m\u001b[0mstep\u001b[0m\u001b[0;34m(\u001b[0m\u001b[0ms\u001b[0m\u001b[0;34m,\u001b[0m \u001b[0ma_mask\u001b[0m\u001b[0;34m)\u001b[0m\u001b[0;34m\u001b[0m\u001b[0;34m\u001b[0m\u001b[0m\n\u001b[0m",
      "\u001b[0;32m/m/home/home9/94/dainesn1/unix/Workdir/SC2-RL/AC_modules/BatchedA2C.py\u001b[0m in \u001b[0;36mstep\u001b[0;34m(self, state, action_mask)\u001b[0m\n\u001b[1;32m    116\u001b[0m         \u001b[0;32mif\u001b[0m \u001b[0mdebug\u001b[0m\u001b[0;34m:\u001b[0m \u001b[0mprint\u001b[0m\u001b[0;34m(\u001b[0m\u001b[0;34m\"action_id: \"\u001b[0m\u001b[0;34m,\u001b[0m \u001b[0maction_id\u001b[0m\u001b[0;34m)\u001b[0m\u001b[0;34m\u001b[0m\u001b[0;34m\u001b[0m\u001b[0m\n\u001b[1;32m    117\u001b[0m         \u001b[0;31m### Works untill here\u001b[0m\u001b[0;34m\u001b[0m\u001b[0;34m\u001b[0m\u001b[0;34m\u001b[0m\u001b[0m\n\u001b[0;32m--> 118\u001b[0;31m         \u001b[0margs\u001b[0m\u001b[0;34m,\u001b[0m \u001b[0margs_log_prob\u001b[0m \u001b[0;34m=\u001b[0m \u001b[0mself\u001b[0m\u001b[0;34m.\u001b[0m\u001b[0mget_arguments\u001b[0m\u001b[0;34m(\u001b[0m\u001b[0mspatial_features\u001b[0m\u001b[0;34m,\u001b[0m \u001b[0mnonspatial_features\u001b[0m\u001b[0;34m,\u001b[0m \u001b[0ma\u001b[0m\u001b[0;34m)\u001b[0m\u001b[0;34m\u001b[0m\u001b[0;34m\u001b[0m\u001b[0m\n\u001b[0m\u001b[1;32m    119\u001b[0m         \u001b[0;32mif\u001b[0m \u001b[0mdebug\u001b[0m\u001b[0;34m:\u001b[0m \u001b[0mprint\u001b[0m\u001b[0;34m(\u001b[0m\u001b[0;34m\"args: \"\u001b[0m\u001b[0;34m,\u001b[0m \u001b[0margs\u001b[0m\u001b[0;34m)\u001b[0m\u001b[0;34m\u001b[0m\u001b[0;34m\u001b[0m\u001b[0m\n\u001b[1;32m    120\u001b[0m \u001b[0;34m\u001b[0m\u001b[0m\n",
      "\u001b[0;32m/m/home/home9/94/dainesn1/unix/Workdir/SC2-RL/AC_modules/BatchedA2C.py\u001b[0m in \u001b[0;36mget_arguments\u001b[0;34m(self, spatial_features, nonspatial_features, action)\u001b[0m\n\u001b[1;32m    153\u001b[0m                 \u001b[0marg_sampled\u001b[0m\u001b[0;34m,\u001b[0m \u001b[0mlog_prob\u001b[0m\u001b[0;34m,\u001b[0m \u001b[0m_\u001b[0m \u001b[0;34m=\u001b[0m \u001b[0mself\u001b[0m\u001b[0;34m.\u001b[0m\u001b[0mAC\u001b[0m\u001b[0;34m.\u001b[0m\u001b[0msample_param\u001b[0m\u001b[0;34m(\u001b[0m\u001b[0mnonspatial_features\u001b[0m\u001b[0;34m,\u001b[0m \u001b[0marg_name\u001b[0m\u001b[0;34m)\u001b[0m\u001b[0;34m\u001b[0m\u001b[0;34m\u001b[0m\u001b[0m\n\u001b[1;32m    154\u001b[0m             \u001b[0;32melif\u001b[0m \u001b[0mself\u001b[0m\u001b[0;34m.\u001b[0m\u001b[0mAC\u001b[0m\u001b[0;34m.\u001b[0m\u001b[0marguments_type\u001b[0m\u001b[0;34m[\u001b[0m\u001b[0marg_name\u001b[0m\u001b[0;34m]\u001b[0m \u001b[0;34m==\u001b[0m \u001b[0;34m'spatial'\u001b[0m\u001b[0;34m:\u001b[0m\u001b[0;34m\u001b[0m\u001b[0;34m\u001b[0m\u001b[0m\n\u001b[0;32m--> 155\u001b[0;31m                 \u001b[0marg_sampled\u001b[0m\u001b[0;34m,\u001b[0m \u001b[0mlog_prob\u001b[0m\u001b[0;34m,\u001b[0m \u001b[0m_\u001b[0m \u001b[0;34m=\u001b[0m \u001b[0mself\u001b[0m\u001b[0;34m.\u001b[0m\u001b[0mAC\u001b[0m\u001b[0;34m.\u001b[0m\u001b[0msample_param\u001b[0m\u001b[0;34m(\u001b[0m\u001b[0mspatial_features\u001b[0m\u001b[0;34m,\u001b[0m \u001b[0marg_name\u001b[0m\u001b[0;34m)\u001b[0m\u001b[0;34m\u001b[0m\u001b[0;34m\u001b[0m\u001b[0m\n\u001b[0m\u001b[1;32m    156\u001b[0m             \u001b[0;32melse\u001b[0m\u001b[0;34m:\u001b[0m\u001b[0;34m\u001b[0m\u001b[0;34m\u001b[0m\u001b[0m\n\u001b[1;32m    157\u001b[0m                 \u001b[0;32mraise\u001b[0m \u001b[0mException\u001b[0m\u001b[0;34m(\u001b[0m\u001b[0;34m\"argument type for \"\u001b[0m\u001b[0;34m+\u001b[0m\u001b[0marg_name\u001b[0m\u001b[0;34m+\u001b[0m\u001b[0;34m\" not understood\"\u001b[0m\u001b[0;34m)\u001b[0m\u001b[0;34m\u001b[0m\u001b[0;34m\u001b[0m\u001b[0m\n",
      "\u001b[0;32m/m/home/home9/94/dainesn1/unix/Workdir/SC2-RL/AC_modules/ActorCriticArchitecture.py\u001b[0m in \u001b[0;36msample_param\u001b[0;34m(self, state_rep, arg_name)\u001b[0m\n\u001b[1;32m    135\u001b[0m         \u001b[0mnonspatial_features\u001b[0m \u001b[0motherwise\u001b[0m\u001b[0;34m.\u001b[0m\u001b[0;34m\u001b[0m\u001b[0;34m\u001b[0m\u001b[0m\n\u001b[1;32m    136\u001b[0m         \"\"\"\n\u001b[0;32m--> 137\u001b[0;31m         \u001b[0;32mreturn\u001b[0m \u001b[0mself\u001b[0m\u001b[0;34m.\u001b[0m\u001b[0marguments_networks\u001b[0m\u001b[0;34m[\u001b[0m\u001b[0marg_name\u001b[0m\u001b[0;34m]\u001b[0m\u001b[0;34m(\u001b[0m\u001b[0mstate_rep\u001b[0m\u001b[0;34m)\u001b[0m\u001b[0;34m\u001b[0m\u001b[0;34m\u001b[0m\u001b[0m\n\u001b[0m\u001b[1;32m    138\u001b[0m \u001b[0;34m\u001b[0m\u001b[0m\n\u001b[1;32m    139\u001b[0m     \u001b[0;31m#def get_action_mask(self, available_actions):\u001b[0m\u001b[0;34m\u001b[0m\u001b[0;34m\u001b[0m\u001b[0;34m\u001b[0m\u001b[0m\n",
      "\u001b[0;32m/m/work/modules/automatic/anaconda/envs/aalto-ubuntu1804-generic/software/anaconda/2020-01-tf2/5a34a04a/lib/python3.7/site-packages/torch/nn/modules/module.py\u001b[0m in \u001b[0;36m__call__\u001b[0;34m(self, *input, **kwargs)\u001b[0m\n\u001b[1;32m    539\u001b[0m             \u001b[0mresult\u001b[0m \u001b[0;34m=\u001b[0m \u001b[0mself\u001b[0m\u001b[0;34m.\u001b[0m\u001b[0m_slow_forward\u001b[0m\u001b[0;34m(\u001b[0m\u001b[0;34m*\u001b[0m\u001b[0minput\u001b[0m\u001b[0;34m,\u001b[0m \u001b[0;34m**\u001b[0m\u001b[0mkwargs\u001b[0m\u001b[0;34m)\u001b[0m\u001b[0;34m\u001b[0m\u001b[0;34m\u001b[0m\u001b[0m\n\u001b[1;32m    540\u001b[0m         \u001b[0;32melse\u001b[0m\u001b[0;34m:\u001b[0m\u001b[0;34m\u001b[0m\u001b[0;34m\u001b[0m\u001b[0m\n\u001b[0;32m--> 541\u001b[0;31m             \u001b[0mresult\u001b[0m \u001b[0;34m=\u001b[0m \u001b[0mself\u001b[0m\u001b[0;34m.\u001b[0m\u001b[0mforward\u001b[0m\u001b[0;34m(\u001b[0m\u001b[0;34m*\u001b[0m\u001b[0minput\u001b[0m\u001b[0;34m,\u001b[0m \u001b[0;34m**\u001b[0m\u001b[0mkwargs\u001b[0m\u001b[0;34m)\u001b[0m\u001b[0;34m\u001b[0m\u001b[0;34m\u001b[0m\u001b[0m\n\u001b[0m\u001b[1;32m    542\u001b[0m         \u001b[0;32mfor\u001b[0m \u001b[0mhook\u001b[0m \u001b[0;32min\u001b[0m \u001b[0mself\u001b[0m\u001b[0;34m.\u001b[0m\u001b[0m_forward_hooks\u001b[0m\u001b[0;34m.\u001b[0m\u001b[0mvalues\u001b[0m\u001b[0;34m(\u001b[0m\u001b[0;34m)\u001b[0m\u001b[0;34m:\u001b[0m\u001b[0;34m\u001b[0m\u001b[0;34m\u001b[0m\u001b[0m\n\u001b[1;32m    543\u001b[0m             \u001b[0mhook_result\u001b[0m \u001b[0;34m=\u001b[0m \u001b[0mhook\u001b[0m\u001b[0;34m(\u001b[0m\u001b[0mself\u001b[0m\u001b[0;34m,\u001b[0m \u001b[0minput\u001b[0m\u001b[0;34m,\u001b[0m \u001b[0mresult\u001b[0m\u001b[0;34m)\u001b[0m\u001b[0;34m\u001b[0m\u001b[0;34m\u001b[0m\u001b[0m\n",
      "\u001b[0;32m/m/home/home9/94/dainesn1/unix/Workdir/SC2-RL/AC_modules/Layers.py\u001b[0m in \u001b[0;36mforward\u001b[0;34m(self, x)\u001b[0m\n\u001b[1;32m    154\u001b[0m \u001b[0;34m\u001b[0m\u001b[0m\n\u001b[1;32m    155\u001b[0m         \u001b[0mdistribution\u001b[0m \u001b[0;34m=\u001b[0m \u001b[0mCategorical\u001b[0m\u001b[0;34m(\u001b[0m\u001b[0mprobs\u001b[0m\u001b[0;34m)\u001b[0m\u001b[0;34m\u001b[0m\u001b[0;34m\u001b[0m\u001b[0m\n\u001b[0;32m--> 156\u001b[0;31m         \u001b[0mindex\u001b[0m \u001b[0;34m=\u001b[0m \u001b[0mdistribution\u001b[0m\u001b[0;34m.\u001b[0m\u001b[0msample\u001b[0m\u001b[0;34m(\u001b[0m\u001b[0;34m)\u001b[0m\u001b[0;34m.\u001b[0m\u001b[0mitem\u001b[0m\u001b[0;34m(\u001b[0m\u001b[0;34m)\u001b[0m \u001b[0;31m# detaching it, is it okay? maybe...\u001b[0m\u001b[0;34m\u001b[0m\u001b[0;34m\u001b[0m\u001b[0m\n\u001b[0m\u001b[1;32m    157\u001b[0m         \u001b[0marg\u001b[0m \u001b[0;34m=\u001b[0m \u001b[0margs\u001b[0m\u001b[0;34m[\u001b[0m\u001b[0mindex\u001b[0m\u001b[0;34m]\u001b[0m \u001b[0;31m# and this are the sampled coordinates\u001b[0m\u001b[0;34m\u001b[0m\u001b[0;34m\u001b[0m\u001b[0m\n\u001b[1;32m    158\u001b[0m         \u001b[0marg\u001b[0m \u001b[0;34m=\u001b[0m \u001b[0mlist\u001b[0m\u001b[0;34m(\u001b[0m\u001b[0marg\u001b[0m\u001b[0;34m.\u001b[0m\u001b[0mdetach\u001b[0m\u001b[0;34m(\u001b[0m\u001b[0;34m)\u001b[0m\u001b[0;34m.\u001b[0m\u001b[0mnumpy\u001b[0m\u001b[0;34m(\u001b[0m\u001b[0;34m)\u001b[0m\u001b[0;34m)\u001b[0m\u001b[0;34m\u001b[0m\u001b[0;34m\u001b[0m\u001b[0m\n",
      "\u001b[0;31mValueError\u001b[0m: only one element tensors can be converted to Python scalars"
     ]
    }
   ],
   "source": [
    "agent.step(s, a_mask)"
   ]
  },
  {
   "cell_type": "code",
   "execution_count": null,
   "metadata": {},
   "outputs": [],
   "source": [
    "import torch\n",
    "import numpy as np"
   ]
  },
  {
   "cell_type": "code",
   "execution_count": 18,
   "metadata": {},
   "outputs": [
    {
     "data": {
      "text/plain": [
       "tensor([[0.9175, 0.8611, 0.8561],\n",
       "        [0.5384, 0.0359, 0.7425]])"
      ]
     },
     "execution_count": 18,
     "metadata": {},
     "output_type": "execute_result"
    }
   ],
   "source": [
    "t = torch.rand(2,3)\n",
    "t"
   ]
  },
  {
   "cell_type": "code",
   "execution_count": 19,
   "metadata": {},
   "outputs": [],
   "source": [
    "m = np.array([[False, False,  True],\n",
    "       [False, False,  True]])"
   ]
  },
  {
   "cell_type": "code",
   "execution_count": 20,
   "metadata": {},
   "outputs": [
    {
     "data": {
      "text/plain": [
       "tensor([0.8561, 0.7425])"
      ]
     },
     "execution_count": 20,
     "metadata": {},
     "output_type": "execute_result"
    }
   ],
   "source": [
    "t[torch.tensor(m)] "
   ]
  },
  {
   "cell_type": "code",
   "execution_count": null,
   "metadata": {},
   "outputs": [],
   "source": []
  }
 ],
 "metadata": {
  "kernelspec": {
   "display_name": "Python 3",
   "language": "python",
   "name": "python3"
  },
  "language_info": {
   "codemirror_mode": {
    "name": "ipython",
    "version": 3
   },
   "file_extension": ".py",
   "mimetype": "text/x-python",
   "name": "python",
   "nbconvert_exporter": "python",
   "pygments_lexer": "ipython3",
   "version": "3.7.6"
  }
 },
 "nbformat": 4,
 "nbformat_minor": 2
}
